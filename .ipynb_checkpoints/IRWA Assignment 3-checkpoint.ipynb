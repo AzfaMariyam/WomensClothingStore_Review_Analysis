{
 "cells": [
  {
   "cell_type": "markdown",
   "metadata": {},
   "source": [
    "# IRWA Assingment 3\n",
    "\n",
    "## Analysing Fashion Store Reviews\n",
    "## Predicting if review is positive or negative\n",
    "\n",
    "### Group members \n",
    "+ A.M. Azhar - IT18225570\n",
    "+ R.M.W.Gunathilake - IT18210620\n",
    "                    \n",
    "\n",
    "\n"
   ]
  },
  {
   "cell_type": "code",
   "execution_count": 82,
   "metadata": {},
   "outputs": [
    {
     "name": "stderr",
     "output_type": "stream",
     "text": [
      "[nltk_data] Downloading package stopwords to\n",
      "[nltk_data]     C:\\Users\\Ruvindi/nltk_data...\n",
      "[nltk_data]   Package stopwords is already up-to-date!\n"
     ]
    },
    {
     "data": {
      "text/plain": [
       "True"
      ]
     },
     "execution_count": 82,
     "metadata": {},
     "output_type": "execute_result"
    }
   ],
   "source": [
    "# Importing Libraries \n",
    "import numpy as np   \n",
    "import pandas as pd  \n",
    "  \n",
    "# Import dataset \n",
    "dataset = pd.read_csv('WomensClothingReviews.csv')  \n",
    "\n",
    "import re  \n",
    "# Natural Language Tool Kit \n",
    "import nltk  \n",
    "\n",
    "\n",
    "#To tokenize the corpus\n",
    "from nltk import word_tokenize\n",
    "  \n",
    "nltk.download('stopwords') "
   ]
  },
  {
   "cell_type": "code",
   "execution_count": 2,
   "metadata": {},
   "outputs": [
    {
     "data": {
      "text/html": [
       "<div>\n",
       "<style scoped>\n",
       "    .dataframe tbody tr th:only-of-type {\n",
       "        vertical-align: middle;\n",
       "    }\n",
       "\n",
       "    .dataframe tbody tr th {\n",
       "        vertical-align: top;\n",
       "    }\n",
       "\n",
       "    .dataframe thead th {\n",
       "        text-align: right;\n",
       "    }\n",
       "</style>\n",
       "<table border=\"1\" class=\"dataframe\">\n",
       "  <thead>\n",
       "    <tr style=\"text-align: right;\">\n",
       "      <th></th>\n",
       "      <th>Unnamed: 0</th>\n",
       "      <th>Clothing ID</th>\n",
       "      <th>Age</th>\n",
       "      <th>Title</th>\n",
       "      <th>Review Text</th>\n",
       "      <th>Rating</th>\n",
       "      <th>Recommended IND</th>\n",
       "      <th>Positive Feedback Count</th>\n",
       "      <th>Division Name</th>\n",
       "      <th>Department Name</th>\n",
       "      <th>Class Name</th>\n",
       "    </tr>\n",
       "  </thead>\n",
       "  <tbody>\n",
       "    <tr>\n",
       "      <th>0</th>\n",
       "      <td>0</td>\n",
       "      <td>767</td>\n",
       "      <td>33</td>\n",
       "      <td>NaN</td>\n",
       "      <td>Absolutely wonderful - silky and sexy and comf...</td>\n",
       "      <td>4</td>\n",
       "      <td>1</td>\n",
       "      <td>0</td>\n",
       "      <td>Initmates</td>\n",
       "      <td>Intimate</td>\n",
       "      <td>Intimates</td>\n",
       "    </tr>\n",
       "    <tr>\n",
       "      <th>1</th>\n",
       "      <td>1</td>\n",
       "      <td>1080</td>\n",
       "      <td>34</td>\n",
       "      <td>NaN</td>\n",
       "      <td>Love this dress!  it's sooo pretty.  i happene...</td>\n",
       "      <td>5</td>\n",
       "      <td>1</td>\n",
       "      <td>4</td>\n",
       "      <td>General</td>\n",
       "      <td>Dresses</td>\n",
       "      <td>Dresses</td>\n",
       "    </tr>\n",
       "    <tr>\n",
       "      <th>2</th>\n",
       "      <td>2</td>\n",
       "      <td>1077</td>\n",
       "      <td>60</td>\n",
       "      <td>Some major design flaws</td>\n",
       "      <td>I had such high hopes for this dress and reall...</td>\n",
       "      <td>3</td>\n",
       "      <td>0</td>\n",
       "      <td>0</td>\n",
       "      <td>General</td>\n",
       "      <td>Dresses</td>\n",
       "      <td>Dresses</td>\n",
       "    </tr>\n",
       "    <tr>\n",
       "      <th>3</th>\n",
       "      <td>3</td>\n",
       "      <td>1049</td>\n",
       "      <td>50</td>\n",
       "      <td>My favorite buy!</td>\n",
       "      <td>I love, love, love this jumpsuit. it's fun, fl...</td>\n",
       "      <td>5</td>\n",
       "      <td>1</td>\n",
       "      <td>0</td>\n",
       "      <td>General Petite</td>\n",
       "      <td>Bottoms</td>\n",
       "      <td>Pants</td>\n",
       "    </tr>\n",
       "    <tr>\n",
       "      <th>4</th>\n",
       "      <td>4</td>\n",
       "      <td>847</td>\n",
       "      <td>47</td>\n",
       "      <td>Flattering shirt</td>\n",
       "      <td>This shirt is very flattering to all due to th...</td>\n",
       "      <td>5</td>\n",
       "      <td>1</td>\n",
       "      <td>6</td>\n",
       "      <td>General</td>\n",
       "      <td>Tops</td>\n",
       "      <td>Blouses</td>\n",
       "    </tr>\n",
       "  </tbody>\n",
       "</table>\n",
       "</div>"
      ],
      "text/plain": [
       "   Unnamed: 0  Clothing ID  Age                    Title  \\\n",
       "0           0          767   33                      NaN   \n",
       "1           1         1080   34                      NaN   \n",
       "2           2         1077   60  Some major design flaws   \n",
       "3           3         1049   50         My favorite buy!   \n",
       "4           4          847   47         Flattering shirt   \n",
       "\n",
       "                                         Review Text  Rating  Recommended IND  \\\n",
       "0  Absolutely wonderful - silky and sexy and comf...       4                1   \n",
       "1  Love this dress!  it's sooo pretty.  i happene...       5                1   \n",
       "2  I had such high hopes for this dress and reall...       3                0   \n",
       "3  I love, love, love this jumpsuit. it's fun, fl...       5                1   \n",
       "4  This shirt is very flattering to all due to th...       5                1   \n",
       "\n",
       "   Positive Feedback Count   Division Name Department Name Class Name  \n",
       "0                        0       Initmates        Intimate  Intimates  \n",
       "1                        4         General         Dresses    Dresses  \n",
       "2                        0         General         Dresses    Dresses  \n",
       "3                        0  General Petite         Bottoms      Pants  \n",
       "4                        6         General            Tops    Blouses  "
      ]
     },
     "execution_count": 2,
     "metadata": {},
     "output_type": "execute_result"
    }
   ],
   "source": [
    "dataset.head()"
   ]
  },
  {
   "cell_type": "code",
   "execution_count": 3,
   "metadata": {},
   "outputs": [
    {
     "name": "stdout",
     "output_type": "stream",
     "text": [
      "(23486, 11)\n"
     ]
    }
   ],
   "source": [
    "print(dataset.shape)"
   ]
  },
  {
   "cell_type": "code",
   "execution_count": 4,
   "metadata": {},
   "outputs": [
    {
     "data": {
      "text/plain": [
       "Dresses           6319\n",
       "Knits             4843\n",
       "Blouses           3097\n",
       "Sweaters          1428\n",
       "Pants             1388\n",
       "Jeans             1147\n",
       "Fine gauge        1100\n",
       "Skirts             945\n",
       "Jackets            704\n",
       "Lounge             691\n",
       "Swim               350\n",
       "Outerwear          328\n",
       "Shorts             317\n",
       "Sleep              228\n",
       "Legwear            165\n",
       "Intimates          154\n",
       "Layering           146\n",
       "Trend              119\n",
       "Casual bottoms       2\n",
       "Chemises             1\n",
       "Name: Class Name, dtype: int64"
      ]
     },
     "execution_count": 4,
     "metadata": {},
     "output_type": "execute_result"
    }
   ],
   "source": [
    "dataset['Class Name'].value_counts()"
   ]
  },
  {
   "cell_type": "code",
   "execution_count": 5,
   "metadata": {},
   "outputs": [
    {
     "data": {
      "text/plain": [
       "Unnamed: 0                    0\n",
       "Clothing ID                   0\n",
       "Age                           0\n",
       "Title                      3810\n",
       "Review Text                 845\n",
       "Rating                        0\n",
       "Recommended IND               0\n",
       "Positive Feedback Count       0\n",
       "Division Name                14\n",
       "Department Name              14\n",
       "Class Name                   14\n",
       "dtype: int64"
      ]
     },
     "execution_count": 5,
     "metadata": {},
     "output_type": "execute_result"
    }
   ],
   "source": [
    "#check the number of null values in our dataset\n",
    "dataset.isnull().sum() "
   ]
  },
  {
   "cell_type": "code",
   "execution_count": 6,
   "metadata": {},
   "outputs": [],
   "source": [
    "#4. removing special characters \n",
    "\n",
    "spec_chars = [\"!\",'\"',\"#\",\"%\",\"&\",\"'\",\"(\",\")\",\n",
    "              \"*\",\"+\",\",\",\"-\",\".\",\"/\",\":\",\";\",\"<\",\n",
    "              \"=\",\">\",\"?\",\"@\",\"[\",\"\\\\\",\"]\",\"^\",\"_\",\n",
    "              \"`\",\"{\",\"|\",\"}\",\"~\",\"–\", \".\"]\n",
    "for char in spec_chars:\n",
    "    dataset['Review Text'] = dataset['Review Text'].str.replace(char, ' ')\n",
    "    \n",
    "    \n",
    "dataset['Review Text'] = dataset['Review Text'].str.split().str.join(\" \")"
   ]
  },
  {
   "cell_type": "code",
   "execution_count": 7,
   "metadata": {},
   "outputs": [
    {
     "data": {
      "text/html": [
       "<div>\n",
       "<style scoped>\n",
       "    .dataframe tbody tr th:only-of-type {\n",
       "        vertical-align: middle;\n",
       "    }\n",
       "\n",
       "    .dataframe tbody tr th {\n",
       "        vertical-align: top;\n",
       "    }\n",
       "\n",
       "    .dataframe thead th {\n",
       "        text-align: right;\n",
       "    }\n",
       "</style>\n",
       "<table border=\"1\" class=\"dataframe\">\n",
       "  <thead>\n",
       "    <tr style=\"text-align: right;\">\n",
       "      <th></th>\n",
       "      <th>Unnamed: 0</th>\n",
       "      <th>Clothing ID</th>\n",
       "      <th>Age</th>\n",
       "      <th>Title</th>\n",
       "      <th>Review Text</th>\n",
       "      <th>Rating</th>\n",
       "      <th>Recommended IND</th>\n",
       "      <th>Positive Feedback Count</th>\n",
       "      <th>Division Name</th>\n",
       "      <th>Department Name</th>\n",
       "      <th>Class Name</th>\n",
       "    </tr>\n",
       "  </thead>\n",
       "  <tbody>\n",
       "    <tr>\n",
       "      <th>0</th>\n",
       "      <td>0</td>\n",
       "      <td>767</td>\n",
       "      <td>33</td>\n",
       "      <td>NaN</td>\n",
       "      <td>Absolutely wonderful silky and sexy and comfor...</td>\n",
       "      <td>4</td>\n",
       "      <td>1</td>\n",
       "      <td>0</td>\n",
       "      <td>Initmates</td>\n",
       "      <td>Intimate</td>\n",
       "      <td>Intimates</td>\n",
       "    </tr>\n",
       "    <tr>\n",
       "      <th>1</th>\n",
       "      <td>1</td>\n",
       "      <td>1080</td>\n",
       "      <td>34</td>\n",
       "      <td>NaN</td>\n",
       "      <td>Love this dress it s sooo pretty i happened to...</td>\n",
       "      <td>5</td>\n",
       "      <td>1</td>\n",
       "      <td>4</td>\n",
       "      <td>General</td>\n",
       "      <td>Dresses</td>\n",
       "      <td>Dresses</td>\n",
       "    </tr>\n",
       "    <tr>\n",
       "      <th>2</th>\n",
       "      <td>2</td>\n",
       "      <td>1077</td>\n",
       "      <td>60</td>\n",
       "      <td>Some major design flaws</td>\n",
       "      <td>I had such high hopes for this dress and reall...</td>\n",
       "      <td>3</td>\n",
       "      <td>0</td>\n",
       "      <td>0</td>\n",
       "      <td>General</td>\n",
       "      <td>Dresses</td>\n",
       "      <td>Dresses</td>\n",
       "    </tr>\n",
       "    <tr>\n",
       "      <th>3</th>\n",
       "      <td>3</td>\n",
       "      <td>1049</td>\n",
       "      <td>50</td>\n",
       "      <td>My favorite buy!</td>\n",
       "      <td>I love love love this jumpsuit it s fun flirty...</td>\n",
       "      <td>5</td>\n",
       "      <td>1</td>\n",
       "      <td>0</td>\n",
       "      <td>General Petite</td>\n",
       "      <td>Bottoms</td>\n",
       "      <td>Pants</td>\n",
       "    </tr>\n",
       "    <tr>\n",
       "      <th>4</th>\n",
       "      <td>4</td>\n",
       "      <td>847</td>\n",
       "      <td>47</td>\n",
       "      <td>Flattering shirt</td>\n",
       "      <td>This shirt is very flattering to all due to th...</td>\n",
       "      <td>5</td>\n",
       "      <td>1</td>\n",
       "      <td>6</td>\n",
       "      <td>General</td>\n",
       "      <td>Tops</td>\n",
       "      <td>Blouses</td>\n",
       "    </tr>\n",
       "  </tbody>\n",
       "</table>\n",
       "</div>"
      ],
      "text/plain": [
       "   Unnamed: 0  Clothing ID  Age                    Title  \\\n",
       "0           0          767   33                      NaN   \n",
       "1           1         1080   34                      NaN   \n",
       "2           2         1077   60  Some major design flaws   \n",
       "3           3         1049   50         My favorite buy!   \n",
       "4           4          847   47         Flattering shirt   \n",
       "\n",
       "                                         Review Text  Rating  Recommended IND  \\\n",
       "0  Absolutely wonderful silky and sexy and comfor...       4                1   \n",
       "1  Love this dress it s sooo pretty i happened to...       5                1   \n",
       "2  I had such high hopes for this dress and reall...       3                0   \n",
       "3  I love love love this jumpsuit it s fun flirty...       5                1   \n",
       "4  This shirt is very flattering to all due to th...       5                1   \n",
       "\n",
       "   Positive Feedback Count   Division Name Department Name Class Name  \n",
       "0                        0       Initmates        Intimate  Intimates  \n",
       "1                        4         General         Dresses    Dresses  \n",
       "2                        0         General         Dresses    Dresses  \n",
       "3                        0  General Petite         Bottoms      Pants  \n",
       "4                        6         General            Tops    Blouses  "
      ]
     },
     "execution_count": 7,
     "metadata": {},
     "output_type": "execute_result"
    }
   ],
   "source": [
    "dataset.head()"
   ]
  },
  {
   "cell_type": "code",
   "execution_count": 8,
   "metadata": {},
   "outputs": [],
   "source": [
    "#4. Removing numbers from dataset\n",
    "\n",
    "dataset['Review Text'] = dataset['Review Text'].str.replace('\\d+', '')\n"
   ]
  },
  {
   "cell_type": "code",
   "execution_count": 9,
   "metadata": {},
   "outputs": [
    {
     "data": {
      "text/html": [
       "<div>\n",
       "<style scoped>\n",
       "    .dataframe tbody tr th:only-of-type {\n",
       "        vertical-align: middle;\n",
       "    }\n",
       "\n",
       "    .dataframe tbody tr th {\n",
       "        vertical-align: top;\n",
       "    }\n",
       "\n",
       "    .dataframe thead th {\n",
       "        text-align: right;\n",
       "    }\n",
       "</style>\n",
       "<table border=\"1\" class=\"dataframe\">\n",
       "  <thead>\n",
       "    <tr style=\"text-align: right;\">\n",
       "      <th></th>\n",
       "      <th>Unnamed: 0</th>\n",
       "      <th>Clothing ID</th>\n",
       "      <th>Age</th>\n",
       "      <th>Title</th>\n",
       "      <th>Review Text</th>\n",
       "      <th>Rating</th>\n",
       "      <th>Recommended IND</th>\n",
       "      <th>Positive Feedback Count</th>\n",
       "      <th>Division Name</th>\n",
       "      <th>Department Name</th>\n",
       "      <th>Class Name</th>\n",
       "    </tr>\n",
       "  </thead>\n",
       "  <tbody>\n",
       "    <tr>\n",
       "      <th>0</th>\n",
       "      <td>0</td>\n",
       "      <td>767</td>\n",
       "      <td>33</td>\n",
       "      <td>NaN</td>\n",
       "      <td>Absolutely wonderful silky and sexy and comfor...</td>\n",
       "      <td>4</td>\n",
       "      <td>1</td>\n",
       "      <td>0</td>\n",
       "      <td>Initmates</td>\n",
       "      <td>Intimate</td>\n",
       "      <td>Intimates</td>\n",
       "    </tr>\n",
       "    <tr>\n",
       "      <th>1</th>\n",
       "      <td>1</td>\n",
       "      <td>1080</td>\n",
       "      <td>34</td>\n",
       "      <td>NaN</td>\n",
       "      <td>Love this dress it s sooo pretty i happened to...</td>\n",
       "      <td>5</td>\n",
       "      <td>1</td>\n",
       "      <td>4</td>\n",
       "      <td>General</td>\n",
       "      <td>Dresses</td>\n",
       "      <td>Dresses</td>\n",
       "    </tr>\n",
       "    <tr>\n",
       "      <th>2</th>\n",
       "      <td>2</td>\n",
       "      <td>1077</td>\n",
       "      <td>60</td>\n",
       "      <td>Some major design flaws</td>\n",
       "      <td>I had such high hopes for this dress and reall...</td>\n",
       "      <td>3</td>\n",
       "      <td>0</td>\n",
       "      <td>0</td>\n",
       "      <td>General</td>\n",
       "      <td>Dresses</td>\n",
       "      <td>Dresses</td>\n",
       "    </tr>\n",
       "    <tr>\n",
       "      <th>3</th>\n",
       "      <td>3</td>\n",
       "      <td>1049</td>\n",
       "      <td>50</td>\n",
       "      <td>My favorite buy!</td>\n",
       "      <td>I love love love this jumpsuit it s fun flirty...</td>\n",
       "      <td>5</td>\n",
       "      <td>1</td>\n",
       "      <td>0</td>\n",
       "      <td>General Petite</td>\n",
       "      <td>Bottoms</td>\n",
       "      <td>Pants</td>\n",
       "    </tr>\n",
       "    <tr>\n",
       "      <th>4</th>\n",
       "      <td>4</td>\n",
       "      <td>847</td>\n",
       "      <td>47</td>\n",
       "      <td>Flattering shirt</td>\n",
       "      <td>This shirt is very flattering to all due to th...</td>\n",
       "      <td>5</td>\n",
       "      <td>1</td>\n",
       "      <td>6</td>\n",
       "      <td>General</td>\n",
       "      <td>Tops</td>\n",
       "      <td>Blouses</td>\n",
       "    </tr>\n",
       "  </tbody>\n",
       "</table>\n",
       "</div>"
      ],
      "text/plain": [
       "   Unnamed: 0  Clothing ID  Age                    Title  \\\n",
       "0           0          767   33                      NaN   \n",
       "1           1         1080   34                      NaN   \n",
       "2           2         1077   60  Some major design flaws   \n",
       "3           3         1049   50         My favorite buy!   \n",
       "4           4          847   47         Flattering shirt   \n",
       "\n",
       "                                         Review Text  Rating  Recommended IND  \\\n",
       "0  Absolutely wonderful silky and sexy and comfor...       4                1   \n",
       "1  Love this dress it s sooo pretty i happened to...       5                1   \n",
       "2  I had such high hopes for this dress and reall...       3                0   \n",
       "3  I love love love this jumpsuit it s fun flirty...       5                1   \n",
       "4  This shirt is very flattering to all due to th...       5                1   \n",
       "\n",
       "   Positive Feedback Count   Division Name Department Name Class Name  \n",
       "0                        0       Initmates        Intimate  Intimates  \n",
       "1                        4         General         Dresses    Dresses  \n",
       "2                        0         General         Dresses    Dresses  \n",
       "3                        0  General Petite         Bottoms      Pants  \n",
       "4                        6         General            Tops    Blouses  "
      ]
     },
     "execution_count": 9,
     "metadata": {},
     "output_type": "execute_result"
    }
   ],
   "source": [
    "dataset.head()"
   ]
  },
  {
   "cell_type": "code",
   "execution_count": 10,
   "metadata": {},
   "outputs": [],
   "source": [
    "#removing null values\n",
    "dataset = dataset.dropna(subset=['Review Text'])"
   ]
  },
  {
   "cell_type": "code",
   "execution_count": 11,
   "metadata": {},
   "outputs": [
    {
     "data": {
      "text/plain": [
       "Unnamed: 0                    0\n",
       "Clothing ID                   0\n",
       "Age                           0\n",
       "Title                      2966\n",
       "Review Text                   0\n",
       "Rating                        0\n",
       "Recommended IND               0\n",
       "Positive Feedback Count       0\n",
       "Division Name                13\n",
       "Department Name              13\n",
       "Class Name                   13\n",
       "dtype: int64"
      ]
     },
     "execution_count": 11,
     "metadata": {},
     "output_type": "execute_result"
    }
   ],
   "source": [
    "#check the number of null values in our dataset\n",
    "dataset.isnull().sum() "
   ]
  },
  {
   "cell_type": "code",
   "execution_count": 12,
   "metadata": {},
   "outputs": [],
   "source": [
    "#convert text to lowercase\n",
    "dataset[\"Review Text\"] = dataset[\"Review Text\"].str.lower()"
   ]
  },
  {
   "cell_type": "code",
   "execution_count": 13,
   "metadata": {},
   "outputs": [
    {
     "data": {
      "text/html": [
       "<div>\n",
       "<style scoped>\n",
       "    .dataframe tbody tr th:only-of-type {\n",
       "        vertical-align: middle;\n",
       "    }\n",
       "\n",
       "    .dataframe tbody tr th {\n",
       "        vertical-align: top;\n",
       "    }\n",
       "\n",
       "    .dataframe thead th {\n",
       "        text-align: right;\n",
       "    }\n",
       "</style>\n",
       "<table border=\"1\" class=\"dataframe\">\n",
       "  <thead>\n",
       "    <tr style=\"text-align: right;\">\n",
       "      <th></th>\n",
       "      <th>Unnamed: 0</th>\n",
       "      <th>Clothing ID</th>\n",
       "      <th>Age</th>\n",
       "      <th>Title</th>\n",
       "      <th>Review Text</th>\n",
       "      <th>Rating</th>\n",
       "      <th>Recommended IND</th>\n",
       "      <th>Positive Feedback Count</th>\n",
       "      <th>Division Name</th>\n",
       "      <th>Department Name</th>\n",
       "      <th>Class Name</th>\n",
       "    </tr>\n",
       "  </thead>\n",
       "  <tbody>\n",
       "    <tr>\n",
       "      <th>0</th>\n",
       "      <td>0</td>\n",
       "      <td>767</td>\n",
       "      <td>33</td>\n",
       "      <td>NaN</td>\n",
       "      <td>absolutely wonderful silky and sexy and comfor...</td>\n",
       "      <td>4</td>\n",
       "      <td>1</td>\n",
       "      <td>0</td>\n",
       "      <td>Initmates</td>\n",
       "      <td>Intimate</td>\n",
       "      <td>Intimates</td>\n",
       "    </tr>\n",
       "    <tr>\n",
       "      <th>1</th>\n",
       "      <td>1</td>\n",
       "      <td>1080</td>\n",
       "      <td>34</td>\n",
       "      <td>NaN</td>\n",
       "      <td>love this dress it s sooo pretty i happened to...</td>\n",
       "      <td>5</td>\n",
       "      <td>1</td>\n",
       "      <td>4</td>\n",
       "      <td>General</td>\n",
       "      <td>Dresses</td>\n",
       "      <td>Dresses</td>\n",
       "    </tr>\n",
       "    <tr>\n",
       "      <th>2</th>\n",
       "      <td>2</td>\n",
       "      <td>1077</td>\n",
       "      <td>60</td>\n",
       "      <td>Some major design flaws</td>\n",
       "      <td>i had such high hopes for this dress and reall...</td>\n",
       "      <td>3</td>\n",
       "      <td>0</td>\n",
       "      <td>0</td>\n",
       "      <td>General</td>\n",
       "      <td>Dresses</td>\n",
       "      <td>Dresses</td>\n",
       "    </tr>\n",
       "    <tr>\n",
       "      <th>3</th>\n",
       "      <td>3</td>\n",
       "      <td>1049</td>\n",
       "      <td>50</td>\n",
       "      <td>My favorite buy!</td>\n",
       "      <td>i love love love this jumpsuit it s fun flirty...</td>\n",
       "      <td>5</td>\n",
       "      <td>1</td>\n",
       "      <td>0</td>\n",
       "      <td>General Petite</td>\n",
       "      <td>Bottoms</td>\n",
       "      <td>Pants</td>\n",
       "    </tr>\n",
       "    <tr>\n",
       "      <th>4</th>\n",
       "      <td>4</td>\n",
       "      <td>847</td>\n",
       "      <td>47</td>\n",
       "      <td>Flattering shirt</td>\n",
       "      <td>this shirt is very flattering to all due to th...</td>\n",
       "      <td>5</td>\n",
       "      <td>1</td>\n",
       "      <td>6</td>\n",
       "      <td>General</td>\n",
       "      <td>Tops</td>\n",
       "      <td>Blouses</td>\n",
       "    </tr>\n",
       "  </tbody>\n",
       "</table>\n",
       "</div>"
      ],
      "text/plain": [
       "   Unnamed: 0  Clothing ID  Age                    Title  \\\n",
       "0           0          767   33                      NaN   \n",
       "1           1         1080   34                      NaN   \n",
       "2           2         1077   60  Some major design flaws   \n",
       "3           3         1049   50         My favorite buy!   \n",
       "4           4          847   47         Flattering shirt   \n",
       "\n",
       "                                         Review Text  Rating  Recommended IND  \\\n",
       "0  absolutely wonderful silky and sexy and comfor...       4                1   \n",
       "1  love this dress it s sooo pretty i happened to...       5                1   \n",
       "2  i had such high hopes for this dress and reall...       3                0   \n",
       "3  i love love love this jumpsuit it s fun flirty...       5                1   \n",
       "4  this shirt is very flattering to all due to th...       5                1   \n",
       "\n",
       "   Positive Feedback Count   Division Name Department Name Class Name  \n",
       "0                        0       Initmates        Intimate  Intimates  \n",
       "1                        4         General         Dresses    Dresses  \n",
       "2                        0         General         Dresses    Dresses  \n",
       "3                        0  General Petite         Bottoms      Pants  \n",
       "4                        6         General            Tops    Blouses  "
      ]
     },
     "execution_count": 13,
     "metadata": {},
     "output_type": "execute_result"
    }
   ],
   "source": [
    "dataset.head()"
   ]
  },
  {
   "cell_type": "code",
   "execution_count": 14,
   "metadata": {},
   "outputs": [],
   "source": [
    "#5.\tTokenize the corpus\n",
    "\n",
    "import pandas as pd\n",
    "from nltk import word_tokenize\n",
    "\n",
    "try:\n",
    "    dataset['Review Text'] = dataset.apply(lambda row: nltk.word_tokenize(row['Review Text']), axis=1)\n",
    "except TypeError:\n",
    "    pass\n"
   ]
  },
  {
   "cell_type": "code",
   "execution_count": 15,
   "metadata": {},
   "outputs": [
    {
     "data": {
      "text/html": [
       "<div>\n",
       "<style scoped>\n",
       "    .dataframe tbody tr th:only-of-type {\n",
       "        vertical-align: middle;\n",
       "    }\n",
       "\n",
       "    .dataframe tbody tr th {\n",
       "        vertical-align: top;\n",
       "    }\n",
       "\n",
       "    .dataframe thead th {\n",
       "        text-align: right;\n",
       "    }\n",
       "</style>\n",
       "<table border=\"1\" class=\"dataframe\">\n",
       "  <thead>\n",
       "    <tr style=\"text-align: right;\">\n",
       "      <th></th>\n",
       "      <th>Unnamed: 0</th>\n",
       "      <th>Clothing ID</th>\n",
       "      <th>Age</th>\n",
       "      <th>Title</th>\n",
       "      <th>Review Text</th>\n",
       "      <th>Rating</th>\n",
       "      <th>Recommended IND</th>\n",
       "      <th>Positive Feedback Count</th>\n",
       "      <th>Division Name</th>\n",
       "      <th>Department Name</th>\n",
       "      <th>Class Name</th>\n",
       "    </tr>\n",
       "  </thead>\n",
       "  <tbody>\n",
       "    <tr>\n",
       "      <th>0</th>\n",
       "      <td>0</td>\n",
       "      <td>767</td>\n",
       "      <td>33</td>\n",
       "      <td>NaN</td>\n",
       "      <td>[absolutely, wonderful, silky, and, sexy, and,...</td>\n",
       "      <td>4</td>\n",
       "      <td>1</td>\n",
       "      <td>0</td>\n",
       "      <td>Initmates</td>\n",
       "      <td>Intimate</td>\n",
       "      <td>Intimates</td>\n",
       "    </tr>\n",
       "    <tr>\n",
       "      <th>1</th>\n",
       "      <td>1</td>\n",
       "      <td>1080</td>\n",
       "      <td>34</td>\n",
       "      <td>NaN</td>\n",
       "      <td>[love, this, dress, it, s, sooo, pretty, i, ha...</td>\n",
       "      <td>5</td>\n",
       "      <td>1</td>\n",
       "      <td>4</td>\n",
       "      <td>General</td>\n",
       "      <td>Dresses</td>\n",
       "      <td>Dresses</td>\n",
       "    </tr>\n",
       "    <tr>\n",
       "      <th>2</th>\n",
       "      <td>2</td>\n",
       "      <td>1077</td>\n",
       "      <td>60</td>\n",
       "      <td>Some major design flaws</td>\n",
       "      <td>[i, had, such, high, hopes, for, this, dress, ...</td>\n",
       "      <td>3</td>\n",
       "      <td>0</td>\n",
       "      <td>0</td>\n",
       "      <td>General</td>\n",
       "      <td>Dresses</td>\n",
       "      <td>Dresses</td>\n",
       "    </tr>\n",
       "    <tr>\n",
       "      <th>3</th>\n",
       "      <td>3</td>\n",
       "      <td>1049</td>\n",
       "      <td>50</td>\n",
       "      <td>My favorite buy!</td>\n",
       "      <td>[i, love, love, love, this, jumpsuit, it, s, f...</td>\n",
       "      <td>5</td>\n",
       "      <td>1</td>\n",
       "      <td>0</td>\n",
       "      <td>General Petite</td>\n",
       "      <td>Bottoms</td>\n",
       "      <td>Pants</td>\n",
       "    </tr>\n",
       "    <tr>\n",
       "      <th>4</th>\n",
       "      <td>4</td>\n",
       "      <td>847</td>\n",
       "      <td>47</td>\n",
       "      <td>Flattering shirt</td>\n",
       "      <td>[this, shirt, is, very, flattering, to, all, d...</td>\n",
       "      <td>5</td>\n",
       "      <td>1</td>\n",
       "      <td>6</td>\n",
       "      <td>General</td>\n",
       "      <td>Tops</td>\n",
       "      <td>Blouses</td>\n",
       "    </tr>\n",
       "  </tbody>\n",
       "</table>\n",
       "</div>"
      ],
      "text/plain": [
       "   Unnamed: 0  Clothing ID  Age                    Title  \\\n",
       "0           0          767   33                      NaN   \n",
       "1           1         1080   34                      NaN   \n",
       "2           2         1077   60  Some major design flaws   \n",
       "3           3         1049   50         My favorite buy!   \n",
       "4           4          847   47         Flattering shirt   \n",
       "\n",
       "                                         Review Text  Rating  Recommended IND  \\\n",
       "0  [absolutely, wonderful, silky, and, sexy, and,...       4                1   \n",
       "1  [love, this, dress, it, s, sooo, pretty, i, ha...       5                1   \n",
       "2  [i, had, such, high, hopes, for, this, dress, ...       3                0   \n",
       "3  [i, love, love, love, this, jumpsuit, it, s, f...       5                1   \n",
       "4  [this, shirt, is, very, flattering, to, all, d...       5                1   \n",
       "\n",
       "   Positive Feedback Count   Division Name Department Name Class Name  \n",
       "0                        0       Initmates        Intimate  Intimates  \n",
       "1                        4         General         Dresses    Dresses  \n",
       "2                        0         General         Dresses    Dresses  \n",
       "3                        0  General Petite         Bottoms      Pants  \n",
       "4                        6         General            Tops    Blouses  "
      ]
     },
     "execution_count": 15,
     "metadata": {},
     "output_type": "execute_result"
    }
   ],
   "source": [
    "dataset.head()"
   ]
  },
  {
   "cell_type": "code",
   "execution_count": 16,
   "metadata": {},
   "outputs": [
    {
     "name": "stdout",
     "output_type": "stream",
     "text": [
      "['i', 'me', 'my', 'myself', 'we', 'our', 'ours', 'ourselves', 'you', \"you're\", \"you've\", \"you'll\", \"you'd\", 'your', 'yours', 'yourself', 'yourselves', 'he', 'him', 'his', 'himself', 'she', \"she's\", 'her', 'hers', 'herself', 'it', \"it's\", 'its', 'itself', 'they', 'them', 'their', 'theirs', 'themselves', 'what', 'which', 'who', 'whom', 'this', 'that', \"that'll\", 'these', 'those', 'am', 'is', 'are', 'was', 'were', 'be', 'been', 'being', 'have', 'has', 'had', 'having', 'do', 'does', 'did', 'doing', 'a', 'an', 'the', 'and', 'but', 'if', 'or', 'because', 'as', 'until', 'while', 'of', 'at', 'by', 'for', 'with', 'about', 'against', 'between', 'into', 'through', 'during', 'before', 'after', 'above', 'below', 'to', 'from', 'up', 'down', 'in', 'out', 'on', 'off', 'over', 'under', 'again', 'further', 'then', 'once', 'here', 'there', 'when', 'where', 'why', 'how', 'all', 'any', 'both', 'each', 'few', 'more', 'most', 'other', 'some', 'such', 'no', 'nor', 'not', 'only', 'own', 'same', 'so', 'than', 'too', 'very', 's', 't', 'can', 'will', 'just', 'don', \"don't\", 'should', \"should've\", 'now', 'd', 'll', 'm', 'o', 're', 've', 'y', 'ain', 'aren', \"aren't\", 'couldn', \"couldn't\", 'didn', \"didn't\", 'doesn', \"doesn't\", 'hadn', \"hadn't\", 'hasn', \"hasn't\", 'haven', \"haven't\", 'isn', \"isn't\", 'ma', 'mightn', \"mightn't\", 'mustn', \"mustn't\", 'needn', \"needn't\", 'shan', \"shan't\", 'shouldn', \"shouldn't\", 'wasn', \"wasn't\", 'weren', \"weren't\", 'won', \"won't\", 'wouldn', \"wouldn't\"]\n"
     ]
    }
   ],
   "source": [
    "from nltk.corpus import stopwords\n",
    "\n",
    "\n",
    "print(stopwords.words('english'))"
   ]
  },
  {
   "cell_type": "code",
   "execution_count": 17,
   "metadata": {},
   "outputs": [],
   "source": [
    "#removing stop words\n",
    "\n",
    "stop = stopwords.words('english')\n",
    "\n",
    "dataset['Review Text'] = dataset['Review Text'].apply(lambda x: [item for item in x if item not in stop])"
   ]
  },
  {
   "cell_type": "code",
   "execution_count": 18,
   "metadata": {},
   "outputs": [
    {
     "data": {
      "text/html": [
       "<div>\n",
       "<style scoped>\n",
       "    .dataframe tbody tr th:only-of-type {\n",
       "        vertical-align: middle;\n",
       "    }\n",
       "\n",
       "    .dataframe tbody tr th {\n",
       "        vertical-align: top;\n",
       "    }\n",
       "\n",
       "    .dataframe thead th {\n",
       "        text-align: right;\n",
       "    }\n",
       "</style>\n",
       "<table border=\"1\" class=\"dataframe\">\n",
       "  <thead>\n",
       "    <tr style=\"text-align: right;\">\n",
       "      <th></th>\n",
       "      <th>Unnamed: 0</th>\n",
       "      <th>Clothing ID</th>\n",
       "      <th>Age</th>\n",
       "      <th>Title</th>\n",
       "      <th>Review Text</th>\n",
       "      <th>Rating</th>\n",
       "      <th>Recommended IND</th>\n",
       "      <th>Positive Feedback Count</th>\n",
       "      <th>Division Name</th>\n",
       "      <th>Department Name</th>\n",
       "      <th>Class Name</th>\n",
       "    </tr>\n",
       "  </thead>\n",
       "  <tbody>\n",
       "    <tr>\n",
       "      <th>0</th>\n",
       "      <td>0</td>\n",
       "      <td>767</td>\n",
       "      <td>33</td>\n",
       "      <td>NaN</td>\n",
       "      <td>[absolutely, wonderful, silky, sexy, comfortable]</td>\n",
       "      <td>4</td>\n",
       "      <td>1</td>\n",
       "      <td>0</td>\n",
       "      <td>Initmates</td>\n",
       "      <td>Intimate</td>\n",
       "      <td>Intimates</td>\n",
       "    </tr>\n",
       "    <tr>\n",
       "      <th>1</th>\n",
       "      <td>1</td>\n",
       "      <td>1080</td>\n",
       "      <td>34</td>\n",
       "      <td>NaN</td>\n",
       "      <td>[love, dress, sooo, pretty, happened, find, st...</td>\n",
       "      <td>5</td>\n",
       "      <td>1</td>\n",
       "      <td>4</td>\n",
       "      <td>General</td>\n",
       "      <td>Dresses</td>\n",
       "      <td>Dresses</td>\n",
       "    </tr>\n",
       "    <tr>\n",
       "      <th>2</th>\n",
       "      <td>2</td>\n",
       "      <td>1077</td>\n",
       "      <td>60</td>\n",
       "      <td>Some major design flaws</td>\n",
       "      <td>[high, hopes, dress, really, wanted, work, ini...</td>\n",
       "      <td>3</td>\n",
       "      <td>0</td>\n",
       "      <td>0</td>\n",
       "      <td>General</td>\n",
       "      <td>Dresses</td>\n",
       "      <td>Dresses</td>\n",
       "    </tr>\n",
       "    <tr>\n",
       "      <th>3</th>\n",
       "      <td>3</td>\n",
       "      <td>1049</td>\n",
       "      <td>50</td>\n",
       "      <td>My favorite buy!</td>\n",
       "      <td>[love, love, love, jumpsuit, fun, flirty, fabu...</td>\n",
       "      <td>5</td>\n",
       "      <td>1</td>\n",
       "      <td>0</td>\n",
       "      <td>General Petite</td>\n",
       "      <td>Bottoms</td>\n",
       "      <td>Pants</td>\n",
       "    </tr>\n",
       "    <tr>\n",
       "      <th>4</th>\n",
       "      <td>4</td>\n",
       "      <td>847</td>\n",
       "      <td>47</td>\n",
       "      <td>Flattering shirt</td>\n",
       "      <td>[shirt, flattering, due, adjustable, front, ti...</td>\n",
       "      <td>5</td>\n",
       "      <td>1</td>\n",
       "      <td>6</td>\n",
       "      <td>General</td>\n",
       "      <td>Tops</td>\n",
       "      <td>Blouses</td>\n",
       "    </tr>\n",
       "  </tbody>\n",
       "</table>\n",
       "</div>"
      ],
      "text/plain": [
       "   Unnamed: 0  Clothing ID  Age                    Title  \\\n",
       "0           0          767   33                      NaN   \n",
       "1           1         1080   34                      NaN   \n",
       "2           2         1077   60  Some major design flaws   \n",
       "3           3         1049   50         My favorite buy!   \n",
       "4           4          847   47         Flattering shirt   \n",
       "\n",
       "                                         Review Text  Rating  Recommended IND  \\\n",
       "0  [absolutely, wonderful, silky, sexy, comfortable]       4                1   \n",
       "1  [love, dress, sooo, pretty, happened, find, st...       5                1   \n",
       "2  [high, hopes, dress, really, wanted, work, ini...       3                0   \n",
       "3  [love, love, love, jumpsuit, fun, flirty, fabu...       5                1   \n",
       "4  [shirt, flattering, due, adjustable, front, ti...       5                1   \n",
       "\n",
       "   Positive Feedback Count   Division Name Department Name Class Name  \n",
       "0                        0       Initmates        Intimate  Intimates  \n",
       "1                        4         General         Dresses    Dresses  \n",
       "2                        0         General         Dresses    Dresses  \n",
       "3                        0  General Petite         Bottoms      Pants  \n",
       "4                        6         General            Tops    Blouses  "
      ]
     },
     "execution_count": 18,
     "metadata": {},
     "output_type": "execute_result"
    }
   ],
   "source": [
    "dataset.head()"
   ]
  },
  {
   "cell_type": "code",
   "execution_count": 19,
   "metadata": {},
   "outputs": [],
   "source": [
    "#applying porter stemming algorithm\n",
    "from nltk.stem.porter import PorterStemmer\n",
    "ps=PorterStemmer()\n",
    "\n",
    "dataset['Review Text'] = dataset['Review Text'].apply(lambda x: [ps.stem(word) for word in x])"
   ]
  },
  {
   "cell_type": "code",
   "execution_count": 20,
   "metadata": {},
   "outputs": [
    {
     "data": {
      "text/html": [
       "<div>\n",
       "<style scoped>\n",
       "    .dataframe tbody tr th:only-of-type {\n",
       "        vertical-align: middle;\n",
       "    }\n",
       "\n",
       "    .dataframe tbody tr th {\n",
       "        vertical-align: top;\n",
       "    }\n",
       "\n",
       "    .dataframe thead th {\n",
       "        text-align: right;\n",
       "    }\n",
       "</style>\n",
       "<table border=\"1\" class=\"dataframe\">\n",
       "  <thead>\n",
       "    <tr style=\"text-align: right;\">\n",
       "      <th></th>\n",
       "      <th>Unnamed: 0</th>\n",
       "      <th>Clothing ID</th>\n",
       "      <th>Age</th>\n",
       "      <th>Title</th>\n",
       "      <th>Review Text</th>\n",
       "      <th>Rating</th>\n",
       "      <th>Recommended IND</th>\n",
       "      <th>Positive Feedback Count</th>\n",
       "      <th>Division Name</th>\n",
       "      <th>Department Name</th>\n",
       "      <th>Class Name</th>\n",
       "    </tr>\n",
       "  </thead>\n",
       "  <tbody>\n",
       "    <tr>\n",
       "      <th>0</th>\n",
       "      <td>0</td>\n",
       "      <td>767</td>\n",
       "      <td>33</td>\n",
       "      <td>NaN</td>\n",
       "      <td>[absolut, wonder, silki, sexi, comfort]</td>\n",
       "      <td>4</td>\n",
       "      <td>1</td>\n",
       "      <td>0</td>\n",
       "      <td>Initmates</td>\n",
       "      <td>Intimate</td>\n",
       "      <td>Intimates</td>\n",
       "    </tr>\n",
       "    <tr>\n",
       "      <th>1</th>\n",
       "      <td>1</td>\n",
       "      <td>1080</td>\n",
       "      <td>34</td>\n",
       "      <td>NaN</td>\n",
       "      <td>[love, dress, sooo, pretti, happen, find, stor...</td>\n",
       "      <td>5</td>\n",
       "      <td>1</td>\n",
       "      <td>4</td>\n",
       "      <td>General</td>\n",
       "      <td>Dresses</td>\n",
       "      <td>Dresses</td>\n",
       "    </tr>\n",
       "    <tr>\n",
       "      <th>2</th>\n",
       "      <td>2</td>\n",
       "      <td>1077</td>\n",
       "      <td>60</td>\n",
       "      <td>Some major design flaws</td>\n",
       "      <td>[high, hope, dress, realli, want, work, initi,...</td>\n",
       "      <td>3</td>\n",
       "      <td>0</td>\n",
       "      <td>0</td>\n",
       "      <td>General</td>\n",
       "      <td>Dresses</td>\n",
       "      <td>Dresses</td>\n",
       "    </tr>\n",
       "    <tr>\n",
       "      <th>3</th>\n",
       "      <td>3</td>\n",
       "      <td>1049</td>\n",
       "      <td>50</td>\n",
       "      <td>My favorite buy!</td>\n",
       "      <td>[love, love, love, jumpsuit, fun, flirti, fabu...</td>\n",
       "      <td>5</td>\n",
       "      <td>1</td>\n",
       "      <td>0</td>\n",
       "      <td>General Petite</td>\n",
       "      <td>Bottoms</td>\n",
       "      <td>Pants</td>\n",
       "    </tr>\n",
       "    <tr>\n",
       "      <th>4</th>\n",
       "      <td>4</td>\n",
       "      <td>847</td>\n",
       "      <td>47</td>\n",
       "      <td>Flattering shirt</td>\n",
       "      <td>[shirt, flatter, due, adjust, front, tie, perf...</td>\n",
       "      <td>5</td>\n",
       "      <td>1</td>\n",
       "      <td>6</td>\n",
       "      <td>General</td>\n",
       "      <td>Tops</td>\n",
       "      <td>Blouses</td>\n",
       "    </tr>\n",
       "  </tbody>\n",
       "</table>\n",
       "</div>"
      ],
      "text/plain": [
       "   Unnamed: 0  Clothing ID  Age                    Title  \\\n",
       "0           0          767   33                      NaN   \n",
       "1           1         1080   34                      NaN   \n",
       "2           2         1077   60  Some major design flaws   \n",
       "3           3         1049   50         My favorite buy!   \n",
       "4           4          847   47         Flattering shirt   \n",
       "\n",
       "                                         Review Text  Rating  Recommended IND  \\\n",
       "0            [absolut, wonder, silki, sexi, comfort]       4                1   \n",
       "1  [love, dress, sooo, pretti, happen, find, stor...       5                1   \n",
       "2  [high, hope, dress, realli, want, work, initi,...       3                0   \n",
       "3  [love, love, love, jumpsuit, fun, flirti, fabu...       5                1   \n",
       "4  [shirt, flatter, due, adjust, front, tie, perf...       5                1   \n",
       "\n",
       "   Positive Feedback Count   Division Name Department Name Class Name  \n",
       "0                        0       Initmates        Intimate  Intimates  \n",
       "1                        4         General         Dresses    Dresses  \n",
       "2                        0         General         Dresses    Dresses  \n",
       "3                        0  General Petite         Bottoms      Pants  \n",
       "4                        6         General            Tops    Blouses  "
      ]
     },
     "execution_count": 20,
     "metadata": {},
     "output_type": "execute_result"
    }
   ],
   "source": [
    "dataset.head()"
   ]
  },
  {
   "cell_type": "code",
   "execution_count": 21,
   "metadata": {},
   "outputs": [],
   "source": [
    "from nltk.stem import WordNetLemmatizer \n",
    "\n",
    "#lemmatization of review text\n",
    "lemmatizer = nltk.stem.WordNetLemmatizer()\n",
    "\n",
    "dataset['Review Text'] = dataset['Review Text'].apply(lambda x: [lemmatizer.lemmatize(word) for word in x])"
   ]
  },
  {
   "cell_type": "code",
   "execution_count": 22,
   "metadata": {},
   "outputs": [
    {
     "data": {
      "text/html": [
       "<div>\n",
       "<style scoped>\n",
       "    .dataframe tbody tr th:only-of-type {\n",
       "        vertical-align: middle;\n",
       "    }\n",
       "\n",
       "    .dataframe tbody tr th {\n",
       "        vertical-align: top;\n",
       "    }\n",
       "\n",
       "    .dataframe thead th {\n",
       "        text-align: right;\n",
       "    }\n",
       "</style>\n",
       "<table border=\"1\" class=\"dataframe\">\n",
       "  <thead>\n",
       "    <tr style=\"text-align: right;\">\n",
       "      <th></th>\n",
       "      <th>Unnamed: 0</th>\n",
       "      <th>Clothing ID</th>\n",
       "      <th>Age</th>\n",
       "      <th>Title</th>\n",
       "      <th>Review Text</th>\n",
       "      <th>Rating</th>\n",
       "      <th>Recommended IND</th>\n",
       "      <th>Positive Feedback Count</th>\n",
       "      <th>Division Name</th>\n",
       "      <th>Department Name</th>\n",
       "      <th>Class Name</th>\n",
       "    </tr>\n",
       "  </thead>\n",
       "  <tbody>\n",
       "    <tr>\n",
       "      <th>0</th>\n",
       "      <td>0</td>\n",
       "      <td>767</td>\n",
       "      <td>33</td>\n",
       "      <td>NaN</td>\n",
       "      <td>[absolut, wonder, silki, sexi, comfort]</td>\n",
       "      <td>4</td>\n",
       "      <td>1</td>\n",
       "      <td>0</td>\n",
       "      <td>Initmates</td>\n",
       "      <td>Intimate</td>\n",
       "      <td>Intimates</td>\n",
       "    </tr>\n",
       "    <tr>\n",
       "      <th>1</th>\n",
       "      <td>1</td>\n",
       "      <td>1080</td>\n",
       "      <td>34</td>\n",
       "      <td>NaN</td>\n",
       "      <td>[love, dress, sooo, pretti, happen, find, stor...</td>\n",
       "      <td>5</td>\n",
       "      <td>1</td>\n",
       "      <td>4</td>\n",
       "      <td>General</td>\n",
       "      <td>Dresses</td>\n",
       "      <td>Dresses</td>\n",
       "    </tr>\n",
       "    <tr>\n",
       "      <th>2</th>\n",
       "      <td>2</td>\n",
       "      <td>1077</td>\n",
       "      <td>60</td>\n",
       "      <td>Some major design flaws</td>\n",
       "      <td>[high, hope, dress, realli, want, work, initi,...</td>\n",
       "      <td>3</td>\n",
       "      <td>0</td>\n",
       "      <td>0</td>\n",
       "      <td>General</td>\n",
       "      <td>Dresses</td>\n",
       "      <td>Dresses</td>\n",
       "    </tr>\n",
       "    <tr>\n",
       "      <th>3</th>\n",
       "      <td>3</td>\n",
       "      <td>1049</td>\n",
       "      <td>50</td>\n",
       "      <td>My favorite buy!</td>\n",
       "      <td>[love, love, love, jumpsuit, fun, flirti, fabu...</td>\n",
       "      <td>5</td>\n",
       "      <td>1</td>\n",
       "      <td>0</td>\n",
       "      <td>General Petite</td>\n",
       "      <td>Bottoms</td>\n",
       "      <td>Pants</td>\n",
       "    </tr>\n",
       "    <tr>\n",
       "      <th>4</th>\n",
       "      <td>4</td>\n",
       "      <td>847</td>\n",
       "      <td>47</td>\n",
       "      <td>Flattering shirt</td>\n",
       "      <td>[shirt, flatter, due, adjust, front, tie, perf...</td>\n",
       "      <td>5</td>\n",
       "      <td>1</td>\n",
       "      <td>6</td>\n",
       "      <td>General</td>\n",
       "      <td>Tops</td>\n",
       "      <td>Blouses</td>\n",
       "    </tr>\n",
       "  </tbody>\n",
       "</table>\n",
       "</div>"
      ],
      "text/plain": [
       "   Unnamed: 0  Clothing ID  Age                    Title  \\\n",
       "0           0          767   33                      NaN   \n",
       "1           1         1080   34                      NaN   \n",
       "2           2         1077   60  Some major design flaws   \n",
       "3           3         1049   50         My favorite buy!   \n",
       "4           4          847   47         Flattering shirt   \n",
       "\n",
       "                                         Review Text  Rating  Recommended IND  \\\n",
       "0            [absolut, wonder, silki, sexi, comfort]       4                1   \n",
       "1  [love, dress, sooo, pretti, happen, find, stor...       5                1   \n",
       "2  [high, hope, dress, realli, want, work, initi,...       3                0   \n",
       "3  [love, love, love, jumpsuit, fun, flirti, fabu...       5                1   \n",
       "4  [shirt, flatter, due, adjust, front, tie, perf...       5                1   \n",
       "\n",
       "   Positive Feedback Count   Division Name Department Name Class Name  \n",
       "0                        0       Initmates        Intimate  Intimates  \n",
       "1                        4         General         Dresses    Dresses  \n",
       "2                        0         General         Dresses    Dresses  \n",
       "3                        0  General Petite         Bottoms      Pants  \n",
       "4                        6         General            Tops    Blouses  "
      ]
     },
     "execution_count": 22,
     "metadata": {},
     "output_type": "execute_result"
    }
   ],
   "source": [
    "dataset.head()"
   ]
  },
  {
   "cell_type": "code",
   "execution_count": 23,
   "metadata": {},
   "outputs": [],
   "source": [
    "dataset['Review Text']=[\" \".join(review) for review in dataset['Review Text'].values]"
   ]
  },
  {
   "cell_type": "code",
   "execution_count": 24,
   "metadata": {},
   "outputs": [
    {
     "data": {
      "text/html": [
       "<div>\n",
       "<style scoped>\n",
       "    .dataframe tbody tr th:only-of-type {\n",
       "        vertical-align: middle;\n",
       "    }\n",
       "\n",
       "    .dataframe tbody tr th {\n",
       "        vertical-align: top;\n",
       "    }\n",
       "\n",
       "    .dataframe thead th {\n",
       "        text-align: right;\n",
       "    }\n",
       "</style>\n",
       "<table border=\"1\" class=\"dataframe\">\n",
       "  <thead>\n",
       "    <tr style=\"text-align: right;\">\n",
       "      <th></th>\n",
       "      <th>Unnamed: 0</th>\n",
       "      <th>Clothing ID</th>\n",
       "      <th>Age</th>\n",
       "      <th>Title</th>\n",
       "      <th>Review Text</th>\n",
       "      <th>Rating</th>\n",
       "      <th>Recommended IND</th>\n",
       "      <th>Positive Feedback Count</th>\n",
       "      <th>Division Name</th>\n",
       "      <th>Department Name</th>\n",
       "      <th>Class Name</th>\n",
       "    </tr>\n",
       "  </thead>\n",
       "  <tbody>\n",
       "    <tr>\n",
       "      <th>0</th>\n",
       "      <td>0</td>\n",
       "      <td>767</td>\n",
       "      <td>33</td>\n",
       "      <td>NaN</td>\n",
       "      <td>absolut wonder silki sexi comfort</td>\n",
       "      <td>4</td>\n",
       "      <td>1</td>\n",
       "      <td>0</td>\n",
       "      <td>Initmates</td>\n",
       "      <td>Intimate</td>\n",
       "      <td>Intimates</td>\n",
       "    </tr>\n",
       "    <tr>\n",
       "      <th>1</th>\n",
       "      <td>1</td>\n",
       "      <td>1080</td>\n",
       "      <td>34</td>\n",
       "      <td>NaN</td>\n",
       "      <td>love dress sooo pretti happen find store glad ...</td>\n",
       "      <td>5</td>\n",
       "      <td>1</td>\n",
       "      <td>4</td>\n",
       "      <td>General</td>\n",
       "      <td>Dresses</td>\n",
       "      <td>Dresses</td>\n",
       "    </tr>\n",
       "    <tr>\n",
       "      <th>2</th>\n",
       "      <td>2</td>\n",
       "      <td>1077</td>\n",
       "      <td>60</td>\n",
       "      <td>Some major design flaws</td>\n",
       "      <td>high hope dress realli want work initi order p...</td>\n",
       "      <td>3</td>\n",
       "      <td>0</td>\n",
       "      <td>0</td>\n",
       "      <td>General</td>\n",
       "      <td>Dresses</td>\n",
       "      <td>Dresses</td>\n",
       "    </tr>\n",
       "    <tr>\n",
       "      <th>3</th>\n",
       "      <td>3</td>\n",
       "      <td>1049</td>\n",
       "      <td>50</td>\n",
       "      <td>My favorite buy!</td>\n",
       "      <td>love love love jumpsuit fun flirti fabul everi...</td>\n",
       "      <td>5</td>\n",
       "      <td>1</td>\n",
       "      <td>0</td>\n",
       "      <td>General Petite</td>\n",
       "      <td>Bottoms</td>\n",
       "      <td>Pants</td>\n",
       "    </tr>\n",
       "    <tr>\n",
       "      <th>4</th>\n",
       "      <td>4</td>\n",
       "      <td>847</td>\n",
       "      <td>47</td>\n",
       "      <td>Flattering shirt</td>\n",
       "      <td>shirt flatter due adjust front tie perfect len...</td>\n",
       "      <td>5</td>\n",
       "      <td>1</td>\n",
       "      <td>6</td>\n",
       "      <td>General</td>\n",
       "      <td>Tops</td>\n",
       "      <td>Blouses</td>\n",
       "    </tr>\n",
       "  </tbody>\n",
       "</table>\n",
       "</div>"
      ],
      "text/plain": [
       "   Unnamed: 0  Clothing ID  Age                    Title  \\\n",
       "0           0          767   33                      NaN   \n",
       "1           1         1080   34                      NaN   \n",
       "2           2         1077   60  Some major design flaws   \n",
       "3           3         1049   50         My favorite buy!   \n",
       "4           4          847   47         Flattering shirt   \n",
       "\n",
       "                                         Review Text  Rating  Recommended IND  \\\n",
       "0                  absolut wonder silki sexi comfort       4                1   \n",
       "1  love dress sooo pretti happen find store glad ...       5                1   \n",
       "2  high hope dress realli want work initi order p...       3                0   \n",
       "3  love love love jumpsuit fun flirti fabul everi...       5                1   \n",
       "4  shirt flatter due adjust front tie perfect len...       5                1   \n",
       "\n",
       "   Positive Feedback Count   Division Name Department Name Class Name  \n",
       "0                        0       Initmates        Intimate  Intimates  \n",
       "1                        4         General         Dresses    Dresses  \n",
       "2                        0         General         Dresses    Dresses  \n",
       "3                        0  General Petite         Bottoms      Pants  \n",
       "4                        6         General            Tops    Blouses  "
      ]
     },
     "execution_count": 24,
     "metadata": {},
     "output_type": "execute_result"
    }
   ],
   "source": [
    "dataset.head()"
   ]
  },
  {
   "cell_type": "code",
   "execution_count": 25,
   "metadata": {},
   "outputs": [
    {
     "name": "stdout",
     "output_type": "stream",
     "text": [
      "{'absolut': 27, 'wonder': 9060, 'silki': 7144, 'sexi': 6976, 'comfort': 1573, 'love': 4618, 'dress': 2358, 'sooo': 7400, 'pretti': 6108, 'happen': 3542, 'find': 2904, 'store': 7631, 'glad': 3314, 'bc': 627, 'never': 5253, 'would': 9105, 'order': 5511, 'onlin': 5466, 'petit': 5829, 'bought': 920, 'length': 4434, 'hit': 3685, 'littl': 4534, 'knee': 4274, 'definit': 2049, 'true': 8338, 'midi': 4913, 'someon': 7386, 'truli': 8340, 'high': 3655, 'hope': 3734, 'realli': 6361, 'want': 8830, 'work': 9078, 'initi': 3981, 'small': 7301, 'usual': 8657, 'size': 7192, 'found': 3104, 'outrag': 5563, 'fact': 2763, 'could': 1768, 'zip': 9225, 'reorder': 6512, 'medium': 4850, 'ok': 5447, 'overal': 5577, 'top': 8230, 'half': 3509, 'fit': 2926, 'nice': 5273, 'bottom': 914, 'tight': 8163, 'layer': 4377, 'sever': 6971, 'somewhat': 7392, 'cheap': 1312, 'net': 5248, 'imo': 3889, 'major': 4711, 'design': 2116, 'flaw': 2967, 'sewn': 6975, 'directli': 2197, 'zipper': 9228, 'jumpsuit': 4204, 'fun': 3183, 'flirti': 2991, 'fabul': 2760, 'everi': 2660, 'time': 8173, 'wear': 8875, 'get': 3284, 'noth': 5345, 'great': 3429, 'compliment': 1623, 'shirt': 7057, 'flatter': 2960, 'due': 2397, 'adjust': 102, 'front': 3159, 'tie': 8157, 'perfect': 5796, 'leg': 4416, 'sleeveless': 7243, 'pair': 5648, 'well': 8910, 'cardigan': 1187, 'traci': 8266, 'rees': 6427, 'one': 5461, 'foot': 3065, 'tall': 7950, 'brand': 956, 'packag': 5634, 'lot': 4604, 'skirt': 7221, 'long': 4565, 'full': 3178, 'overwhelm': 5618, 'frame': 3118, 'stranger': 7646, 'alter': 224, 'shorten': 7086, 'narrow': 5173, 'take': 7943, 'away': 517, 'embellish': 2531, 'garment': 3235, 'color': 1541, 'idea': 3852, 'style': 7722, 'return': 6588, 'ade': 94, 'basket': 611, 'hte': 3780, 'last': 4353, 'mintu': 4968, 'see': 6921, 'look': 4575, 'like': 4486, 'person': 5816, 'pick': 5857, 'went': 8916, 'teh': 8011, 'darkler': 1974, 'pale': 5655, 'gorgeou': 3379, 'turn': 8376, 'mathc': 4799, 'everythi': 2667, 'tri': 8311, 'prefectli': 6082, 'baggi': 552, 'msallet': 5105, 'bummer': 1059, 'decid': 2015, 'jkeep': 4175, 'though': 8116, 'said': 6771, 'matvehd': 4808, 'everyth': 2666, 'ejan': 2490, 'pant': 5676, 'waa': 8794, 'kept': 4242, 'oop': 5479, 'carbon': 1182, 'ton': 8221, 'stuff': 7707, 'alway': 232, 'use': 8652, 'charcoal': 1297, 'shimmer': 7045, 'pencil': 5772, 'flare': 2950, 'etc': 2639, 'compaint': 1594, 'bit': 771, 'big': 741, 'sleev': 7242, 'go': 3346, 'also': 220, 'loo': 4573, 'xx': 9156, 'wil': 8996, 'ldecid': 4390, 'later': 4358, 'sinc': 7168, 'light': 4469, 'alreadi': 218, 'sold': 7375, 'smallest': 7303, 'run': 6729, 'snug': 7348, 'bust': 1081, 'feminin': 2864, 'retail': 6565, 'flair': 2940, 'lb': 4384, 'make': 4714, 'sure': 7824, 'typic': 8416, 'regular': 6457, 'le': 4391, 'busti': 1082, 'cup': 1901, 'smaller': 7302, 'perfectli': 5798, 'parti': 5699, 'tull': 8364, 'longer': 4566, 'fabric': 2759, 'underneath': 8491, 'esp': 2624, 'area': 386, 'sp': 7433, 'materi': 4791, 'feel': 2851, 'even': 2654, 'pull': 6219, 'caus': 1245, 'rip': 6641, 'disappoint': 2207, 'christma': 1390, 'year': 9177, 'needle': 5223, 'say': 6835, 'back': 532, 'reliant': 6482, 'review': 6601, 'written': 9133, 'savvi': 6831, 'shopper': 7079, 'past': 5714, 'right': 6635, 'estim': 2637, 'product': 6161, 'case': 1220, 'reveiw': 6595, 'doubt': 2312, 'beauti': 650, 'made': 4682, 'line': 4503, 'reminisc': 6497, 'old': 5451, 'qualiti': 6267, 'solid': 7377, 'periwinkl': 5807, 'match': 4786, 'outer': 5555, 'print': 6136, 'tt': 8349, 'form': 3087, 'fall': 2781, 'rid': 6623, 'black': 783, 'larkspur': 4349, 'bother': 906, 'portion': 6028, 'grrrrrrrrrrr': 3469, 'stat': 7567, 'smoothli': 7322, 'around': 404, 'chest': 1344, 'flowi': 3018, 'lower': 4631, 'strap': 7650, 'easili': 2442, 'nightwear': 5290, 'came': 1140, 'choic': 1374, 'holiday': 3705, 'gather': 3244, 'graze': 3424, 'conserv': 1668, 'enough': 2582, 'offic': 5436, 'relat': 6472, 'opinion': 5492, 'larger': 4341, 'perhap': 5804, 'waist': 8808, 'problem': 6151, 'terribl': 8039, 'delic': 2063, 'type': 8414, 'got': 3385, 'stuck': 7701, 'took': 8225, 'badli': 546, 'tell': 8013, 'put': 6248, 'hour': 3760, 'glass': 3321, 'figur': 2891, 'straight': 7638, 'way': 8867, 'bodi': 855, 'shape': 6999, 'still': 7608, 'roomi': 6681, 'hip': 3673, 'sturdi': 7719, 'linen': 4508, 'happi': 3543, 'open': 5487, 'larg': 4340, 'ankl': 280, 'hem': 3629, 'pleat': 5950, 'fluffi': 3028, 'think': 8094, 'imagin': 3876, 'least': 4404, 'averag': 503, 'height': 3622, 'taller': 7951, 'may': 4817, 'good': 3367, 'chanc': 1289, 'blous': 826, 'crazi': 1820, 'photograph': 5847, 'model': 5021, 'whit': 8965, 'white': 8966, 'crisp': 1851, 'clean': 1451, 'describ': 2108, 'launder': 4367, 'drape': 2337, 'tuck': 8358, 'wrong': 9136, 'super': 7800, 'cozi': 1799, 'coat': 1509, 'cold': 1523, 'dri': 2365, 'day': 1985, 'jean': 4154, 'dressier': 2362, 'outfit': 5558, 'someth': 7387, 'differ': 2164, 'new': 5258, 'eve': 2653, 'steam': 7580, 'xsp': 9151, 'tailor': 7942, 'simpl': 7159, 'fix': 2930, 'pregnant': 6090, 'bough': 919, 'grow': 3464, 'provid': 6195, 'flexibl': 2981, 'upset': 8638, 'price': 6122, 'thought': 8117, 'embroid': 2539, 'cri': 1842, 'box': 930, 'ver': 8705, 'tad': 7933, 'tini': 8179, 'vibrant': 8737, 'uniqu': 8556, 'poofi': 6009, 'keep': 4233, 'forth': 3097, 'mainli': 4704, 'although': 229, 'except': 2690, 'wish': 9031, 'emb': 2527, 'first': 2920, 'pullov': 6221, 'side': 7124, 'purchas': 6234, 'knew': 4278, 'next': 5270, 'imposs': 3904, 'second': 6912, 'slip': 7272, 'awkward': 521, 'sadli': 6761, 'exchang': 2692, 'cute': 1930, 'dont': 2304, 'appear': 345, 'pictur': 5865, 'saw': 6832, 'need': 5221, 'wore': 9077, 'rock': 6658, 'wedg': 8889, 'vest': 8728, 'care': 1191, 'button': 1100, 'yet': 9188, 'occas': 5409, 'didnt': 2159, 'im': 3874, 'atleast': 465, 'gap': 3225, 'much': 5111, 'wider': 8987, 'felt': 2858, 'fell': 2856, 'flat': 2954, 'med': 4841, 'better': 723, 'wait': 8813, 'sweater': 7862, 'ship': 7054, 'week': 8894, 'excit': 2694, 'arriv': 409, 'short': 7083, 'squat': 7525, 'wide': 8984, 'weight': 8901, 'layerng': 4378, 'move': 5098, 'three': 8123, 'inch': 3929, 'nicer': 5275, 'redo': 6419, 'proport': 6185, 'tigh': 8162, 'expect': 2715, 'either': 2489, 'dark': 1972, 'blue': 836, 'anyth': 328, 'thick': 8085, 'movement': 5100, 'end': 2563, 'goodhyouman': 3369, 'mani': 4731, 'especi': 2627, 'forehead': 3074, 'kiss': 4263, 'underr': 8493, 'hesit': 3643, 'buy': 1106, 'sorri': 7413, 'comfi': 1568, 'classic': 1442, 'balanc': 561, 'quirki': 6285, 'hand': 3523, 'knit': 4280, 'practic': 6064, 'crop': 1865, 'boxi': 932, 'part': 5697, 'other': 5537, 'mention': 4878, 'camisol': 1146, 'show': 7102, 'warm': 8836, 'thin': 8091, 'jacket': 4130, 'trend': 8306, 'cuter': 1932, 'given': 3312, 'stripe': 7687, 'brighter': 990, 'carri': 1205, 'chubbi': 1396, 'belli': 696, 'collarless': 1532, 'navi': 5186, 'blazer': 795, 'downsid': 2321, 'month': 5058, 'ago': 143, 'final': 2902, 'huge': 3793, 'issu': 4104, 'wool': 9070, 'subpar': 7736, 'el': 2491, 'quot': 6287, 'guess': 3475, 'call': 1132, 'liter': 4526, 'itchi': 4110, 'china': 1366, 'sale': 6779, 'worth': 9098, 'paid': 5643, 'neat': 5198, 'soft': 7369, 'ad': 85, 'bonu': 879, 'funki': 3189, 'tank': 7959, 'necklac': 5214, 'boot': 891, 'whim': 8954, 'span': 7442, 'season': 6904, 'mom': 5035, 'warmth': 8839, 'houston': 3768, 'winter': 9021, 'polish': 5987, 'snap': 7332, 'unsnap': 8595, 'age': 136, 'appropri': 359, 'amaz': 236, 'skinni': 7214, 'gray': 3422, 'photo': 5846, 'accur': 64, 'stretch': 7673, 'casual': 1229, 'grey': 3447, 'pilcro': 5877, 'stet': 7590, 'peplum': 5782, 'cut': 1928, 'shoulder': 7099, 'necklin': 5216, 'worn': 9092, 'slack': 7227, 'heel': 3617, 'embroideri': 2543, 'reason': 6368, 'ordinari': 5515, 'across': 75, 'babi': 528, 'nurs': 5375, 'poncho': 6000, 'plaid': 5922, 'check': 1320, 'sorbet': 7410, 'cream': 1822, 'turtleneck': 8382, 'roll': 6669, 'spring': 7511, 'thermal': 8079, 'natur': 5180, 'sheer': 7028, 'prepar': 6095, 'consid': 1669, 'might': 4929, 'walk': 8818, 'hous': 3763, 'over': 5575, 'pound': 6057, 'along': 212, 'mind': 4951, 'monitor': 5048, 'dot': 2310, 'today': 8205, 'local': 4551, 'bad': 544, 'ruch': 6717, 'altern': 225, 'plain': 5923, 'tee': 8002, 'gener': 3268, 'probabl': 6148, 'item': 4111, 'mine': 4952, 'seem': 6925, 'start': 7563, 'fade': 2767, 'recommend': 6400, 'pop': 6017, 'collar': 1530, 'bib': 737, 'receiv': 6380, 'question': 6274, 'rather': 6334, 'ador': 109, 'transit': 8283, 'summer': 7779, 'wash': 8846, 'best': 717, 'blond': 818, 'brunett': 1024, 'favorit': 2834, 'snag': 7328, 'unusu': 8612, 'asymmetr': 454, 'seam': 6895, 'posit': 6033, 'detail': 2126, 'attach': 467, 'includ': 3933, 'actual': 81, 'creat': 1827, 'visual': 8765, 'interest': 4033, 'add': 87, 'help': 3627, 'hide': 3652, 'cowl': 1795, 'neck': 5211, 'done': 2301, 'two': 8407, 'mean': 4831, 'wardrob': 8832, 'malfun': 4719, 'armhol': 397, 'older': 5452, 'woman': 9056, 'picki': 5858, 'slight': 7257, 'hang': 3534, 'lightweight': 4479, 'opaqu': 5485, 'bra': 944, 'bare': 593, 'visibl': 8761, 'warmer': 8837, 'climat': 1468, 'wind': 9009, 'extrem': 2744, 'sleep': 7238, 'okay': 5448, 'zero': 9221, 'support': 7816, 'without': 9045, 'seen': 6928, 'pas': 5708, 'howev': 3771, 'lazi': 4382, 'redeem': 6414, 'ladi': 4318, 'ruffl': 6720, 'lay': 4376, 'retun': 6586, 'plenti': 5952, 'clearanc': 1456, 'floor': 2999, 'beef': 671, 'elast': 2493, 'waistband': 8809, 'conceal': 1633, 'belt': 702, 'sit': 7183, 'bustlin': 1086, 'tricki': 8317, 'sort': 7414, 'th': 8054, 'bralett': 953, 'bind': 757, 'night': 5283, 'tag': 7936, 'remov': 6501, 'simpli': 7162, 'stun': 7714, 'happier': 3544, 'keyhol': 4244, 'thread': 8121, 'left': 4414, 'behind': 683, 'plastici': 5932, 'intim': 4050, 'flimsi': 2985, 'give': 3311, 'loung': 4612, 'recent': 6381, 'forev': 3077, 'list': 4522, 'torso': 8243, 'pattern': 5731, 'floral': 3004, 'septemb': 6957, 'school': 6856, 'backpack': 538, 'pill': 5881, 'rub': 6713, 'continu': 1692, 'mail': 4700, 'smitten': 7315, 'sometim': 7390, 'xl': 9145, 'stretchi': 7676, 'meda': 4842, 'lace': 4309, 'similar': 7156, 'almost': 209, 'gotten': 3388, 'extra': 2740, 'eye': 2747, 'waver': 8864, 'post': 6037, 'wonki': 9062, 'miracul': 4976, 'patter': 5730, 'higher': 3656, 'must': 5142, 'unbutton': 8457, 'difficult': 2170, 'unfortun': 8539, 'ala': 179, 'strang': 7645, 'stay': 7577, 'weird': 8905, 'breast': 966, 'stand': 7548, 'minut': 4973, 'sat': 6813, 'pocket': 5972, 'massiv': 4780, 'babydol': 529, 'appar': 342, 'measur': 4838, 'sweep': 7872, 'hung': 3814, 'straighter': 7640, 'craftsmanship': 1810, 'handwoven': 3533, 'ask': 428, 'ruin': 6724, 'layout': 4380, 'swing': 7890, 'anyon': 325, 'endow': 2568, 'footbal': 3066, 'player': 5940, 'bigger': 742, 'cami': 1145, 'ride': 6625, 'uncomfort': 8463, 'goe': 3352, 'easier': 2439, 'lack': 4313, 'unlik': 8562, 'anoth': 294, 'busi': 1080, 'meet': 4855, 'wi': 8978, 'critic': 1858, 'catch': 1235, 'sharp': 7009, 'jewelri': 4169, 'travel': 8295, 'cape': 1172, 'surpris': 7832, 'hanger': 3536, 'fan': 2793, 'cardi': 1185, 'believ': 693, 'drawn': 2348, 'doll': 2291, 'immedi': 3884, 'swallow': 7851, 'whole': 8971, 'let': 4446, 'chart': 1307, 'read': 6349, 'comment': 1584, 'descript': 2109, 'specif': 7459, 'weigh': 8900, 'chose': 1387, 'broke': 1004, 'piec': 5868, 'replac': 6522, 'stronger': 7693, 'annoy': 288, 'come': 1565, 'luxuri': 4666, 'ob': 5392, 'everyday': 2664, 'drapey': 2340, 'arm': 394, 'overpr': 5601, 'normal': 5332, 'fine': 2905, 'total': 8249, 'sen': 6943, 'essenti': 2634, 'fanci': 2795, 'tshirt': 8347, 'bring': 992, 'alon': 211, 'origin': 5527, 'plan': 5926, 'rt': 6710, 'hair': 3506, 'eleg': 2503, 'contemporari': 1688, 'stylish': 7724, 'salesperson': 6784, 'rave': 6339, 'told': 8213, 'grab': 3392, 'daught': 1981, 'rest': 6555, 'orang': 5504, 'reciev': 6385, 'cedar': 1256, 'brown': 1015, 'ive': 4124, 'ã¼ber': 9235, 'bulki': 1053, 'heavi': 3609, 'waterproof': 8862, 'heavili': 3611, 'insul': 4022, 'option': 5503, 'antro': 315, 'greenish': 3442, 'camsiol': 1156, 'campol': 1153, 'peek': 5757, 'touch': 8252, 'neckli': 5215, 'dislik': 2233, 'concern': 1638, 'hole': 3702, 'remind': 6496, 'develop': 2140, 'water': 8858, 'prevent': 6115, 'slit': 7275, 'dim': 2179, 'sharkbit': 7008, 'pronounc': 6179, 'looser': 4593, 'pin': 5886, 'weav': 8882, 'holli': 3706, 'deep': 2030, 'oliv': 5454, 'section': 6917, 'surprisingli': 7833, 'room': 6680, 'eat': 2448, 'te': 7987, 'neutral': 5251, 'spot': 7504, 'debat': 2004, 'tighten': 8164, 'pinch': 5888, 'eptit': 2606, 'dd': 1991, 'che': 1311, 'burnt': 1078, 'velvet': 8697, 'tunic': 8371, 'instead': 4015, 'quit': 6286, 'curvi': 1921, 'itali': 4107, 'franc': 3119, 'book': 886, 'ticket': 8152, 'prettier': 6109, 'real': 6354, 'life': 4460, 'textur': 8052, 'modern': 5024, 'otherwis': 5539, 'caught': 1244, 'possibl': 6036, 'far': 2801, 'prefer': 6083, 'versatil': 8718, 'fenc': 2866, 'asid': 427, 'serious': 6964, 'plea': 5945, 'enhanc': 2576, 'variou': 8687, 'limitless': 4499, 'state': 7568, 'moss': 5078, 'taup': 7978, 'green': 3439, 'tone': 8223, 'fantast': 2800, 'tent': 8030, 'daughter': 1982, 'tablecloth': 7927, 'red': 6412, 'shapeless': 7001, 'easi': 2438, 'mostli': 5080, 'exactli': 2681, 'home': 3709, 'slightli': 7261, 'near': 5194, 'upper': 8635, 'loosen': 4592, 'throughout': 8133, 'pajama': 5650, 'wavi': 8865, 'lean': 4397, 'forward': 3101, 'world': 9089, 'place': 5917, 'despit': 2121, 'scoop': 6860, 'construct': 1680, 'refer': 6429, 'unflatt': 8532, 'silk': 7143, 'sky': 7225, 'teal': 7991, 'darker': 1973, 'sassi': 6812, 'appeal': 344, 'snake': 7330, 'slither': 7276, 'attitud': 476, 'gave': 3253, 'star': 7555, 'ivori': 4125, 'tend': 8025, 'contrast': 1701, 'insid': 3999, 'cuff': 1896, 'sooooo': 7402, 'numer': 5373, 'slightest': 7258, 'hot': 3755, 'humid': 3805, 'sticki': 7600, 'weather': 8881, 'poor': 6014, 'shell': 7036, 'faster': 2816, 'partial': 5700, 'plu': 5959, 'vent': 8702, 'save': 6829, 'fund': 3185, 'ca': 1111, 'disagre': 2202, 'hh': 3648, 'broad': 997, 'stain': 7544, 'droopi': 2374, 'stiff': 7601, 'undoubtedli': 8517, 'dear': 2002, 'send': 6944, 'pre': 6073, 'owend': 5622, 'cloth': 1489, 'articl': 413, 'prior': 6137, 'nail': 5160, 'summari': 7777, 'funni': 3191, 'strapless': 7651, 'subtl': 7746, 'unexpect': 8523, 'dimens': 2181, 'stress': 7670, 'current': 1916, 'enjoy': 2577, 'accent': 41, 'closet': 1485, 'round': 6700, 'wrinkl': 9127, 'bbq': 626, 'thing': 8093, 'note': 5343, 'previou': 6117, 'bargain': 595, 'accentu': 42, 'con': 1632, 'certainli': 1273, 'shorter': 7087, 'curvier': 1922, 'girl': 3305, 'entirel': 2594, 'exclam': 2697, 'inaccur': 3917, 'exagger': 2682, 'clear': 1455, 'mud': 5112, 'misrepres': 4990, 'key': 4243, 'element': 2505, 'digress': 2176, 'wth': 9139, 'unless': 8561, 'kinda': 4257, 'odd': 5423, 'umph': 8436, 'intrepid': 4054, 'soul': 7421, 'machin': 4678, 'cycl': 1945, 'dryer': 2387, 'shook': 7075, 'iron': 4088, 'shrink': 7111, 'ye': 9174, 'vast': 8688, 'charm': 1305, 'cover': 1785, 'wow': 9109, 'fat': 2817, 'non': 5313, 'basic': 610, 'squar': 7521, 'appl': 347, 'tummi': 8367, 'pooch': 6005, 'poorli': 6016, 'liner': 4509, 'contralater': 1699, 'neg': 5226, 'point': 5977, 'boo': 880, 'pj': 5913, 'jammi': 4140, 'hard': 3549, 'close': 1482, 'creation': 1829, 'cotton': 1762, 'execut': 2702, 'locat': 4552, 'collect': 1534, 'mistak': 4997, 'forest': 3076, 'sued': 7761, 'finish': 2912, 'fifth': 2887, 'definetli': 2047, 'shrunk': 7114, 'mayb': 4818, 'thicker': 8086, 'decent': 2012, 'silhouett': 7141, 'degre': 2053, 'denim': 2085, 'hug': 3792, 'revers': 6597, 'pink': 5892, 'scratchi': 6871, 'discount': 2220, 'luck': 4643, 'ii': 3863, 'firn': 2919, 'sensit': 6948, 'stylist': 7725, 'kind': 4256, 'built': 1049, 'fabri': 2758, 'peitt': 5768, 'abl': 18, 'brought': 1013, 'fo': 3043, 'adn': 107, 'winner': 9019, 'texa': 8049, 'cheer': 1329, 'compar': 1597, 'gal': 3216, 'impecc': 3894, 'mirror': 4977, 'artsi': 416, 'whimsic': 8956, 'cours': 1781, 'pic': 5855, 'justic': 4211, 'intric': 4055, 'rich': 6619, 'tacki': 7929, 'shown': 7106, 'metal': 4896, 'ap': 334, 'stitch': 7615, 'divulg': 2269, 'prompt': 6175, 'modest': 5025, 'chang': 1292, 'circl': 1415, 'welp': 8913, 'window': 9013, 'know': 4289, 'botton': 916, 'apetit': 336, 'low': 4629, 'agre': 144, 'skin': 7212, 'brighten': 989, 'multipl': 5124, 'impact': 3891, 'limit': 4498, 'suit': 7769, 'australian': 491, 'fir': 2913, 'label': 4305, 'clearli': 1458, 'gut': 3489, 'dinner': 2190, 'base': 605, 'ran': 6316, 'six': 7187, 'cleavag': 1460, 'clown': 1492, 'costum': 1756, 'instal': 4009, 'buckl': 1039, 'fold': 3052, 'fake': 2779, 'leather': 4405, 'titl': 8191, 'worst': 9097, 'combin': 1563, 'frankli': 3123, 'benefit': 711, 'solv': 7381, 'bo': 847, 'fiber': 2879, 'realiz': 6359, 'cld': 1450, 'wld': 9049, 'obviou': 5405, 'swtr': 7907, 'anyway': 331, 'faux': 2830, 'fur': 3194, 'shrug': 7113, 'slv': 7294, 'plum': 5962, 'tighter': 8165, 'apart': 335, 'weak': 8873, 'notic': 5346, 'readi': 6351, 'ugli': 8424, 'north': 5334, 'face': 2761, 'bright': 988, 'mild': 4934, 'maev': 4688, 'pleasantli': 5947, 'upon': 8633, 'coverag': 1786, 'underarm': 8479, 'band': 578, 'romper': 6676, 'colour': 1550, 'sweat': 7861, 'weekend': 8896, 'friend': 3144, 'angl': 275, 'breezi': 974, 'ballet': 567, 'thru': 8139, 'wt': 9138, 'approx': 364, 'thank': 8058, 'pear': 5750, 'bestow': 718, 'thinner': 8098, 'sweatshirt': 7869, 'ref': 6428, 'taper': 7966, 'sack': 6748, 'vivid': 8767, 'autumn': 495, 'mess': 4891, 'waistlin': 8812, 'curv': 1918, 'maternityish': 4798, 'cheapish': 1317, 'poli': 5985, 'modesti': 5026, 'closur': 1488, 'unravel': 8581, 'middl': 4911, 'mask': 4776, 'peachi': 5746, 'deeper': 2031, 'portray': 6031, 'depend': 2094, 'structur': 7697, 'ti': 8149, 'lost': 4603, 'unfrotuant': 8542, 'flower': 3015, 'snugli': 7354, 'pay': 5736, 'ehm': 2482, 'conform': 1656, 'cooler': 1721, 'live': 4536, 'learn': 4403, 'lesson': 4445, 'risk': 6644, 'xxsp': 9161, 'slimmer': 7267, 'hourglass': 3762, 'heavier': 3610, 'worri': 9093, 'gone': 3363, 'rumpl': 6728, 'shame': 6994, 'qu': 6256, 'easel': 2437, 'caftan': 1121, 'bohemian': 864, 'chiffon': 1354, 'raw': 6341, 'edg': 2463, 'trim': 8322, 'fresh': 3136, 'sz': 7921, 'unbear': 8452, 'washabl': 8848, 'complaint': 1609, 'significantli': 7137, 'minim': 4955, 'torn': 8239, 'whether': 8945, 'ultim': 8431, 'effect': 2470, 'special': 7457, 'anticip': 310, 'partak': 5698, 'dumpi': 2404, 'overpow': 5600, 'peopl': 5777, 'obvious': 5406, 'statement': 7569, 'greatest': 3431, 'suppos': 7817, 'third': 8101, 'split': 7489, 'dang': 1963, 'swim': 7883, 'increasingli': 3944, 'shirti': 7060, 'ish': 4098, 'transluc': 8285, 'formfit': 3092, 'cost': 1753, 'quickli': 6279, 'femal': 2861, 'burlap': 1075, 'allow': 203, 'ultra': 8432, 'scarf': 6846, 'circa': 1414, 'tug': 8361, 'downward': 2325, 'fear': 2839, 'flouncier': 3012, 'teacher': 7990, 'wearer': 8878, 'elegantli': 2504, 'throw': 8135, 'amount': 252, 'becam': 658, 'word': 9076, 'warn': 8840, 'peach': 5745, 'heed': 3615, 'correctli': 1747, 'dye': 2418, 'shade': 6986, 'dressi': 2361, 'coupl': 1777, 'maza': 4822, 'yellow': 9180, 'equal': 2608, 'ranna': 6324, 'richli': 6621, 'hook': 3730, 'bodic': 856, 'dread': 2351, 'fulli': 3181, 'synthet': 7919, 'butt': 1091, 'stick': 7598, 'chilli': 1362, 'parka': 5694, 'prob': 6146, 'blend': 800, 'smoki': 7319, 'odor': 5429, 'smell': 7310, 'disappear': 2205, 'pilcr': 5876, 'goddess': 3349, 'fragil': 3116, 'handl': 3527, 'famili': 2789, 'friendli': 3145, 'keeper': 4234, 'slim': 7263, 'profil': 6166, 'forgiv': 3081, 'pile': 5880, 'voila': 8775, 'sandal': 6796, 'trump': 8341, 'stitchwork': 7617, 'flash': 2951, 'extraordinari': 2741, 'inseam': 3995, 'advertis': 114, 'event': 2656, 'tallest': 7952, 'paig': 5644, 'job': 4179, 'airi': 165, 'overli': 5597, 'hsould': 3778, 'pepl': 5779, 'nottom': 5348, 'gegt': 3261, 'waiat': 8805, 'thigh': 8090, 'musclea': 5134, 'plaform': 5920, 'heek': 3616, 'overtaken': 5611, 'athlet': 458, 'complexion': 1618, 'self': 6935, 'addit': 89, 'display': 2236, 'lighter': 4471, 'hyphen': 3838, 'chino': 1367, 'vertic': 8727, 'elong': 2518, 'muffin': 5115, 'flow': 3014, 'rise': 6643, 'mother': 5082, 'edgi': 2465, 'fray': 3124, 'distress': 2256, 'particular': 5702, 'muscular': 5136, 'calv': 1137, 'anxiou': 319, 'blush': 844, 'mauv': 4810, 'capri': 1175, 'bead': 637, 'biggest': 743, 'attribut': 480, 'dollar': 2292, 'moment': 5036, 'postpartum': 6044, 'lightli': 4474, 'bum': 1058, 'twice': 8397, 'follow': 3057, 'instruct': 4018, 'gentl': 3273, 'tumbl': 8366, 'everywher': 2670, 'rib': 6614, 'hold': 3699, 'toget': 8209, 'ahead': 150, 'pinstrip': 5896, 'drown': 2379, 'combo': 1564, 'gold': 3356, 'sequin': 6959, 'scroll': 6879, 'substanti': 7744, 'pipe': 5900, 'xsmall': 9150, 'besid': 716, 'drop': 2375, 'fault': 2826, 'number': 5371, 'process': 6155, 'million': 4948, 'buck': 1038, 'necessari': 5208, 'varieti': 8686, 'shoe': 7072, 'highli': 3660, 'troubl': 8332, 'breath': 969, 'weighti': 8902, 'bunch': 1064, 'admit': 105, 'stock': 7619, 'realist': 6357, 'assum': 441, 'planet': 5928, 'younger': 9204, 'gambl': 3221, 'rehears': 6462, 'incred': 3945, 'taken': 7945, 'vacat': 8667, 'mexico': 4899, 'head': 3582, 'regret': 6452, 'amp': 253, 'jersey': 4160, 'threw': 8124, 'tack': 7928, 'knock': 4285, 'per': 5785, 'alst': 221, 'version': 8721, 'dn': 2274, 'smae': 7298, 'minu': 4969, 'si': 7119, 'ddress': 1995, 'aprt': 371, 'bulg': 1051, 'rins': 6640, 'tire': 8187, 'soooooo': 7403, 'loooooong': 4582, 'polka': 5989, 'equat': 2609, 'softer': 7371, 'lint': 4516, 'pearl': 5751, 'curl': 1912, 'leav': 4407, 'stone': 7624, 'hors': 3747, 'california': 1131, 'east': 2444, 'flannel': 2946, 'maxi': 4814, 'juli': 4200, 'wed': 8886, 'ever': 2658, 'sloppi': 7280, 'miss': 4991, 'curiou': 1911, 'matter': 4804, 'frustrat': 3167, 'lose': 4600, 'thrill': 8126, 'rceiv': 6343, 'unfold': 8534, 'secondli': 6914, 'floppi': 3001, 'none': 5315, 'brilliant': 991, 'stapl': 7554, 'tradit': 8269, 'soften': 7370, 'bend': 705, 'sal': 6777, 'trip': 8325, 'endo': 2566, 'culott': 1897, 'listen': 4523, 'heck': 3613, 'consider': 1670, 'search': 6900, 'late': 4357, 'yesterday': 9186, 'stop': 7628, 'street': 7667, 'nyc': 5383, 'bell': 695, 'quick': 6277, 'resist': 6545, 'sell': 6936, 'plung': 5964, 'challeng': 1282, 'exclus': 2699, 'tough': 8253, 'tendenc': 8027, 'lg': 4451, 'condit': 1645, 'soon': 7398, 'crochet': 1862, 'groom': 3458, 'puffi': 6215, 'vintag': 8754, 'fairli': 2777, 'nude': 5366, 'standout': 7551, 'skort': 7223, 'whe': 8936, 'popular': 6025, 'cake': 1125, 'ri': 6612, 'exceed': 2687, 'outsid': 5565, 'awesom': 519, 'sake': 6776, 'repeat': 6517, 'aspect': 430, 'reallli': 6362, 'sweet': 7873, 'slender': 7246, 'ampl': 254, 'mislead': 4984, 'wast': 8856, 'pack': 5632, 'string': 7685, 'bicycl': 739, 'anywher': 332, 'closer': 1483, 'elbow': 2499, 'therefor': 8078, 'motif': 5083, 'indigo': 3953, 'nd': 5192, 'cool': 1720, 'potenti': 6049, 'dart': 1978, 'defin': 2044, 'bingo': 760, 'wing': 9017, 'cutout': 1938, 'enorm': 2580, 'chic': 1349, 'ea': 2423, 'chillier': 1363, 'elabor': 2492, 'paddern': 5639, 'down': 2316, 'fyi': 3212, 'unfinish': 8528, 'inform': 3974, 'sew': 6973, 'tightli': 8168, 'px': 6252, 'avail': 498, 'ai': 160, 'door': 2307, 'sm': 7295, 'attir': 475, 'prioriti': 6139, 'eventu': 2657, 'width': 8989, 'group': 3463, 'fleec': 2974, 'plush': 5966, 'smooth': 7320, 'steal': 7579, 'maintain': 4707, 'drool': 2372, 'awhil': 520, 'victorian': 8740, 'billowi': 754, 'ether': 2641, 'somehow': 7385, 'reveal': 6593, 'compos': 1626, 'hottest': 3758, 'mere': 4882, 'boucl': 917, 'set': 6968, 'chair': 1280, 'bulk': 1052, 'woven': 9108, 'rose': 6687, 'glitter': 3331, 'paint': 5646, 'finger': 2907, 'lik': 4484, 'charli': 1304, 'matern': 4796, 'record': 6404, 'flatten': 2959, 'four': 3107, 'polyest': 5994, 'rayon': 6342, 'oh': 5444, 'wrap': 9112, 'blanket': 791, 'wine': 9015, 'pricey': 6125, 'environ': 2598, 'oddli': 5426, 'squeez': 7527, 'clay': 1449, 'nautic': 5183, 'vibe': 8735, 'antho': 306, 'overlook': 5598, 'unimpress': 8553, 'clingi': 1473, 'mor': 5067, 'regard': 6445, 'romant': 6673, 'girli': 3307, 'updat': 8625, 'select': 6934, 'build': 1048, 'wk': 9048, 'invent': 4065, 'boil': 866, 'skeptic': 7202, 'duster': 2412, 'sight': 7132, 'fashion': 2812, 'importantli': 3902, 'cleverli': 1465, 'compet': 1605, 'peekaboo': 5758, 'excel': 2689, 'trendi': 8307, 'accessori': 49, 'wari': 8835, 'slinki': 7271, 'attract': 479, 'creativ': 1830, 'demur': 2082, 'cutesi': 1933, 'factor': 2764, 'highest': 3657, 'nonetheless': 5316, 'boxier': 933, 'unsur': 8603, 'mid': 4908, 'longest': 4567, 'awkwardli': 522, 'exacerb': 2679, 'jag': 4137, 'ribbon': 6616, 'slub': 7290, 'shot': 7093, 'flap': 2947, 'isnt': 4101, 'underst': 8498, 'minor': 4964, 'qualm': 6268, 'met': 4894, 'puffier': 6216, 'consciou': 1665, 'struck': 7696, 'decis': 2017, 'robe': 6655, 'lux': 4665, 'cage': 1122, 'max': 4813, 'wiggl': 8991, 'entir': 2593, 'bag': 548, 'tore': 8238, 'complet': 1614, 'lover': 4624, 'sag': 6766, 'sadi': 6759, 'vaniti': 8680, 'depict': 2095, 'esqu': 2632, 'hemlin': 3631, 'ghilli': 3291, 'booti': 894, 'sleek': 7236, 'watch': 8857, 'enter': 2587, 'promis': 6172, 'derbi': 2100, 'husband': 3824, 'twin': 8400, 'unkept': 8559, 'wor': 9075, 'gauz': 3250, 'formal': 3088, 'puf': 6212, 'uneven': 8520, 'eagerli': 2425, 'await': 512, 'neckln': 5217, 'mcguir': 4825, 'proof': 6180, 'man': 4726, 'classi': 1441, 'sash': 6811, 'snatch': 7335, 'outstand': 5567, 'smile': 7314, 'asscoait': 432, 'mint': 4966, 'byron': 1110, 'lar': 4339, 'dream': 2352, 'rare': 6326, 'french': 3134, 'mod': 5016, 'featur': 2844, 'droop': 2373, 'ion': 4076, 'mediocr': 4847, 'offer': 5435, 'misalign': 4978, 'somewher': 7393, 'standup': 7553, 'lapel': 4338, 'fasten': 2815, 'opt': 5499, 'play': 5938, 'mustard': 5143, 'act': 77, 'aa': 0, 'xspetit': 9152, 'tomato': 8217, 'melon': 4865, 'salmon': 6788, 'constrict': 1678, 'yoga': 9196, 'test': 8045, 'vinyasa': 8756, 'class': 1440, 'held': 3625, 'luckili': 4645, 'partway': 5707, 'lib': 4454, 'site': 7184, 'lo': 4545, 'angel': 272, 'begin': 678, 'hoodi': 3729, 'seater': 6908, 'colder': 1524, 'runner': 6732, 'backsid': 539, 'game': 3222, 'flutter': 3038, 'inde': 3946, 'inexpens': 3966, 'prudish': 6199, 'contain': 1685, 'sad': 6755, 'van': 8677, 'tinier': 8180, 'strike': 7683, 'distinct': 2250, 'shift': 7043, 'nowher': 5356, 'zoom': 9233, 'imag': 3875, 'text': 8050, 'god': 3348, 'earth': 2434, 'bore': 900, 'bump': 1060, 'lump': 4652, 'highlight': 3661, 'immodest': 3888, 'jogger': 4184, 'ridicul': 6629, 'bandeau': 581, 'stage': 7542, 'midriff': 4916, 'experi': 2720, 'harder': 3550, 'damag': 1958, 'unforgiv': 8537, 'stomach': 7623, 'tum': 8365, 'appreci': 354, 'associ': 439, 'drive': 2369, 'often': 5443, 'air': 163, 'accessor': 48, 'soo': 7397, 'wors': 9095, 'properli': 6184, 'relax': 6474, 'worthi': 9099, 'splash': 7484, 'emboss': 2533, 'pad': 5637, 'firm': 2917, 'youth': 9206, 'young': 9203, 'nip': 5297, 'marl': 4758, 'recurr': 6410, 'excus': 2701, 'impress': 3907, 'favor': 2833, 'attent': 471, 'flater': 2955, 'volum': 8779, 'fitter': 2928, 'shirter': 7059, 'boy': 935, 'ot': 5535, 'regrett': 6453, 'teach': 7989, 'deal': 1999, 'name': 5161, 'town': 8260, 'tran': 8276, 'boyfriend': 936, 'mix': 5005, 'adopt': 108, 'curatori': 1906, 'approach': 356, 'dramat': 2335, 'draperi': 2339, 'boho': 865, 'inner': 3988, 'haha': 3502, 'signific': 7136, 'tab': 7924, 'trunk': 8342, 'kid': 4248, 'thirti': 8104, 'forgotten': 3085, 'peasant': 5752, 'flounci': 3011, 'togeth': 8210, 'empir': 2550, 'aesthet': 117, 'bill': 752, 'drew': 2364, 'separ': 6953, 'rais': 6315, 'hidden': 3651, 'bow': 929, 'fuss': 3205, 'ge': 3257, 'intend': 4028, 'seriou': 6963, 'itch': 4109, 'toler': 8214, 'placement': 5918, 'custom': 1926, 'wou': 9102, 'wayyy': 8869, 'wa': 8793, 'horizont': 3739, 'sent': 6950, 'preppi': 6096, 'hubbi': 3789, 'own': 5624, 'coral': 1733, 'tweak': 8391, 'wise': 9030, 'midsect': 4919, 'onto': 5468, 'durabl': 2408, 'eyelet': 2751, 'peacock': 5748, 'tan': 7955, 'inappropri': 3920, 'tube': 8356, 'fe': 2838, 'hinder': 3669, 'push': 6245, 'opportun': 5494, 'earlier': 2430, 'meant': 4833, 'step': 7588, 'notch': 5342, 'slouchi': 7284, 'indoor': 3956, 'indic': 3951, 'nod': 5308, 'accommod': 54, 'skater': 7201, 'sister': 7180, 'bounci': 922, 'heart': 3593, 'mood': 5061, 'vari': 8682, 'matronli': 4802, 'gift': 3298, 'kudo': 4302, 'crave': 1817, 'hd': 3581, 'pari': 5691, 'fail': 2770, 'admir': 103, 'iter': 4112, 'delight': 2066, 'oatmeal': 5390, 'confus': 1658, 'puttin': 6249, 'tho': 8106, 'struggl': 7698, 'choos': 1380, 'refresh': 6438, 'doubl': 2311, 'avoid': 510, 'bagg': 549, 'cur': 1904, 'belong': 700, 'sock': 7362, 'cheerlead': 1331, 'neither': 5233, 'fab': 2754, 'shock': 7069, 'honestli': 3720, 'blousi': 828, 'cap': 1171, 'plastic': 5931, 'fool': 3063, 'diamond': 2151, 'sipper': 7178, 'ore': 5518, 'bendabl': 706, 'honest': 3718, 'glove': 3342, 'confort': 1657, 'jlo': 4176, 'expen': 2717, 'correct': 1746, 'ft': 3169, 'particularli': 5703, 'rocker': 6660, 'indiffer': 3952, 'complementari': 1613, 'adequ': 95, 'hint': 3672, 'seduct': 6920, 'exquisit': 2732, 'garner': 3237, 'wrinkli': 9129, 'corner': 1740, 'mannequin': 4735, 'dolli': 2293, 'pardon': 5689, 'weirdli': 8907, 'messi': 4893, 'patch': 5719, 'rag': 6301, 'church': 1403, 'function': 3184, 'giant': 3295, 'preschool': 6098, 'lbssize': 4387, 'cuz': 1943, 'darn': 1977, 'placket': 5919, 'creami': 1823, 'brownish': 1019, 'burgundi': 1074, 'butterfli': 1096, 'goldenrod': 3358, 'turquois': 8380, 'li': 4452, 'pillowi': 5885, 'cheaper': 1314, 'earli': 2429, 'valentin': 8672, 'extend': 2735, 'tassel': 7971, 'sophist': 7408, 'timeless': 8175, 'ddd': 1992, 'floati': 2995, 'cling': 1472, 'intrigu': 4057, 'nearli': 5197, 'consist': 1671, 'danc': 1961, 'hmm': 3688, 'cartonni': 1213, 'laugh': 4365, 'soooo': 7401, 'blk': 812, 'outdoor': 5554, 'toss': 8247, 'western': 8920, 'lucki': 4644, 'intarsia': 4026, 'complement': 1612, 'deodor': 2091, 'perfum': 5803, 'nauseat': 5182, 'spend': 7470, 'standard': 7550, 'scare': 6845, 'yike': 9193, 'card': 1183, 'gon': 3362, 'na': 5157, 'poppi': 6022, 'began': 677, 'collarbon': 1531, 'disturb': 2259, 'cargo': 1195, 'workplac': 9086, 'hunt': 3816, 'bomber': 872, 'edit': 2467, 'surpass': 7829, 'choker': 1378, 'trick': 8316, 'skim': 7208, 'sheen': 7024, 'smart': 7306, 'boost': 890, 'beach': 634, 'aqua': 377, 'view': 8743, 'bath': 617, 'shop': 7078, 'suitabl': 7770, 'pool': 6011, 'jack': 4129, 'undon': 8516, 'lift': 4467, 'activ': 79, 'releg': 6477, 'nightgown': 5285, 'categori': 1240, 'exist': 2707, 'hungri': 3815, 'restock': 6557, 'five': 2929, 'bikini': 750, 'splurg': 7492, 'roomier': 6682, 'uncertain': 8458, 'asser': 435, 'calf': 1127, 'nope': 5328, 'sigh': 7131, 'quest': 6273, 'racerback': 6292, 'reserv': 6537, 'free': 3127, 'effortless': 2472, 'concert': 1639, 'braid': 949, 'braless': 952, 'workmanship': 9084, 'amazingli': 237, 'improv': 3912, 'futur': 3207, 'daytim': 1988, 'chambray': 1283, 'everyon': 2665, 'regain': 6443, 'crotch': 1873, 'sincer': 7169, 'batch': 615, 'fate': 2819, 'twill': 8399, 'camoflag': 1148, 'tencel': 8023, 'swimsuit': 7886, 'showi': 7105, 'ice': 3845, 'poolsid': 6012, 'scuba': 6887, 'dive': 2263, 'spectacular': 7464, 'starter': 7564, 'cheek': 1325, 'cashmer': 1223, 'recogn': 6391, 'intent': 4030, 'judg': 4194, 'bodycon': 858, 'anti': 309, 'cutest': 1934, 'glamor': 3318, 'someday': 7384, 'wasa': 8845, 'uniform': 8551, 'lie': 4458, 'success': 7752, 'lectur': 4409, 'colleg': 1536, 'undergrad': 8485, 'email': 2526, 'web': 8884, 'getaway': 3285, 'halter': 3517, 'flip': 2986, 'flop': 3000, 'tenni': 8029, 'sporti': 7503, 'boob': 881, 'pucker': 6205, 'polit': 5988, 'compani': 1595, 'underwear': 8506, 'cross': 1866, 'bod': 853, 'press': 6102, 'juic': 4197, 'venic': 8700, 'btw': 1034, 'trouser': 8335, 'slide': 7253, 'creas': 1826, 'stumbl': 7710, 'drag': 2331, 'da': 1946, 'shin': 7048, 'justifi': 4213, 'pit': 5906, 'becom': 662, 'write': 9131, 'panel': 5672, 'term': 8034, 'midday': 4909, 'ipad': 4079, 'velcro': 8694, 'lychni': 4670, 'gentli': 3275, 'grip': 3451, 'catalog': 1233, 'rememb': 6495, 'horsesho': 3748, 'volumin': 8780, 'flight': 2984, 'conveni': 1708, 'schlumpi': 6855, 'shawl': 7014, 'heartbroken': 3597, 'backyard': 542, 'halfway': 3510, 'naval': 5184, 'kill': 4251, 'mark': 4755, 'gape': 3226, 'indec': 3947, 'exposur': 2730, 'bulkier': 1054, 'seldom': 6933, 'jessa': 4163, 'compel': 1603, 'hefti': 3619, 'semi': 6942, 'softest': 7372, 'cocoon': 1512, 'apt': 373, 'shortcom': 7085, 'fuller': 3179, 'armpit': 399, 'smaill': 7299, 'mediumd': 4851, 'rough': 6697, 'fancier': 2796, 'valu': 8675, 'shorti': 7089, 'othewis': 5542, 'exact': 2680, 'death': 2003, 'choke': 1377, 'saturday': 6823, 'denimi': 2086, 'tast': 7973, 'peter': 5826, 'pan': 5668, 'expens': 2718, 'heavenli': 3608, 'florida': 3009, 'heat': 3601, 'sand': 6795, 'ten': 8022, 'hoo': 3726, 'promo': 6173, 'emphas': 2548, 'ting': 8178, 'superior': 7805, 'underestim': 8483, 'expo': 2729, 'fiancã': 2877, 'alin': 191, 'satur': 6822, 'refin': 6433, 'abil': 16, 'st': 7534, 'oklahoma': 5449, 'frumpi': 3165, 'wet': 8923, 'dainti': 1951, 'brick': 978, 'imperfect': 3897, 'phenomen': 5840, 'crinolin': 1850, 'falter': 2787, 'wrist': 9130, 'minnesota': 4962, 'acryl': 76, 'nylon': 5386, 'beig': 686, 'overlay': 5596, 'coffe': 1515, 'dolman': 2294, 'cant': 1166, 'speak': 7454, 'wearabl': 8877, 'breathabl': 970, 'pro': 6144, 'cloud': 1490, 'discov': 2222, 'sooner': 7399, 'understand': 8499, 'xxl': 9158, 'websit': 8885, 'pregnanc': 6089, 'dirti': 2199, 'advis': 116, 'autobot': 493, 'symbol': 7912, 'transform': 8281, 'import': 3901, 'tur': 8373, 'nap': 5168, 'thursday': 8145, 'knitter': 4281, 'jacquard': 4135, 'yarn': 9172, 'viscos': 8760, 'squish': 7530, 'envelop': 2596, 'humong': 3807, 'money': 5044, 'diagon': 2148, 'rear': 6366, 'desir': 2117, 'endless': 2564, 'unifi': 8550, 'theme': 8069, 'trust': 8343, 'misl': 4982, 'asian': 426, 'inspir': 4004, 'mockneck': 5015, 'funnel': 3190, 'foldov': 3054, 'refus': 6440, 'pose': 6032, 'portland': 6029, 'horrifi': 3745, 'attend': 470, 'suddenli': 7759, 'increas': 3943, 'persimmon': 5814, 'orangey': 5506, 'pl': 5915, 'pm': 5968, 'undecid': 8475, 'den': 2083, 'request': 6530, 'wrin': 9124, 'eira': 2487, 'mute': 5147, 'riski': 6645, 'laid': 4325, 'suggest': 7767, 'slate': 7232, 'fav': 2831, 'lbd': 4385, 'cinch': 1407, 'taffeta': 7934, 'convinc': 1714, 'amalfi': 235, 'coast': 1507, 'child': 1355, 'unnatur': 8567, 'stiffer': 7602, 'bathrob': 618, 'midweight': 4924, 'bewar': 729, 'eh': 2479, 'theo': 8070, 'nli': 5303, 'workout': 9085, 'disappoitn': 2210, 'sice': 7120, 'rang': 6322, 'requir': 6531, 'anthto': 308, 'facebook': 2762, 'page': 5641, 'sparkl': 7449, 'emerald': 2544, 'dime': 2180, 'sheath': 7019, 'unworn': 8619, 'unwash': 8616, 'hate': 3567, 'shirtdress': 7058, 'awar': 514, 'guy': 3490, 'within': 9042, 'menswear': 4874, 'answer': 299, 'copper': 1731, 'charact': 1295, 'eleven': 2509, 'reliabl': 6481, 'profession': 6163, 'cardin': 1189, 'shrinkag': 7112, 'camo': 1147, 'lokka': 4559, 'criss': 1855, 'unbeliev': 8454, 'octob': 5422, 'cowboy': 1793, 'chesti': 1345, 'ha': 3494, 'albeit': 181, 'settl': 6969, 'groceri': 3455, 'yeah': 9176, 'threaten': 8122, 'silli': 7149, 'flex': 2980, 'situat': 7186, 'accept': 44, 'whose': 8974, 'deduct': 2028, 'tulip': 8363, 'beyond': 730, 'purpl': 6237, 'iri': 4083, 'bloom': 820, 'slouch': 7283, 'aw': 511, 'absurd': 33, 'disproportion': 2239, 'rectifi': 6409, 'ditto': 2261, 'graphic': 3416, 'boat': 851, 'suspect': 7841, 'report': 6525, 'summeri': 7780, 'corduroy': 1735, 'butteri': 1097, 'swingi': 7891, 'oppos': 5495, 'san': 6793, 'seamstress': 6898, 'anim': 278, 'bozo': 942, 'jungl': 4207, 'cord': 1734, 'examin': 2684, 'treat': 8300, 'pirchas': 5905, 'gauzi': 3252, 'spent': 7472, 'mill': 4946, 'verdict': 8708, 'ilik': 3869, 'wh': 8926, 'speckl': 7463, 'wispi': 9035, 'nubbi': 5363, 'spare': 7446, 'slash': 7231, 'friday': 3143, 'collag': 1528, 'sooooooo': 7404, 'raspberri': 6330, 'dusti': 2413, 'temp': 8015, 'instant': 4011, 'poof': 6008, 'penni': 5775, 'sneaker': 7338, 'secur': 6919, 'southeast': 7427, 'rust': 6739, 'ahol': 156, 'disguis': 2227, 'maker': 4715, 'morn': 5072, 'tempt': 8020, 'whatev': 8932, 'anymor': 324, 'ag': 133, 'expand': 2713, 'impli': 3899, 'dove': 2313, 'silver': 7154, 'sparkli': 7451, 'purcha': 6233, 'snuggli': 7353, 'afraid': 125, 'chunki': 1402, 'kick': 4246, 'multi': 5122, 'occasion': 5410, 'richer': 6620, 'everth': 2662, 'gladli': 3316, 'brainer': 950, 'verg': 8710, 'lend': 4429, 'thu': 8142, 'shini': 7051, 'moulinett': 5092, 'yay': 9173, 'gawk': 3255, 'compl': 1607, 'concept': 1636, 'candi': 1160, 'opposit': 5496, 'styliz': 7726, 'complain': 1608, 'car': 1180, 'main': 4703, 'daili': 1950, 'mildish': 4936, 'nw': 5381, 'fuzzi': 3211, 'furri': 3197, 'tat': 7974, 'temperatur': 8017, 'luv': 4664, 'butter': 1094, 'bone': 874, 'hood': 3728, 'imped': 3895, 'cart': 1209, 'york': 9201, 'ecept': 2454, 'htey': 3783, 'lengthi': 4436, 'bueno': 1044, 'gripe': 3452, 'background': 534, 'woodsi': 9067, 'robin': 6656, 'merri': 4888, 'men': 4870, 'fluid': 3031, 'dog': 2284, 'latt': 4362, 'tabl': 7926, 'wherev': 8944, 'delici': 2065, 'omg': 5458, 'drawback': 2345, 'distract': 2254, 'em': 2525, 'aptli': 374, 'unlin': 8563, 'prone': 6177, 'ugg': 8422, 'sweatercoat': 7863, 'sawn': 6833, 'northern': 5337, 'cocktail': 1511, 'festiv': 2870, 'reveri': 6596, 'castl': 1226, 'legend': 4417, 'berri': 715, 'magic': 4692, 'manag': 4727, 'broader': 999, 'dissapoint': 2242, 'translat': 8284, 'baggier': 553, 'coal': 1505, 'papaya': 5680, 'khaki': 4245, 'geiger': 3262, 'independ': 3948, 'novemb': 5354, 'train': 8271, 'role': 6668, 'serv': 6965, 'shiop': 7053, 'sundri': 7788, 'kaki': 4222, 'habit': 3495, 'bash': 608, 'tax': 7980, 'strip': 7686, 'bland': 789, 'belov': 701, 'outdon': 5553, 'wel': 8908, 'deliv': 2070, 'terrif': 8040, 'jacki': 4131, 'heard': 3592, 'grace': 3395, 'kelli': 4238, 'prewash': 6119, 'def': 2034, 'fast': 2814, 'carolyn': 1202, 'blair': 787, 'helpfu': 3628, 'gorgeous': 3380, 'standpoint': 7552, 'shout': 7100, 'reno': 6508, 'distribut': 2257, 'center': 1266, 'tonight': 8224, 'terri': 8038, 'fleck': 2973, 'thickest': 8087, 'loosest': 4594, 'strangest': 7647, 'salesladi': 6782, 'covet': 1791, 'instagram': 4008, 'squishi': 7531, 'iphon': 4080, 'wallet': 8821, 'fallen': 2784, 'puppi': 6228, 'divin': 2267, 'drearriest': 2355, 'ftin': 3170, 'princess': 6134, 'id': 3849, 'mango': 4730, 'cheeri': 1330, 'stash': 7566, 'phone': 5844, 'tomorrow': 8220, 'infin': 3969, 'quadricep': 6259, 'son': 7395, 'op': 5482, 'birthday': 768, 'llama': 4540, 'ah': 147, 'maze': 4823, 'conspicu': 1673, 'tru': 8336, 'south': 7426, 'compliement': 1621, 'rooster': 6684, 'farm': 2803, 'purplish': 6240, 'deter': 2130, 'variat': 8685, 'cabl': 1114, 'gaug': 3248, 'reluct': 6487, 'perspect': 5817, 'sewer': 6974, 'crook': 1864, 'curvey': 1920, 'dddd': 1993, 'widen': 8986, 'blowzi': 834, 'surrend': 7835, 'leaner': 4399, 'yell': 9178, 'manner': 4736, 'grrr': 3467, 'graviti': 3421, 'comf': 1567, 'heftier': 3620, 'undershirt': 8494, 'bronz': 1006, 'exot': 2711, 'deserv': 2112, 'lyocel': 4673, 'drawstr': 2349, 'dip': 2193, 'pointel': 5978, 'invest': 4068, 'jump': 4202, 'asset': 436, 'squirm': 7528, 'usa': 8650, 'global': 3335, 'sourc': 7425, 'sundress': 7787, 'criterion': 1857, 'pla': 5916, 'pleasant': 5946, 'iand': 3842, 'balloon': 569, 'pastel': 5716, 'paisley': 5649, 'comput': 1631, 'screen': 6876, 'garmet': 3236, 'widest': 8988, 'interestingli': 4034, 'spite': 7483, 'cuf': 1895, 'crinkl': 1848, 'unwear': 8617, 'experienc': 2721, 'pouf': 6051, 'misshapen': 4992, 'employe': 2552, 'ig': 3861, 'repres': 6526, 'deepli': 2032, 'anna': 283, 'sui': 7768, 'switch': 7900, 'omit': 5459, 'lin': 4502, 'glitteri': 3332, 'ban': 577, 'quilt': 6281, 'judi': 4196, 'jetson': 4166, 'spandex': 7443, 'shrank': 7109, 'dind': 2186, 'jog': 4183, 'stright': 7682, 'din': 2185, 'dt': 2388, 'wrikl': 9123, 'wwear': 9143, 'jsut': 4190, 'snakeskin': 7331, 'superb': 7801, 'chartreus': 1309, 'distort': 2253, 'retain': 6576, 'pont': 6004, 'enviou': 2597, 'yoke': 9199, 'echo': 2455, 'cobalt': 1510, 'althleisur': 227, 'market': 4757, 'remain': 6490, 'spain': 7441, 'flamenco': 2943, 'armi': 398, 'mellow': 4862, 'virtual': 8759, 'throu': 8130, 'crepe': 1837, 'bleed': 799, 'soak': 7355, 'drip': 2368, 'undergar': 8484, 'hei': 3621, 'nue': 5368, 'shani': 6996, 'dowdi': 2315, 'underwhelm': 8508, 'sport': 7502, 'colorfast': 1545, 'panti': 5677, 'space': 7435, 'spill': 7479, 'jumper': 4203, 'streamlin': 7662, 'wire': 9027, 'research': 6534, 'interchang': 4032, 'flowey': 3017, 'su': 7728, 'artifici': 414, 'grass': 3417, 'hula': 3799, 'confid': 1652, 'mara': 4744, 'hoffman': 3694, 'sore': 7412, 'puff': 6213, 'exercis': 2704, 'control': 1706, 'gun': 3485, 'shi': 7041, 'advic': 115, 'peev': 5762, 'ground': 3462, 'recei': 6378, 'lightweat': 4477, 'wiastband': 8980, 'doesnt': 2283, 'your': 9205, 'fa': 2753, 'mile': 4938, 'bodysuit': 859, 'bei': 685, 'loooov': 4586, 'frequent': 3135, 'breaker': 963, 'die': 2160, 'errand': 2619, 'park': 5693, 'break': 962, 'lavend': 4371, 'bird': 763, 'desper': 2119, 'fairi': 2775, 'sunlight': 7794, 'fortun': 3098, 'clerk': 1461, 'mailbox': 4701, 'outlin': 5562, 'decolletag': 2022, 'ro': 6649, 'abolut': 21, 'glanc': 3320, 'sun': 7784, 'kimono': 4254, 'bando': 582, 'whenev': 8941, 'epitom': 2604, 'bolo': 870, 'incal': 3926, 'flir': 2989, 'toosh': 8226, 'fl': 2933, 'disneyland': 2235, 'brush': 1025, 'caveat': 1250, 'contrari': 1700, 'transpar': 8287, 'photoshoot': 5849, 'scallop': 6840, 'overlaid': 5594, 'abstract': 32, 'shap': 6998, 'irish': 4085, 'fest': 2869, 'descent': 2105, 'fair': 2773, 'bet': 720, 'crossbodi': 1867, 'explor': 2727, 'citi': 1424, 'strappi': 7652, 'heal': 3587, 'flashi': 2953, 'garden': 3232, 'throug': 8131, 'shimmi': 7047, 'killer': 4252, 'hub': 3788, 'starbuck': 7556, 'barista': 596, 'apron': 370, 'scarv': 6847, 'borderlin': 899, 'fluke': 3033, 'paper': 5681, 'tissu': 8189, 'rotat': 6693, 'realllli': 6363, 'pump': 6222, 'potato': 6047, 'monthli': 5059, 'easter': 2445, 'tide': 8154, 'remot': 6500, 'spirit': 7482, 'welcom': 8909, 'european': 2648, 'variabl': 8683, 'glow': 3343, 'flattrer': 2963, 'trhrow': 8310, 'eregular': 2614, 'hippi': 3677, 'cent': 1265, 'up': 8622, 'betti': 724, 'draper': 2338, 'tangerin': 7956, 'brother': 1012, 'hearti': 3600, 'laika': 4327, 'inca': 3925, 'sh': 6983, 'rack': 6297, 'instantli': 4013, 'unnotic': 8570, 'resembl': 6535, 'represent': 6527, 'truer': 8339, 'everytim': 2668, 'blood': 819, 'ooopss': 5478, 'teenag': 8004, 'wherea': 8942, 'aaaaandidon': 2, 'twanttopayforship': 8390, 'remedi': 6494, 'pasadena': 5709, 'contribut': 1704, 'partum': 5706, 'certain': 1272, 'obscen': 5400, 'sherpa': 7039, 'there': 8076, 'that': 8061, 'desideria': 2115, 'dakota': 1954, 'cheetah': 1335, 'singl': 7174, 'korean': 4297, 'brunch': 1023, 'whimsi': 8955, 'constantli': 1675, 'accord': 58, 'tier': 8159, 'downright': 2320, 'bridal': 980, 'dre': 2350, 'ideal': 3853, 'silkier': 7145, 'pashmina': 5710, 'pe': 5742, 'canva': 1169, 'moveabl': 5099, 'detract': 2137, 'win': 9008, 'connect': 1661, 'blob': 814, 'showstopp': 7108, 'midst': 4920, 'doldrum': 2290, 'springi': 7512, 'powderi': 6060, 'envis': 2599, 'retro': 6583, 'mari': 4750, 'jane': 4141, 'inconsist': 3937, 'reinforc': 6467, 'boarder': 849, 'tail': 7940, 'pointi': 5979, 'skir': 7220, 'wishlist': 9033, 'coordin': 1727, 'stevi': 7594, 'chemic': 1339, 'starch': 7558, 'elsewher': 2522, 'strand': 7644, 'yep': 9183, 'resewn': 6539, 'poplin': 6020, 'coz': 1798, 'barn': 598, 'allllllmost': 200, 'nippl': 5298, 'urg': 8649, 'meh': 4858, 'pom': 5998, 'row': 6704, 'seed': 6923, 'keepin': 4235, 'deceiv': 2009, 'statur': 7576, 'out': 5550, 'embarrass': 2529, 'jackpot': 4132, 'tear': 7993, 'freeli': 3130, 'shrunken': 7115, 'impend': 3896, 'fuchsia': 3174, 'disintegr': 2232, 'discard': 2213, 'cervic': 1274, 'cancer': 1159, 'survivor': 7839, 'health': 3588, 'talk': 7949, 'count': 1771, 'sunni': 7795, 'diver': 2264, 'zig': 9222, 'zag': 9217, 'upsid': 8639, 'petticoat': 5834, 'symmetr': 7913, 'decor': 2025, 'object': 5395, 'cutsi': 1940, 'safe': 6763, 'largish': 4343, 'darl': 1976, 'fring': 3149, 'spoke': 7496, 'languag': 4335, 'dangl': 1965, 'ear': 2427, 'spice': 7475, 'unpleas': 8575, 'cheapli': 1318, 'asap': 418, 'sel': 6932, 'nv': 5380, 'signatur': 7135, 'stole': 7622, 'shower': 7104, 'comparison': 1600, 'sailboat': 6773, 'wave': 8863, 'reg': 6441, 'wife': 8990, 'saggi': 6768, 'convert': 1712, 'popsicl': 6023, 'chemis': 1340, 'nighti': 5286, 'mini': 4953, 'allov': 202, 'shortest': 7088, 'lastli': 4354, 'ou': 5547, 'fascin': 2811, 'coars': 1506, 'meati': 4840, 'handkerchief': 3526, 'buyer': 1107, 'giantess': 3296, 'fee': 2848, 'oil': 5446, 'punk': 6226, 'causal': 1246, 'muumuu': 5150, 'transist': 8282, 'appli': 349, 'proportion': 6186, 'rea': 6345, 'led': 4410, 'beau': 646, 'hospit': 3752, 'gown': 3390, 'shut': 7117, 'inconveni': 3938, 'eclect': 2456, 'strongli': 7694, 'clasp': 1439, 'fill': 2895, 'mold': 5033, 'hi': 3649, 'contortionist': 1694, 'hyster': 3840, 'hurt': 3823, 'poke': 5980, 'accident': 51, 'peep': 5760, 'tape': 7965, 'yo': 9195, 'impract': 3906, 'heather': 3603, 'loop': 4589, 'cutoff': 1937, 'demonstr': 2080, 'encompass': 2560, 'slighti': 7259, 'hypo': 3839, 'movi': 5101, 'fantasia': 2799, 'tiem': 8158, 'liekd': 4459, 'otherwsi': 5541, 'petti': 5833, 'mifnight': 4928, 'aka': 174, 'laway': 4374, 'twist': 8405, 'turtl': 8381, 'knot': 4288, 'matl': 4801, 'cupcak': 1902, 'happili': 3546, 'whisker': 8963, 'jearn': 4155, 'finial': 2910, 'neatli': 5202, 'land': 4333, 'mo': 5011, 'accid': 50, 'sutbl': 7845, 'remiss': 6498, 'student': 7703, 'jut': 4214, 'iso': 4102, 'confess': 1651, 'present': 6099, 'faculti': 2766, 'hundr': 3813, 'aforement': 124, 'blah': 786, 'crinkli': 1849, 'slick': 7251, 'understat': 8500, 'father': 2820, 'evanth': 2652, 'palett': 5660, 'outstretch': 5568, 'donat': 2300, 'sunglass': 7792, 'freez': 3132, 'advantag': 112, 'dynam': 2420, 'info': 3973, 'clever': 1464, 'eyeglass': 2749, 'milder': 4935, 'nuanc': 5361, 'usabl': 8651, 'pare': 5690, 'juxtaposit': 4218, 'american': 245, 'accomod': 55, 'ful': 3176, 'regist': 6450, 'fingernail': 2908, 'caramel': 1181, 'racer': 6291, 'bu': 1035, 'favul': 2836, 'jewleri': 4170, 'sumo': 7782, 'wrestler': 9120, 'atlanta': 464, 'allergi': 195, 'camel': 1141, 'camp': 1151, 'velveti': 8698, 'til': 8170, 'known': 4291, 'sateen': 6814, 'equival': 2611, 'versit': 8722, 'meal': 4830, 'tweed': 8393, 'sown': 7432, 'frabic': 3113, 'spanx': 7445, 'constrain': 1677, 'coke': 1521, 'bottl': 912, 'defens': 2040, 'solidli': 7378, 'offset': 5440, 'xxxl': 9163, 'decemb': 2010, 'louisiana': 4610, 'ple': 5944, 'adhes': 96, 'pasti': 5717, 'satin': 6815, 'fuzz': 3210, 'sampl': 6791, 'landscap': 4334, 'sacrific': 6753, 'pure': 6236, 'seek': 6924, 'block': 815, 'snowi': 7344, 'snuggl': 7352, 'twig': 8398, 'sma': 7296, 'interview': 4047, 'lunch': 4655, 'wont': 9063, 'brow': 1014, 'earthi': 2435, 'categor': 1239, 'masculin': 4772, 'reluctantli': 6488, 'goon': 3376, 'forewarn': 3078, 'ratio': 6335, 'splendidli': 7487, 'region': 6449, 'largest': 4342, 'dapper': 1968, 'british': 995, 'kangaroo': 4223, 'pouch': 6050, 'becau': 660, 'seat': 6906, 'downfal': 2317, 'sienna': 7128, 'addict': 88, 'hawaii': 3577, 'atroci': 466, 'physiqu': 5852, 'social': 7361, 'curtain': 1917, 'direct': 2196, 'primari': 6132, 'restroom': 6562, 'xspwa': 9153, 'jewel': 4167, 'folk': 3055, 'common': 1589, 'muc': 5110, 'law': 4373, 'bridesmaid': 982, 'purpos': 6242, 'promin': 6171, 'crisper': 1852, 'beadwork': 638, 'hwi': 3829, 'colla': 1526, 'rel': 6471, 'countless': 1775, 'steep': 7584, 'stabl': 7537, 'evid': 2672, 'po': 5970, 'tea': 7988, 'west': 8919, 'blindli': 806, 'floreat': 3006, 'akemi': 175, 'kin': 4255, 'reach': 6346, 'takeaway': 7944, 'picnic': 5860, 'wrote': 9137, 'stroke': 7690, 'isabella': 4096, 'sinclair': 7171, 'grid': 3449, 'till': 8172, 'copperi': 1732, 'simultan': 7166, 'ranch': 6318, 'tip': 8185, 'lol': 4560, 'discourag': 2221, 'will': 9002, 'minneapol': 4960, 'trigger': 8321, 'grandma': 3407, 'ensembl': 2585, 'occurr': 5413, 'static': 7570, 'clung': 1498, 'battl': 622, 'desert': 2111, 'drab': 2329, 'dolan': 2288, 'tucker': 8359, 'shear': 7015, 'fox': 3109, 'bizarr': 779, 'mp': 5103, 'pet': 5824, 'seamless': 6896, 'capsul': 1176, 'multitud': 5125, 'result': 6563, 'hike': 3666, 'az': 524, 'restrict': 6561, 'wild': 8997, 'music': 5140, 'quad': 6258, 'suck': 7755, 'laci': 4312, 'comfiest': 1569, 'muscl': 5133, 'getter': 3287, 'attn': 477, 'raglan': 6304, 'straighten': 7639, 'eaisli': 2426, 'gentleman': 3274, 'irvin': 4095, 'servic': 6966, 'horribl': 3742, 'sexier': 6977, 'revert': 6598, 'aris': 392, 'elastis': 2497, 'aleardi': 183, 'mode': 5019, 'prettiest': 6110, 'lingeri': 4511, 'drawer': 2347, 'fianc': 2876, 'date': 1980, 'bothersom': 907, 'chosen': 1388, 'grown': 3465, 'amen': 244, 'mesh': 4889, 'gain': 3215, 'bandag': 579, 'safeti': 6764, 'godet': 3350, 'royal': 6705, 'femini': 2863, 'grant': 3414, 'florascura': 3005, 'hardli': 3553, 'whilst': 8953, 'august': 487, 'art': 411, 'teeni': 8005, 'posse': 6034, 'inward': 4073, 'strain': 7643, 'owner': 5625, 'deletta': 2061, 'mislabel': 4983, 'incorpor': 3939, 'suppli': 7815, 'individu': 3955, 'random': 6320, 'ribcag': 6617, 'tylho': 8413, 'blu': 835, 'skit': 7222, 'pice': 5856, 'appopri': 352, 'slept': 7247, 'dolc': 2289, 'vita': 8766, 'matur': 4807, 'adult': 111, 'daydream': 1986, 'honeymoon': 3723, 'cinqu': 1413, 'terr': 8035, 'woke': 9055, 'disast': 2211, 'unevenli': 8521, 'outsi': 5564, 'damp': 1960, 'europ': 2647, 'previous': 6118, 'overdon': 5583, 'bathroom': 619, 'nine': 5295, 'grayish': 3423, 'saleswoman': 6785, 'interior': 4039, 'sum': 7773, 'crossov': 1870, 'mimic': 4949, 'indian': 3950, 'sari': 6807, 'sacrif': 6752, 'sea': 6891, 'lov': 4617, 'brocad': 1000, 'polyesteri': 5995, 'tinselli': 8182, 'whatnot': 8933, 'hue': 3790, 'june': 4206, 'scheme': 6854, 'assemblag': 434, 'motion': 5085, 'float': 2994, 'upcom': 8624, 'taho': 7939, 'boze': 941, 'heartbeat': 3594, 'intens': 4029, 'express': 2731, 'impuls': 3913, 'botto': 913, 'camouflag': 1150, 'stamp': 7547, 'effortlessli': 2473, 'rial': 6613, 'dippi': 2194, 'hahaha': 3503, 'carefre': 1192, 'hear': 3591, 'reunion': 6590, 'cancel': 1158, 'chock': 1372, 'dr': 2328, 'rouch': 6695, 'embroard': 2535, 'deleg': 2059, 'introduct': 4060, 'talent': 7948, 'gill': 3301, 'unawar': 8450, 'rd': 6344, 'fight': 2890, 'hid': 3650, 'platform': 5936, 'seersuck': 6929, 'loungewear': 4614, 'reli': 6480, 'owe': 5621, 'commun': 1591, 'eva': 2650, 'franco': 3121, 'technic': 7998, 'ill': 3870, 'coupon': 1778, 'skew': 7203, 'loser': 4601, 'iorder': 4078, 'rregualr': 6708, 'decic': 2014, 'netur': 5249, 'stil': 7606, 'lavaialbl': 4370, 'ike': 3867, 'blueness': 838, 'acutu': 84, 'ch': 1276, 'avid': 509, 'niec': 5280, 'gothic': 3386, 'biker': 749, 'moto': 5087, 'aler': 184, 'teen': 8003, 'kicki': 4247, 'basement': 607, 'swore': 7906, 'hav': 3571, 'powerless': 6062, 'satini': 6816, 'champagn': 1287, 'ta': 7923, 'complimentari': 1624, 'border': 898, 'holdup': 3701, 'girlfriend': 3306, 'greek': 3438, 'muse': 5137, 'beam': 639, 'understood': 8501, 'provoc': 6196, 'unrol': 8587, 'ugh': 8423, 'rate': 6332, 'forget': 3079, 'elois': 2517, 'promot': 6174, 'haw': 3575, 'decen': 2011, 'multicolor': 5123, 'diet': 2162, 'attempt': 469, 'reliev': 6484, 'winth': 9024, 'trepid': 8309, 'spruce': 7516, 'retir': 6580, 'narrowest': 5174, 'mustardi': 5144, 'interlock': 4040, 'flesh': 2977, 'mass': 4778, 'sunday': 7786, 'behold': 684, 'respect': 6552, 'moo': 5060, 'pxx': 6253, 'creatur': 1831, 'gamut': 3224, 'saliv': 6786, 'homework': 3716, 'swatch': 7855, 'randomli': 6321, 'determin': 2133, 'luciou': 4642, 'mock': 5014, 'pen': 5771, 'elastic': 2495, 'greeni': 3441, 'mismatch': 4986, 'billow': 753, 'strong': 7692, 'famou': 2792, 'worrisom': 9094, 'sage': 6767, 'aaaahmaz': 5, 'seafolli': 6893, 'sohpist': 7374, 'matt': 4803, 'loungin': 4616, 'level': 4448, 'magnific': 4696, 'decidedli': 2016, 'alaska': 180, 'arctic': 385, 'reduc': 6420, 'som': 7382, 'weara': 8876, 'ooz': 5481, 'glamour': 3319, 'ensur': 2586, 'golden': 3357, 'proba': 6147, 'ball': 565, 'chloe': 1370, 'sevigni': 6972, 'offens': 5434, 'lineman': 4507, 'sept': 6956, 'jade': 4136, 'taylor': 7981, 'undertak': 8502, 'stra': 7637, 'neon': 5237, 'reddish': 6413, 'achiev': 68, 'satisfi': 6821, 'sanctuari': 6794, 'repel': 6519, 'limb': 4496, 'vee': 8689, 'latter': 4363, 'glorifi': 3338, 'peel': 5759, 'organ': 5521, 'depth': 2099, 'elev': 2508, 'recd': 6377, 'observ': 5402, 'protect': 6188, 'contour': 1695, 'nobodi': 5305, 'sandel': 6797, 'dish': 2230, 'shimmeri': 7046, 'beforehand': 675, 'washer': 8850, 'prefac': 6079, 'mainten': 4708, 'tropic': 8330, 'summ': 7775, 'stuggl': 7709, 'inset': 3998, 'dig': 2172, 'tmie': 8199, 'isth': 4105, 'lfit': 4450, 'lnever': 4544, 'nto': 5360, 'borrow': 902, 'focu': 3047, 'cabernet': 1113, 'nervou': 5243, 'backord': 537, 'retu': 6585, 'ignor': 3862, 'jeg': 4158, 'bent': 712, 'hunch': 3810, 'upright': 8636, 'simplic': 7163, 'overst': 5607, 'lon': 4562, 'rope': 6685, 'rusti': 6740, 'wri': 9122, 'shake': 6989, 'glue': 3344, 'decad': 2007, 'goldilock': 3360, 'whirl': 8960, 'ravel': 6340, 'longev': 4568, 'pinkish': 5895, 'rosey': 6691, 'whatsoev': 8934, 'extern': 2739, 'joy': 4189, 'gorgeu': 3381, 'steel': 7583, 'share': 7006, 'upholsteri': 8628, 'unicorn': 8549, 'cruis': 1878, 'greec': 3436, 'winder': 9010, 'perfec': 5795, 'anybodi': 321, 'maneuv': 4729, 'crewneck': 1841, 'oxblood': 5626, 'eno': 2579, 'ac': 39, 'encount': 2561, 'lush': 4662, 'whoa': 8969, 'incorrectli': 3941, 'broken': 1005, 'forese': 3075, 'hoop': 3731, 'skip': 7219, 'beat': 643, 'colorway': 1548, 'percent': 5789, 'excess': 2691, 'deterior': 2132, 'shave': 7012, 'expert': 2722, 'fourth': 3108, 'pluck': 5960, 'recip': 6387, 'brogu': 1003, 'barefoot': 594, 'yr': 9209, 'skintight': 7217, 'bacon': 543, 'mommi': 5039, 'syle': 7910, 'score': 6862, 'illus': 3871, 'batw': 623, 'freak': 3125, 'lacklust': 4315, 'oth': 5536, 'druzi': 2383, 'content': 1690, 'board': 848, 'pace': 5629, 'applaud': 348, 'fol': 3051, 'bounc': 921, 'waaaaay': 8797, 'insan': 3994, 'constant': 1674, 'shortwaist': 7092, 'cottoni': 1763, 'cushi': 1923, 'tex': 8048, 'vienn': 8742, 'tree': 8302, 'sheep': 7026, 'stray': 7659, 'trashi': 8294, 'rump': 6727, 'an': 260, 'sleepwear': 7241, 'odditi': 5425, 'cranki': 1813, 'peru': 5819, 'ornat': 5532, 'miami': 4902, 'bid': 740, 'auction': 484, 'stopper': 7629, 'elimin': 2511, 'dimpl': 2184, 'cleav': 1459, 'insist': 4001, 'digan': 2173, 'demin': 2075, 'greas': 3428, 'trickier': 8318, 'filmi': 2898, 'fairisl': 2776, 'grungi': 3471, 'compound': 1628, 'co': 1504, 'effort': 2471, 'nut': 5376, 'msitak': 5106, 'sweeater': 7871, 'michelin': 4904, 'percept': 5791, 'cheapen': 1313, 'disappointingli': 2209, 'assoc': 438, 'input': 3992, 'flab': 2935, 'sa': 6743, 'duski': 2410, 'yummiest': 9215, 'stunner': 7715, 'bride': 981, 'bryon': 1029, 'swish': 7895, 'triangl': 8313, 'reseam': 6533, 'swishi': 7896, 'chub': 1395, 'motiv': 5086, 'explod': 2726, 'bold': 867, 'pefect': 5763, 'amk': 247, 'resolv': 6547, 'sick': 7121, 'proper': 6183, 'discern': 2214, 'trench': 8305, 'ie': 3857, 'wearin': 8880, 'tlc': 8196, 'rigid': 6636, 'oompa': 5472, 'loompa': 4579, 'pain': 5645, 'tush': 8383, 'credit': 1832, 'whirlwind': 8961, 'bac': 530, 'hardwar': 3554, 'dy': 2417, 'errat': 2620, 'flyi': 3042, 'smidg': 7312, 'monday': 5042, 'compart': 1601, 'necess': 5205, 'prefect': 6081, 'gladiat': 3315, 'towel': 8259, 'lighten': 4470, 'beneath': 709, 'indra': 3957, 'henc': 3633, 'hey': 3647, 'workday': 9080, 'wheelhous': 8939, 'twenti': 8396, 'anxious': 320, 'lemon': 4427, 'sk': 7199, 'bunche': 1065, 'gappi': 3228, 'shapeli': 7003, 'divis': 2268, 'ariel': 391, 'denver': 2090, 'cc': 1252, 'unaccept': 8440, 'blast': 793, 'weightless': 8904, 'underlay': 8486, 'toplay': 8233, 'stubborn': 7700, 'wintri': 9025, 'empti': 2553, 'ewww': 2676, 'truth': 8345, 'confin': 1653, 'tha': 8055, 'ia': 3841, 'crumpl': 1879, 'shinier': 7052, 'shed': 7020, 'sofa': 7365, 'ark': 393, 'alot': 213, 'tightest': 8166, 'maroon': 4760, 'sl': 7226, 'sandi': 6798, 'spoiler': 7494, 'creepi': 1835, 'patient': 5725, 'flowli': 3021, 'suprem': 7820, 'detach': 2125, 'unwrap': 8620, 'womanli': 9057, 'territori': 8042, 'otherw': 5538, 'stark': 7561, 'marshmallow': 4765, 'humd': 3804, 'surfac': 7826, 'laser': 4350, 'psuedo': 6200, 'innov': 3991, 'frigid': 3146, 'dc': 1990, 'lineback': 4506, 'protrud': 6189, 'bracelet': 945, 'concret': 1642, 'pricepoint': 6124, 'thorough': 8111, 'danger': 1964, 'deterr': 2134, 'fussi': 3206, 'feedback': 2850, 'bff': 732, 'januari': 4143, 'twirl': 8403, 'road': 6650, 'posterior': 6041, 'invis': 4069, 'prais': 6070, 'wooli': 9072, 'mammoth': 4725, 'ponder': 6002, 'northeast': 5335, 'blouson': 830, 'vermillion': 8712, 'la': 4303, 'kne': 4273, 'proclaim': 6156, 'english': 2574, 'smock': 7316, 'japan': 4144, 'bed': 664, 'disclosur': 2216, 'flown': 3022, 'laden': 4317, 'repair': 6516, 'kit': 4264, 'hotel': 3756, 'tr': 8263, 'finicki': 2911, 'undo': 8515, 'inventori': 4066, 'rockefel': 6659, 'shoddili': 7071, 'blueish': 837, 'misti': 5000, 'wooden': 9065, 'flaunt': 2965, 'thi': 8084, 'blow': 831, 'fli': 2983, 'costa': 1754, 'rica': 6618, 'defectiv': 2039, 'asummig': 451, 'swap': 7854, 'shine': 7049, 'secular': 6918, 'lengthen': 4435, 'tint': 8183, 'bridey': 983, 'clog': 1481, 'sexiest': 6978, 'espeic': 2630, 'soeur': 7363, 'fisher': 2923, 'murder': 5129, 'mysteri': 5154, 'downton': 2323, 'abbey': 9, 'eliott': 2512, 'priviledg': 6142, 'regualr': 6456, 'colro': 1552, 'dressmak': 2363, 'gatsbi': 3245, 'collector': 1535, 'textil': 8051, 'passion': 5713, 'treasur': 8299, 'charl': 1302, 'renni': 6507, 'macintosh': 4679, 'boobi': 883, 'starchi': 7559, 'gigant': 3299, 'bubbl': 1036, 'boyish': 937, 'dynamit': 2421, 'burnout': 1077, 'duti': 2414, 'sailcloth': 6774, 'approxim': 365, 'velour': 8695, 'modifi': 5028, 'mermaid': 4887, 'diaper': 2152, 'mate': 4788, 'circul': 1417, 'clip': 1476, 'flirt': 2990, 'hoist': 3696, 'cone': 1648, 'hideou': 3653, 'therebi': 8077, 'bein': 689, 'corset': 1749, 'unti': 8606, 'anyhow': 323, 'arri': 408, 'bundl': 1067, 'untuck': 8610, 'everybodi': 2663, 'cam': 1139, 'bellow': 697, 'budget': 1042, 'depart': 2092, 'cast': 1225, 'gaucho': 3246, 'magenta': 4691, 'bias': 736, 'underton': 8504, 'ur': 8647, 'nowaday': 5355, 'impec': 3893, 'oversea': 5603, 'problemat': 6152, 'bless': 801, 'puller': 6220, 'underslip': 8497, 'derrier': 2103, 'hokey': 3697, 'weari': 8879, 'chord': 1384, 'lilac': 4490, 'backlit': 536, 'heaven': 3607, 'coul': 1767, 'coh': 1517, 'kneecap': 4275, 'sapphir': 6805, 'unheard': 8546, 'untreat': 8609, 'budg': 1041, 'cal': 1126, 'ligher': 4468, 'blotchi': 824, 'deterg': 2131, 'pour': 6058, 'bleach': 796, 'defect': 2038, 'cautiou': 1248, 'plcro': 5943, 'laundri': 4368, 'chrolox': 1392, 'tweedi': 8394, 'sensat': 6946, 'lotu': 4606, 'approv': 363, 'congratul': 1659, 'zone': 9231, 'splotchi': 7491, 'caribbean': 1196, 'nicest': 5276, 'handi': 3525, 'quicker': 6278, 'exterior': 2738, 'these': 8081, 'trucker': 8337, 'ludicr': 4646, 'levi': 4449, 'epic': 2601, 'de': 1996, 'afterward': 131, 'intact': 4025, 'aggress': 139, 'heft': 3618, 'er': 2612, 'lap': 4337, 'upkeep': 8630, 'checker': 1322, 'patten': 5729, 'flamingo': 2944, 'dealt': 2001, 'rana': 6317, 'supris': 7821, 'ita': 4106, 'defeat': 2037, 'ummmmm': 8435, 'vulgar': 8791, 'coverup': 1790, 'grommet': 3457, 'bluish': 839, 'toucan': 8251, 'wai': 8804, 'incorrect': 3940, 'voluptu': 8783, 'versu': 8726, 'limp': 4501, 'conceptu': 1637, 'juvenil': 4217, 'render': 6505, 'poufi': 6055, 'irrit': 4093, 'abo': 20, 'repeatedli': 6518, 'throwback': 8137, 'arti': 412, 'baloon': 573, 'sti': 7595, 'pebbl': 5754, 'partli': 5704, 'knaki': 4272, 'artist': 415, 'chill': 1360, 'obnoxi': 5399, 'cherri': 1342, 'cranberri': 1812, 'crush': 1882, 'nois': 5310, 'boardwalk': 850, 'stroll': 7691, 'disastr': 2212, 'bellowi': 698, 'dad': 1948, 'rocket': 6661, 'citizen': 1425, 'holi': 3704, 'grail': 3403, 'draw': 2344, 'chime': 1364, 'lumpi': 4653, 'noooo': 5327, 'sinch': 7170, 'iik': 3864, 'toward': 8258, 'affect': 119, 'admittedli': 106, 'public': 6204, 'gym': 3491, 'stoke': 7621, 'anniversari': 285, 'scar': 6844, 'costli': 1755, 'aros': 402, 'stack': 7538, 'wee': 8892, 'thinki': 8095, 'lanki': 4336, 'meadow': 4829, 'rue': 6718, 'shark': 7007, 'ordinarili': 5516, 'thanksgiv': 8059, 'veyr': 8732, 'granit': 3412, 'counter': 1772, 'shall': 6991, 'vine': 8750, 'deign': 2054, 'regularli': 6459, 'buttonhol': 1102, 'modif': 5027, 'skill': 7207, 'brass': 958, 'imay': 3877, 'ecstat': 2459, 'bustier': 1083, 'vineyard': 8752, 'preciou': 6074, 'thr': 8119, 'redhead': 6415, 'explain': 2724, 'spin': 7481, 'substanc': 7740, 'video': 8741, 'clue': 1496, 'fabr': 2757, 'boston': 904, 'bf': 731, 'topper': 8236, 'bailli': 559, 'instuct': 4019, 'dryabl': 2384, 'goodwil': 3372, 'combat': 1560, 'team': 7992, 'snugger': 7349, 'girlish': 3308, 'nonsolid': 5322, 'thirteen': 8103, 'russian': 6738, 'swear': 7860, 'recreat': 6406, 'episod': 2602, 'ageless': 137, 'ding': 2188, 'twirli': 8404, 'saggier': 6769, 'frill': 3147, 'powder': 6059, 'award': 515, 'ceremoni': 1270, 'youv': 9208, 'seethrough': 6930, 'swelter': 7880, 'agreement': 145, 'glide': 3324, 'modal': 5017, 'classier': 1443, 'useless': 8653, 'unlac': 8560, 'exci': 2693, 'breez': 973, 'entri': 2595, 'percentag': 5790, 'woolit': 9073, 'withstand': 9046, 'outcom': 5551, 'nightshirt': 5288, 'lengthwis': 4437, 'bordeaux': 897, 'stood': 7627, 'underweight': 8507, 'slot': 7281, 'ahhhh': 155, 'horrend': 3741, 'architectur': 384, 'account': 62, 'flounc': 3010, 'selv': 6938, 'rex': 6608, 'deliveri': 2071, 'swindl': 7889, 'ed': 2460, 'convey': 1713, 'slee': 7234, 'unfamiliar': 8525, 'climb': 1469, 'unattract': 8446, 'tremend': 8304, 'ruf': 6719, 'clevag': 1463, 'rippl': 6642, 'regardless': 6447, 'supper': 7813, 'majorli': 4712, 'purc': 6230, 'drink': 2367, 'easil': 2441, 'sweatpant': 7868, 'gravit': 3420, 'commonli': 1590, 'navel': 5185, 'perf': 5794, 'dali': 1955, 'dull': 2400, 'claw': 1448, 'reweav': 6606, 'reshap': 6540, 'espadril': 2625, 'arbor': 380, 'bunchi': 1066, 'watercolor': 8859, 'pranc': 6071, 'wasnt': 8855, 'del': 2055, 'fiddl': 2880, 'eggplant': 2476, 'burgandi': 1072, 'extraordinarili': 2742, 'creme': 1836, 'windowpan': 9014, 'bomb': 871, 'spaghetti': 7440, 'xxsmall': 9160, 'eight': 2484, 'southern': 7428, 'vermont': 8713, 'readjust': 6353, 'align': 189, 'darkli': 1975, 'absolutli': 30, 'nove': 5352, 'hwoevcer': 3830, 'basi': 609, 'colr': 1551, 'crimson': 1846, 'adventur': 113, 'grandmoth': 3408, 'wireless': 9028, 'announc': 287, 'hello': 3626, 'nonsens': 5321, 'cleaner': 1452, 'elouis': 2521, 'weekli': 8897, 'rounder': 6701, 'moder': 5023, 'speck': 7462, 'vintagey': 8755, 'race': 6290, 'track': 8267, 'saratoga': 6806, 'oxford': 5627, 'hat': 3566, 'mohair': 5030, 'agit': 142, 'contact': 1684, 'jeep': 4156, 'cozier': 1800, 'stout': 7635, 'cafe': 1120, 'au': 482, 'lait': 4328, 'unus': 8611, 'roller': 6670, 'glob': 3334, 'couch': 1765, 'stifl': 7605, 'fla': 2934, 'astound': 449, 'lifestyl': 4465, 'refernc': 6431, 'surviv': 7838, 'forgot': 3084, 'manufactur': 4741, 'splotch': 7490, 'uncut': 8472, 'polo': 5991, 'geniu': 3272, 'throat': 8128, 'lenght': 4432, 'par': 5683, 'molt': 5034, 'pizzazz': 5912, 'leopard': 4441, 'audrey': 486, 'hepburn': 3637, 'ju': 4193, 'toddler': 8206, 'chevron': 1347, 'wrappi': 9114, 'mistaken': 4998, 'slipper': 7273, 'alert': 185, 'perkier': 5810, 'seasid': 6902, 'overnight': 5599, 'address': 92, 'dalla': 1957, 'crass': 1815, 'promptli': 6176, 'supervisor': 7810, 'ninja': 5296, 'tile': 8171, 'lop': 4597, 'rubber': 6714, 'transfer': 8280, 'lotta': 4605, 'dis': 2200, 'palest': 5659, 'yard': 9171, 'newli': 5263, 'crude': 1877, 'abt': 35, 'additon': 91, 'residu': 6542, 'movabl': 5097, 'integr': 4027, 'assumpt': 442, 'detect': 2129, 'clavicl': 1447, 'abund': 36, 'gear': 3258, 'instinct': 4016, 'maxim': 4816, 'alright': 219, 'plane': 5927, 'wideleg': 8985, 'francisco': 3120, 'midway': 4923, 'interpret': 4044, 'peplm': 5780, 'england': 2573, 'feather': 2843, 'handpaint': 3529, 'poster': 6040, 'captain': 1177, 'saddl': 6757, 'graduat': 3401, 'holey': 3703, 'melita': 4861, 'grung': 3470, 'shabbi': 6985, 'salon': 6789, 'lipstick': 4520, 'preserv': 6100, 'pu': 6203, 'lattic': 4364, 'gem': 3264, 'imho': 3879, 'llb': 4541, 'fuz': 3209, 'releas': 6476, 'histor': 3683, 'wasit': 8854, 'fals': 2786, 'hti': 3784, 'triue': 8328, 'afternoon': 129, 'cat': 1232, 'dingi': 2189, 'blog': 816, 'letter': 4447, 'ey': 2746, 'sucker': 7756, 'downsiz': 2322, 'happiest': 3545, 'perspir': 5818, 'innoc': 3990, 'essenc': 2633, 'insert': 3997, 'ventil': 8703, 'ventur': 8704, 'craftmanship': 1808, 'ored': 5519, 'silouett': 7152, 'overemphas': 5585, 'embroi': 2538, 'becasu': 659, 'doe': 2280, 'sie': 7127, 'htough': 3786, 'greay': 3434, 'lcan': 4388, 'pi': 5853, 'streak': 7661, 'inclin': 3932, 'receipt': 6379, 'laughabl': 4366, 'stink': 7612, 'silveri': 7155, 'jazz': 4151, 'pdx': 5741, 'crown': 1875, 'load': 4546, 'honey': 3721, 'member': 4867, 'convers': 1710, 'irl': 4087, 'sweetli': 7878, 'lighthead': 4473, 'crime': 1843, 'exam': 2683, 'invit': 4070, 'trimmer': 8324, 'roughli': 6699, 'mossi': 5079, 'militari': 4942, 'scream': 6873, 'abbi': 10, 'rosi': 6692, 'neira': 5232, 'foolishli': 3064, 'puzzl': 6250, 'georgett': 3281, 'henli': 3636, 'detal': 2128, 'grew': 3446, 'azur': 526, 'fave': 2832, 'ove': 5574, 'arch': 383, 'crew': 1840, 'collaps': 1529, 'sactuari': 6754, 'liberti': 4456, 'reutn': 6591, 'woud': 9103, 'anytim': 329, 'partner': 5705, 'mn': 5010, 'claim': 1431, 'withou': 9044, 'athleisur': 457, 'punch': 6225, 'compare': 1599, 'trapez': 8290, 'thoroughli': 8112, 'sizabl': 7191, 'ordr': 5517, 'peit': 5767, 'winnrer': 9020, 'caution': 1247, 'monstrous': 5055, 'vibranc': 8736, 'ginorm': 3304, 'clump': 1497, 'reccomend': 6376, 'revisit': 6603, 'yummi': 9214, 'chop': 1382, 'quarter': 6270, 'seemingli': 6927, 'dead': 1997, 'uptight': 8642, 'sandl': 6799, 'exce': 2686, 'me': 4828, 'demoisel': 2078, 'mouth': 5096, 'runway': 6733, 'stare': 7560, 'linin': 4513, 'dressey': 2360, 'elongatesi': 2519, 'al': 178, 'leaf': 4394, 'closest': 1484, 'peak': 5749, 'str': 7636, 'hilari': 3667, 'clinton': 1475, 'browni': 1018, 'scout': 6866, 'trendier': 8308, 'jeaen': 4153, 'terra': 8036, 'disgustingli': 2229, 'midwest': 4925, 'tick': 8151, 'wilt': 9006, 'liquid': 4521, 'dl': 2273, 'tentlik': 8032, 'irresist': 4092, 'underwir': 8509, 'renaiss': 6502, 'suffer': 7762, 'charg': 1299, 'benefici': 710, 'wouldnt': 9106, 'prove': 6192, 'underpin': 8492, 'cassia': 1224, 'sorcha': 7411, 'sausag': 6827, 'stuf': 7706, 'straw': 7657, 'ack': 70, 'durham': 2409, 'nc': 5191, 'xma': 9147, 'silkscreen': 7146, 'deviat': 2142, 'biggi': 744, 'reckon': 6389, 'decept': 2013, 'restrain': 6559, 'arrang': 406, 'meat': 4839, 'encourag': 2562, 'hybrid': 3833, 'ambigu': 240, 'hotter': 3757, 'arcata': 382, 'patchwork': 5721, 'squash': 7524, 'atl': 463, 'underlin': 8488, 'luncheon': 4656, 'messag': 4892, 'font': 3060, 'hawai': 3576, 'cl': 1428, 'authent': 492, 'lat': 4355, 'immens': 3886, 'scandal': 6841, 'rejoic': 6470, 'tun': 8369, 'bahama': 555, 'wood': 9064, 'halloween': 3514, 'isalmsot': 4097, 'scratchier': 6872, 'zipepr': 9226, 'sheet': 7033, 'strangl': 7648, 'pragmat': 6068, 'loyal': 4633, 'skinnier': 7215, 'appliquã': 351, 'humor': 3808, 'reflect': 6435, 'slimlin': 7266, 'notwithstand': 5349, 'lightwash': 4476, 'pilcrow': 5878, 'umpir': 8437, 'uncov': 8468, 'rectangular': 6408, 'confer': 1650, 'grate': 3418, 'extent': 2737, 'necessarili': 5209, 'leari': 4402, 'flatteri': 2961, 'comic': 1582, 'sparrow': 7452, 'shyle': 7118, 'bressay': 975, 'backless': 535, 'bread': 961, 'pasta': 5715, 'fluff': 3026, 'negativ': 5227, 'xsm': 9148, 'softli': 7373, 'outward': 5569, 'wo': 9051, 'bermuda': 714, 'insecur': 3996, 'off': 5432, 'eyebal': 2748, 'realllllli': 6365, 'waif': 8806, 'bachelorett': 531, 'napa': 5169, 'wineri': 9016, 'cleanli': 1454, 'proven': 6193, 'newborn': 5259, 'tegan': 8010, 'among': 248, 'colleagu': 1533, 'neater': 5200, 'cro': 1861, 'foxi': 3110, 'floweri': 3016, 'contrair': 1698, 'cupro': 1903, 'lola': 4561, 'eq': 2607, 'civil': 1427, 'unpack': 8573, 'boote': 893, 'thylo': 8147, 'customiz': 1927, 'ness': 5245, 'glossi': 3341, 'gloss': 3340, 'produ': 6159, 'uber': 8418, 'lycra': 4671, 'recognit': 6392, 'bat': 614, 'unnecessari': 8568, 'breastfeed': 967, 'sur': 7823, 'crepey': 1838, 'stiffi': 7603, 'factori': 2765, 'michigan': 4905, 'overywhelm': 5620, 'lurex': 4659, 'unpick': 8574, 'clo': 1478, 'reek': 6425, 'patchouli': 5720, 'mountain': 5094, 'mont': 5056, 'blanc': 788, 'chamomix': 1286, 'unmistak': 8565, 'matterhorn': 4805, 'zermatt': 9220, 'overwhelmingli': 5619, 'frist': 3151, 'dust': 2411, 'speed': 7467, 'handwash': 3531, 'hamper': 3521, 'dryel': 2386, 'kakhi': 4221, 'ulitim': 8430, 'reconsid': 6402, 'undesir': 8511, 'pirat': 5903, 'skimpi': 7211, 'summertim': 7781, 'versitil': 8723, 'snow': 7341, 'purs': 6244, 'pric': 6121, 'buttt': 1103, 'baffl': 547, 'tey': 8053, 'ltitl': 4640, 'lwait': 4669, 'ahv': 159, 'ass': 431, 'slant': 7229, 'scissor': 6859, 'respons': 6554, 'coziest': 1801, 'geometr': 3277, 'gaudi': 3247, 'fluctuat': 3024, 'exampl': 2685, 'unstructur': 8599, 'un': 8438, 'simpler': 7160, 'fu': 3173, 'smash': 7307, 'fluffiest': 3030, 'gild': 3300, 'sling': 7270, 'ubiquit': 8419, 'obtrus': 5404, 'forearm': 3073, 'recov': 6405, 'kansa': 4224, 'countri': 1776, 'club': 1495, 'plaza': 5942, 'mediat': 4844, 'steamer': 7581, 'shelv': 7037, 'unclear': 8460, 'tbose': 7984, 'sturdier': 7720, 'colorblock': 1544, 'wit': 9036, 'flutteri': 3039, 'sing': 7172, 'strateg': 7654, 'waggl': 8802, 'seinfeld': 6931, 'polici': 5986, 'refund': 6439, 'predict': 6076, 'emul': 2554, 'elysian': 2524, 'coor': 1726, 'butta': 1092, 'compromis': 1630, 'scale': 6839, 'regularl': 6458, 'petitt': 5831, 'museum': 5138, 'reoommend': 6511, 'skinniest': 7216, 'pr': 6063, 'bellybutton': 699, 'prim': 6130, 'tearoom': 7995, 'sound': 7422, 'lovethi': 4625, 'ingredi': 3979, 'feast': 2841, 'food': 3062, 'blousey': 827, 'lifespan': 4464, 'comb': 1559, 'eek': 2468, 'appliqu': 350, 'pinterest': 5897, 'swiss': 7898, 'latigo': 4361, 'carmel': 1198, 'master': 4782, 'qualif': 6264, 'firstli': 2921, 'inst': 4005, 'bosom': 903, 'difficulti': 2171, 'doabl': 2276, 'sauc': 6824, 'stumpi': 7712, 'hunchback': 3811, 'natori': 5179, 'hipster': 3679, 'thong': 8108, 'toe': 8207, 'inki': 3984, 'jet': 4165, 'min': 4950, 'stair': 7545, 'script': 6878, 'hwoever': 3831, 'balc': 562, 'legginss': 4421, 'boto': 909, 'sublt': 7733, 'noyt': 5357, 'mentioend': 4877, 'palat': 5652, 'scrip': 6877, 'formerli': 3091, 'marrakech': 4761, 'sle': 7233, 'midlin': 4914, 'blade': 785, 'sugari': 7765, 'thumb': 8144, 'overbear': 5578, 'born': 901, 'mocha': 5013, 'ring': 6639, 'henley': 3635, 'maz': 4821, 'ing': 3975, 'staff': 7540, 'regualar': 6455, 'bing': 759, 'flag': 2938, 'addtl': 93, 'unflatteringli': 8533, 'dreami': 2353, 'sisterhood': 7181, 'analog': 262, 'irr': 4089, 'ib': 3843, 'mater': 4790, 'palmarosa': 5665, 'march': 4747, 'burst': 1079, 'barnyard': 600, 'litght': 4527, 'trash': 8293, 'mumu': 5128, 'hosieri': 3751, 'brave': 959, 'vain': 8670, 'unzip': 8621, 'springtim': 7513, 'hardest': 3551, 'abdomen': 12, 'goodon': 3371, 'mjuch': 5007, 'huhm': 3797, 'twinsi': 8402, 'descriptor': 2110, 'overshar': 5605, 'gg': 3288, 'conscienc': 1664, 'hassl': 3564, 'junction': 4205, 'emerson': 2546, 'np': 5358, 'scrub': 6881, 'improperli': 3911, 'worthwhil': 9100, 'reed': 6422, 'spank': 7444, 'otk': 5543, 'flatteringli': 2962, 'swam': 7852, 'cure': 1908, 'lightwei': 4478, 'loveeeeeee': 4620, 'quali': 6263, 'heathi': 3605, 'undi': 8512, 'hunter': 3817, 'raini': 6313, 'sweeten': 7874, 'stripey': 7688, 'packabl': 5633, 'plug': 5961, 'code': 1513, 'swirli': 7894, 'statuesqu': 7575, 'di': 2146, 'shelf': 7035, 'apex': 337, 'involv': 4071, 'reattach': 6369, 'realign': 6356, 'lilt': 4495, 'drastic': 2343, 'worker': 9082, 'farther': 2808, 'muddi': 5113, 'ingrati': 3978, 'wrestl': 9119, 'outermost': 5556, 'symmetri': 7914, 'comforta': 1574, 'slow': 7288, 'wer': 8917, 'peic': 5765, 'purcahs': 6231, 'faint': 2772, 'underli': 8487, 'upp': 8634, 'contri': 1703, 'styl': 7721, 'impr': 3905, 'ny': 5382, 'repurchas': 6528, 'irradi': 4090, 'childhood': 1356, 'crab': 1804, 'mi': 4900, 'surgeri': 7827, 'ked': 4227, 'somebodi': 7383, 'childish': 1357, 'thier': 8089, 'reco': 6390, 'paw': 5735, 'nye': 5385, 'tote': 8250, 'delay': 2058, 'carpet': 1203, 'burn': 1076, 'desi': 2114, 'madra': 4687, 'stalk': 7546, 'evenli': 2655, 'perfer': 5800, 'handsom': 3530, 'famin': 2791, 'brainier': 951, 'chew': 1348, 'news': 5265, 'taggart': 7937, 'blingi': 808, 'explos': 2728, 'turner': 8377, 'bight': 746, 'realiti': 6358, 'viewer': 8745, 'muscley': 5135, 'geez': 3260, 'wayyyi': 8870, 'downhil': 2318, 'blown': 832, 'rougher': 6698, 'kno': 4283, 'mortif': 5075, 'fem': 2860, 'likewis': 4488, 'inkish': 3985, 'seattl': 6909, 'unpredict': 8577, 'outing': 5561, 'disgust': 2228, 'stagger': 7543, 'crispli': 1854, 'hulk': 3800, 'kn': 4271, 'workwear': 9088, 'undeni': 8477, 'destroy': 2123, 'sip': 7177, 'frosti': 3161, 'ballroom': 571, 'romp': 6675, 'abroad': 23, 'medic': 4845, 'tyhlo': 8410, 'critiqu': 1859, 'ga': 3213, 'flank': 2945, 'toscana': 8246, 'sandscap': 6801, 'join': 4186, 'bandwagon': 583, 'onsi': 5467, 'greatli': 3432, 'akin': 176, 'access': 46, 'difficu': 2169, 'kitten': 4267, 'compens': 1604, 'ther': 8073, 'cucumb': 1891, 'lime': 4497, 'nightmar': 5287, 'whoever': 8970, 'clesrli': 1462, 'loophol': 4590, 'airport': 171, 'tahari': 7938, 'emerg': 2545, 'afford': 122, 'neath': 5201, 'to': 8200, 'rode': 6663, 'inwardli': 4074, 'rule': 6725, 'mama': 4722, 'parisian': 5692, 'hobbi': 3691, 'chocol': 1373, 'wedgi': 8891, 'lookout': 4577, 'edgier': 2466, 'zed': 9219, 'offwhit': 5441, 'ombrã': 5457, 'felti': 2859, 'palazzo': 5653, 'spoken': 7497, 'lith': 4528, 'premium': 6092, 'ret': 6564, 'fixtur': 2932, 'bia': 735, 'fro': 3155, 'task': 7970, 'idaho': 3850, 'patrick': 5727, 'teensi': 8006, 'coolest': 1722, 'meleri': 4860, 'reve': 6592, 'rhianna': 6609, 'stellar': 7587, 'amteri': 259, 'ingest': 3976, 'itnend': 4117, 'aam': 7, 'apttern': 376, 'suitcas': 7771, 'sting': 7611, 'unhappi': 8543, 'guarante': 3472, 'garish': 3234, 'goal': 3347, 'mixtur': 5006, 'entertain': 2588, 'nix': 5302, 'herl': 3639, 'nuce': 5365, 'quibbl': 6276, 'gi': 3293, 'power': 6061, 'spectrum': 7465, 'fullest': 3180, 'feed': 2849, 'mould': 5091, 'apricot': 368, 'antrho': 313, 'broach': 996, 'diy': 2270, 'ski': 7204, 'litter': 4533, 'puffin': 6217, 'couldv': 1770, 'couldnt': 1769, 'buttondown': 1101, 'penguin': 5774, 'submit': 7735, 'sotr': 7417, 'balck': 563, 'sjut': 7198, 'ahd': 148, 'braod': 957, 'deceid': 2008, 'seriosu': 6962, 'skier': 7205, 'wiill': 8995, 'skiier': 7206, 'secretli': 6916, 'dvf': 2415, 'dilemma': 2177, 'error': 2621, 'interf': 4035, 'nose': 5339, 'wink': 9018, 'swimwear': 7887, 'whi': 8948, 'produc': 6160, 'memori': 4869, 'skate': 7200, 'wheatley': 8937, 'pond': 6001, 'primarili': 6133, 'bicep': 738, 'suuuuper': 7846, 'overkil': 5593, 'tune': 8370, 'visit': 8763, 'trusti': 8344, 'perenni': 5793, 'squeal': 7526, 'woodland': 9066, 'enamor': 2557, 'be': 631, 'slope': 7279, 'hemant': 3630, 'nandita': 5162, 'bite': 772, 'footwear': 3068, 'habitu': 3496, 'reconstruct': 6403, 'lifetim': 4466, 'ord': 5510, 'mak': 4713, 'oblig': 5397, 'pettit': 5835, 'spontan': 7499, 'click': 1466, 'discontinu': 2219, 'vagu': 8669, 'japanes': 4145, 'overlap': 5595, 'looovvvee': 4588, 'frilli': 3148, 'discomfort': 2218, 'usu': 8656, 'solut': 7380, 'preggo': 6087, 'liittl': 4483, 'mash': 4773, 'shred': 7110, 'prima': 6131, 'tuxedo': 8387, 'noni': 5318, 'verstail': 8725, 'longwaist': 4572, 'sli': 7249, 'dept': 2098, 'boutiqu': 928, 'reson': 6548, 'blossom': 822, 'compliant': 1619, 'veterinarian': 8729, 'starkli': 7562, 'suffici': 7763, 'overcom': 5582, 'beachi': 636, 'weght': 8899, 'napkin': 5171, 'flowier': 3019, 'accordion': 61, 'boobag': 882, 'organza': 5523, 'closu': 1487, 'substant': 7743, 'spell': 7468, 'leeri': 4411, 'sprea': 7508, 'armscy': 400, 'lacework': 4310, 'loud': 4608, 'recal': 6375, 'petiti': 5830, 'banquet': 587, 'nimbl': 5294, 'patienc': 5724, 'hu': 3787, 'gala': 3217, 'lurv': 4660, 'espradil': 2631, 'nutti': 5379, 'thickish': 8088, 'arc': 381, 'rusn': 6737, 'transcend': 8279, 'verdugo': 8709, 'grade': 3399, 'grossli': 3461, 'craft': 1806, 'toy': 8262, 'loom': 4578, 'simplist': 7165, 'lke': 4539, 'clearer': 1457, 'nub': 5362, 'turkey': 8375, 'amelia': 243, 'bedelia': 666, 'whacki': 8929, 'cotto': 1761, 'april': 369, 'makeup': 4716, 'bled': 798, 'melt': 4866, 'derriã': 2104, 'refit': 6434, 'heater': 3602, 'remark': 6493, 'predomin': 6077, 'ladylik': 4321, 'swimmer': 7884, 'nee': 5220, 'expertli': 2723, 'shipment': 7055, 'longtim': 4571, 'app': 340, 'newburi': 5260, 'novelti': 5353, 'intern': 4041, 'shirtwaist': 7063, 'shapewear': 7005, 'appropr': 358, 'neopren': 5239, 'flatform': 2957, 'workw': 9087, 'jt': 4192, 'confirm': 1654, 'sung': 7790, 'scratch': 6870, 'kota': 4299, 'pun': 6224, 'ruler': 6726, 'hemstitch': 3632, 'asymmetri': 455, 'stud': 7702, 'fuddi': 3175, 'duddi': 2396, 'rariti': 6327, 'toxic': 8261, 'painterli': 5647, 'shield': 7042, 'brisk': 994, 'statu': 7574, 'rec': 6374, 'vacil': 8668, 'theblack': 8065, 'souer': 7419, 'nevertheless': 5257, 'siz': 7190, 'frontal': 3160, 'overweight': 5617, 'misread': 4989, 'ego': 2478, 'blac': 782, 'nook': 5325, 'cranni': 1814, 'kentucki': 4241, 'oak': 5389, 'warrant': 8842, 'stiffli': 7604, 'mave': 4811, 'coo': 1715, 'monstros': 5054, 'rivet': 6648, 'reallllli': 6364, 'driver': 2370, 'horizon': 3738, 'irregular': 4091, 'pbli': 5738, 'pendant': 5773, 'miniatur': 4954, 'circular': 1418, 'basketbal': 612, 'daisi': 1952, 'leap': 4400, 'arguabl': 388, 'onl': 5465, 'faltter': 2788, 'nbeed': 5189, 'leggin': 4420, 'pa': 5628, 'highwaist': 3665, 'outweigh': 5571, 'workabl': 9079, 'sweather': 7865, 'corodori': 1743, 'stretchey': 7675, 'urban': 8648, 'outfitt': 5559, 'serif': 6961, 'coveral': 1787, 'wallpap': 8822, 'chameleon': 1284, 'zillion': 9224, 'mia': 4901, 'farrow': 2807, 'rosemari': 6689, 'era': 2613, 'sultri': 7772, 'nighttim': 5289, 'parachut': 5684, 'br': 943, 'unpleasantli': 8576, 'gol': 3355, 'uncuff': 8470, 'jasper': 4148, 'jeera': 4157, 'wishi': 9032, 'washi': 8851, 'shh': 7040, 'stretchier': 7677, 'cow': 1792, 'tame': 7954, 'crawl': 1818, 'proceed': 6154, 'iridesc': 4084, 'guest': 3476, 'scroog': 6880, 'loke': 4558, 'approri': 362, 'thermostat': 8080, 'sudden': 7758, 'luci': 4641, 'lui': 4649, 'elementari': 2506, 'screech': 6875, 'halt': 3516, 'soccer': 7360, 'field': 2882, 'wobbl': 9053, 'theori': 8072, 'lil': 4489, 'fel': 2854, 'madli': 4685, 'reviw': 6604, 'permit': 5812, 'maid': 4698, 'honor': 3725, 'galleri': 3218, 'lit': 4524, 'stilt': 7609, 'fond': 3058, 'stunt': 7717, 'roommat': 6683, 'ab': 8, 'ombr': 5456, 'yea': 9175, 'scene': 6851, 'clock': 1479, 'dresser': 2359, 'cactu': 1117, 'succul': 7753, 'sooooooooooooooo': 7406, 'wildest': 8999, 'cuddli': 1893, 'glam': 3317, 'intrus': 4061, 'retur': 6587, 'goldilick': 3359, 'midsumm': 4921, 'ja': 4128, 'smallish': 7304, 'leggi': 4418, 'chore': 1385, 'misnom': 4987, 'indulg': 3960, 'grandson': 3411, 'giddi': 3297, 'sceneri': 6852, 'cactus': 1118, 'earthli': 2436, 'leftov': 4415, 'cowgirl': 1794, 'seasonless': 6905, 'mat': 4784, 'htem': 3781, 'aroun': 403, 'nuff': 5370, 'definitli': 2051, 'solo': 7379, 'dare': 1971, 'mission': 4993, 'coutur': 1784, 'fitt': 2927, 'unwieldi': 8618, 'minti': 4967, 'tankini': 7960, 'hardi': 3552, 'xxx': 9162, 'norm': 5331, 'scope': 6861, 'pilco': 5875, 'sai': 6770, 'catalogu': 1234, 'allus': 206, 'optic': 5500, 'bel': 691, 'mad': 4681, 'debut': 2005, 'marvel': 4770, 'dara': 1969, 'vegan': 8692, 'lightest': 4472, 'breathtak': 971, 'sungarden': 7791, 'uptown': 8644, 'spatter': 7453, 'queen': 6272, 'maiz': 4710, 'subtleti': 7747, 'densiti': 2089, 'devast': 2139, 'destin': 2122, 'naught': 5181, 'qa': 6255, 'bday': 630, 'sherbet': 7038, 'tatter': 7975, 'chois': 1376, 'ought': 5548, 'fare': 2802, 'clash': 1437, 'openwork': 5489, 'pvc': 6251, 'relaz': 6475, 'stunningli': 7716, 'dictat': 2156, 'len': 4428, 'unwant': 8615, 'laura': 4369, 'ashley': 424, 'cloy': 1494, 'restretch': 6560, 'trade': 8268, 'inauthent': 3921, 'rustic': 6741, 'modei': 5020, 'unfit': 8529, 'substitut': 7745, 'repackag': 6515, 'delet': 2060, 'period': 5806, 'whoop': 8973, 'exhilar': 2706, 'duff': 2398, 'substanci': 7741, 'tirst': 8188, 'tme': 8197, 'triangular': 8314, 'prison': 6140, 'pineappl': 5890, 'maui': 4809, 'msut': 5107, 'wrng': 9135, 'bude': 1040, 'pomona': 5999, 'grandmotherli': 3409, 'diamet': 2150, 'loook': 4580, 'thou': 8114, 'tiniest': 8181, 'undress': 8518, 'doorstep': 2308, 'bug': 1045, 'sacklik': 6749, 'porcelain': 6026, 'bot': 905, 'chick': 1351, 'brushstrok': 1026, 'upsiz': 8640, 'cinderalla': 1410, 'buyi': 1108, 'bustl': 1085, 'holder': 3700, 'marriag': 4763, 'inbox': 3923, 'wander': 8828, 'aid': 161, 'juri': 4210, 'bar': 589, 'pizazz': 5910, 'genuin': 3276, 'thx': 8146, 'blowsey': 833, 'canopi': 1165, 'neighbor': 5229, 'worldli': 9090, 'winteri': 9023, 'somethin': 7389, 'wintergreen': 9022, 'bog': 861, 'sign': 7134, 'island': 4100, 'spray': 7507, 'hover': 3769, 'reaction': 6348, 'subtli': 7748, 'raincoat': 6311, 'fifti': 2888, 'sixti': 7188, 'preview': 6116, 'nymph': 5387, 'firesid': 2916, 'strive': 7689, 'botom': 910, 'comfot': 1578, 'loosli': 4596, 'btoh': 1031, 'mite': 5002, 'vanit': 8679, 'perki': 5809, 'popcorn': 6019, 'beca': 657, 'curli': 1913, 'demon': 2079, 'afghan': 123, 'duller': 2401, 'lopsid': 4598, 'camr': 1155, 'beuati': 727, 'lavendar': 4372, 'stori': 7633, 'retrospect': 6584, 'suprisingli': 7822, 'clipdot': 1477, 'waffl': 8801, 'striation': 7679, 'petal': 5825, 'palefac': 5656, 'bi': 734, 'speechless': 7466, 'aaaaannnnnnd': 3, 'looov': 4587, 'gorg': 3378, 'southwesternish': 7431, 'apparel': 343, 'seri': 6960, 'chronic': 1393, 'relish': 6486, 'agin': 141, 'dock': 2279, 'ize': 4127, 'recommen': 6399, 'obscur': 5401, 'bloat': 813, 'acceptabl': 45, 'southwestern': 7430, 'jn': 4177, 'uh': 8426, 'montclair': 5057, 'overus': 5615, 'cowlneck': 1796, 'opera': 5490, 'brief': 985, 'sx': 7908, 'comfortab': 1575, 'chicago': 1350, 'ave': 502, 'chubneck': 1397, 'pattten': 5732, 'saldli': 6778, 'mystifi': 5155, 'blaze': 794, 'purportedli': 6241, 'nanni': 5164, 'pillowcas': 5884, 'perfectionist': 5797, 'instanc': 4010, 'ole': 5453, 'heap': 3590, 'glendal': 3323, 'mar': 4743, 'windier': 9012, 'accesso': 47, 'bonnet': 878, 'candlestick': 1162, 'ebenez': 2449, 'carol': 1200, 'shmata': 7067, 'yiddish': 9191, 'swe': 7858, 'bear': 640, 'prowl': 6197, 'transport': 8288, 'psychedel': 6201, 'slap': 7230, 'mexican': 4898, 'wound': 9107, 'hmmm': 3689, 'circumst': 1421, 'perk': 5808, 'spetit': 7473, 'fri': 3141, 'froth': 3162, 'bull': 1056, 'complect': 1611, 'intertwin': 4045, 'trough': 8334, 'sas': 6810, 'pleasur': 5949, 'looooooov': 4583, 'ocd': 5414, 'willing': 9004, 'rpetti': 6707, 'eprson': 2605, 'ide': 3851, 'moz': 5102, 'abnorm': 19, 'completel': 1615, 'underth': 8503, 'retailerpolgi': 6573, 'grapeish': 3415, 'lyse': 4674, 'secret': 6915, 'nit': 5300, 'chicken': 1352, 'pd': 5740, 'tre': 8297, 'witho': 9043, 'sugg': 7766, 'ada': 86, 'distanc': 2249, 'problemo': 6153, 'referenc': 6430, 'catcher': 1237, 'shirttail': 7062, 'oomph': 5474, 'reward': 6605, 'manipul': 4733, 'friction': 3142, 'mend': 4871, 'shearl': 7017, 'link': 4514, 'altho': 228, 'forgiven': 3082, 'hadent': 3498, 'mildli': 4937, 'und': 8473, 'filipino': 2894, 'rug': 6722, 'sneak': 7337, 'avai': 497, 'antropologi': 316, 'unfort': 8538, 'whic': 8949, 'flo': 2993, 'ampli': 255, 'roder': 6665, 'hlding': 3687, 'snip': 7340, 'unreason': 8584, 'flowinng': 3020, 'astronom': 450, 'whitish': 8967, 'motorcycl': 5088, 'wedgewood': 8890, 'heavyweight': 3612, 'antiqu': 312, 'myriad': 5153, 'mileag': 4939, 'newest': 5262, 'trifl': 8320, 'comfrotbal': 1580, 'peti': 5827, 'yellowish': 9182, 'optimist': 5502, 'floof': 2998, 'valid': 8674, 'stonewash': 7625, 'linear': 4504, 'maw': 4812, 'becuas': 663, 'contempl': 1686, 'consequ': 1667, 'carribean': 1206, 'frest': 3140, 'romanc': 6672, 'corey': 1738, 'lynn': 4672, 'calter': 1136, 'paeonia': 5640, 'rosebud': 6688, 'thoug': 8115, 'conscious': 1666, 'unavail': 8448, 'seashel': 6901, 'diego': 2161, 'southwest': 7429, 'conjectur': 1660, 'malabar': 4717, 'epaulet': 2600, 'uhm': 8427, 'disservic': 2245, 'pilat': 5873, 'coff': 1514, 'lp': 4634, 'origami': 5526, 'strategi': 7655, 'suction': 7757, 'mediterranean': 4848, 'smoother': 7321, 'regardi': 6446, 'waaaaaay': 8796, 'va': 8665, 'defiantli': 2043, 'unreli': 8585, 'vaca': 8666, 'kneel': 4276, 'droppi': 2376, 'wayup': 8868, 'nonmuscular': 5319, 'thee': 8066, 'flawless': 2969, 'mall': 4720, 'unvari': 8613, 'kitchen': 4265, 'countertop': 1774, 'wipe': 9026, 'racier': 6296, 'weddi': 8887, 'phase': 5838, 'ann': 282, 'anthopolog': 307, 'gene': 3267, 'meanwhil': 4835, 'deshn': 2113, 'notori': 5347, 'gloriou': 3339, 'lounger': 4613, 'gauzey': 3251, 'madonna': 4686, 'rocki': 6662, 'raccoon': 6289, 'critter': 1860, 'don': 2299, 'sculpt': 6889, 'reoccur': 6510, 'chuck': 1398, 'strength': 7668, 'undamag': 8474, 'tenti': 8031, 'sante': 6803, 'escalant': 2622, 'whisper': 8964, 'stump': 7711, 'method': 4897, 'muslin': 5141, 'cutewith': 1935, 'raid': 6306, 'col': 1522, 'funk': 3188, 'cheekier': 1327, 'waaay': 8799, 'surround': 7836, 'waaaay': 8798, 'sheek': 7023, 'forc': 3070, 'handmad': 3528, 'similarli': 7157, 'phot': 5845, 'maaji': 4675, 'com': 1558, 'afterwork': 132, 'kondo': 4295, 'spark': 7448, 'allur': 205, 'creep': 1834, 'int': 4024, 'endora': 2567, 'comfrot': 1579, 'cahnc': 1123, 'howeverm': 3773, 'cali': 1128, 'gretta': 3445, 'hurri': 3821, 'wildli': 9001, 'pharmacist': 5837, 'drugstor': 2381, 'tassl': 7972, 'dozen': 2327, 'oood': 5476, 'erin': 2617, 'fetherston': 2872, 'rtw': 6711, 'knockoff': 4286, 'versitl': 8724, 'cumbersom': 1898, 'poi': 5976, 'wrinkel': 9126, 'chunk': 1401, 'hack': 3497, 'beatric': 645, 'scuff': 6888, 'ridic': 6628, 'stretc': 7672, 'nydj': 5384, 'unfini': 8527, 'uk': 8429, 'goner': 3364, 'versat': 8717, 'poofier': 6010, 'clownish': 1493, 'scrunch': 6884, 'foster': 3102, 'moth': 5081, 'fi': 2875, 'lake': 4329, 'toronto': 8241, 'columbia': 1554, 'sumptuou': 7783, 'jaundic': 4149, 'tranform': 8277, 'bouncier': 923, 'captiv': 1178, 'spotlight': 7505, 'teepe': 8007, 'dinosaur': 2191, 'campu': 1154, 'nesrli': 5244, 'human': 3802, 'martial': 4767, 'charleston': 1303, 'commit': 1588, 'neckhol': 5213, 'varianc': 8684, 'woul': 9104, 'longish': 4569, 'icki': 3848, 'greener': 3440, 'lili': 4491, 'the': 8062, 'doggedli': 2285, 'with': 9039, 'heartbreakingli': 3596, 'rush': 6736, 'ex': 2677, 'assist': 437, 'moreov': 5069, 'sushi': 7840, 'chees': 1332, 'plate': 5935, 'hostess': 3754, 'laziest': 4383, 'resign': 6543, 'overtook': 5614, 'sidezip': 7126, 'gypsi': 3493, 'tuesday': 8360, 'popov': 6021, 'momma': 5038, 'santa': 6802, 'barbara': 590, 'cognac': 1516, 'dividend': 2266, 'ferri': 2867, 'unit': 8557, 'cousin': 1782, 'protrus': 6190, 'expec': 2714, 'ope': 5486, 'yucki': 9211, 'dirt': 2198, 'compat': 1602, 'steer': 7585, 'unsecur': 8591, 'sideway': 7125, 'upit': 8629, 'footless': 3067, 'embodi': 2532, 'saddlebag': 6758, 'unmodest': 8566, 'loss': 4602, 'journey': 4188, 'diaphan': 2153, 'villa': 8746, 'restaur': 6556, 'cascadia': 1219, 'sightse': 7133, 'analysi': 263, 'underdress': 8482, 'jiffi': 4171, 'aghast': 140, 'waifi': 8807, 'cascad': 1218, 'slubbi': 7291, 'bullet': 1057, 'unreal': 8582, 'utter': 8662, 'superfast': 7803, 'rodeo': 6664, 'bank': 586, 'flabbi': 2937, 'gourgeou': 3389, 'unsewn': 8592, 'oetit': 5431, 'semblanc': 6941, 'sin': 7167, 'nemesi': 5236, 'closeup': 1486, 'misplac': 4988, 'brownett': 1017, 'stuffi': 7708, 'spread': 7509, 'palm': 5664, 'restor': 6558, 'faith': 2778, 'suuuuuper': 7847, 'nordstrom': 5330, 'sublim': 7732, 'shooti': 7077, 'consult': 1681, 'bailey': 556, 'sensual': 6949, 'purr': 6243, 'deni': 2084, 'focus': 3048, 'sheepskin': 7027, 'ct': 1887, 'birth': 767, 'unsightli': 8594, 'ahem': 151, 'subdu': 7730, 'smelli': 7311, 'qualit': 6266, 'leifsdottir': 4425, 'daylight': 1987, 'cloudi': 1491, 'behin': 682, 'grad': 3398, 'lign': 4481, 'revieww': 6602, 'swoon': 7904, 'cornflow': 1741, 'recomm': 6397, 'prairi': 6069, 'mu': 5109, 'poochi': 6006, 'smar': 7305, 'electr': 2502, 'cutwork': 1942, 'upgrad': 8627, 'anyt': 327, 'statici': 7571, 'retailerplpogi': 6571, 'postcard': 6039, 'succumb': 7754, 'buttock': 1098, 'staticki': 7572, 'suppl': 7814, 'thinnest': 8099, 'unhealthili': 8545, 'pepperi': 5783, 'petroleum': 5832, 'turqouis': 8379, 'strawberri': 7658, 'zigzag': 9223, 'phisiqu': 5841, 'theater': 8063, 'quiet': 6280, 'bleu': 802, 'twisti': 8406, 'thorax': 8110, 'scrap': 6868, 'unintent': 8554, 'uncommon': 8465, 'ochr': 5418, 'verifi': 8711, 'volumptu': 8782, 'glitzi': 3333, 'professor': 6164, 'professori': 6165, 'deveri': 2141, 'parcel': 5688, 'flirtier': 2992, 'dylan': 2419, 'mccartney': 4824, 'roger': 6666, 'walter': 8824, 'neil': 5231, 'unfortunatli': 8540, 'medallion': 4843, 'audienc': 485, 'leatheri': 4406, 'haunt': 3569, 'anther': 303, 'roar': 6652, 'fire': 2914, 'roam': 6651, 'moor': 5065, 'hanki': 3539, 'bl': 780, 'antheropologi': 304, 'plata': 5934, 'rifl': 6632, 'physic': 5851, 'recoil': 6394, 'sandpap': 6800, 'etih': 2643, 'stell': 7586, 'corn': 1739, 'gosh': 3384, 'unshap': 8593, 'cello': 1261, 'loooong': 4581, 'stag': 7541, 'clunki': 1499, 'chiller': 1361, 'sillouhett': 7151, 'ttt': 8353, 'mage': 4690, 'internship': 4043, 'cigarett': 1406, 'engag': 2571, 'branch': 955, 'collabor': 1527, 'flour': 3013, 'project': 6168, 'reject': 6469, 'utterli': 8663, 'cheat': 1319, 'dine': 2187, 'lead': 4393, 'sctrachi': 6886, 'cheeki': 1326, 'filter': 2899, 'drier': 2366, 'clingier': 1474, 'camellia': 1142, 'dropwaist': 2377, 'deck': 2018, 'offlat': 5439, 'skimmer': 7209, 'flapper': 2948, 'constr': 1676, 'rebuy': 6372, 'pepto': 5784, 'bismol': 770, 'magnif': 4694, 'curio': 1910, 'keg': 4237, 'plump': 5963, 'domin': 2296, 'anatomi': 264, 'apr': 367, 'batik': 620, 'shaggi': 6988, 'didnot': 2158, 'sequenc': 6958, 'freepeopl': 3131, 'horror': 3746, 'tripl': 8326, 'elid': 2510, 'galor': 3220, 'loun': 4611, 'overstretch': 5609, 'minimalist': 4956, 'overtli': 5613, 'honolulu': 3724, 'materia': 4792, 'hay': 3579, 'bay': 625, 'juuuuussst': 4216, 'huuuuggg': 3828, 'flawi': 2968, 'seemd': 6926, 'detaisl': 2127, 'unatur': 8447, 'hallway': 3515, 'sheerer': 7029, 'lumberjack': 4651, 'voil': 8774, 'fore': 3072, 'prici': 6126, 'admirin': 104, 'contend': 1689, 'disppaoint': 2238, 'whte': 8976, 'supercut': 7802, 'contriv': 1705, 'lengt': 4433, 'tdf': 7986, 'easiest': 2440, 'anorak': 292, 'postur': 6045, 'genet': 3270, 'amorph': 250, 'intexa': 4049, 'spunk': 7519, 'needl': 5222, 'prick': 6128, 'undernea': 8489, 'bin': 756, 'georgetown': 3280, 'ahtro': 158, 'therapi': 8075, 'nanett': 5163, 'lepor': 4442, 'se': 6890, 'sentenc': 6951, 'enabl': 2556, 'polar': 5984, 'cushion': 1924, 'perfecto': 5799, 'cuddl': 1892, 'keen': 4231, 'spacedy': 7436, 'trainer': 8272, 'whip': 8958, 'bun': 1063, 'buggier': 1046, 'trapezoid': 8292, 'freshli': 3138, 'leisur': 4426, 'drove': 2378, 'calsual': 1135, 'shiryt': 7064, 'lifeless': 4461, 'juuuust': 4215, 'smear': 7308, 'prod': 6158, 'shove': 7101, 'ut': 8658, 'inspect': 4003, 'unrepair': 8586, 'discrep': 2224, 'bedtim': 669, 'vogu': 8771, 'upbeat': 8623, 'boney': 876, 'shadow': 6987, 'humbl': 3803, 'univers': 8558, 'pelvi': 5770, 'pregant': 6084, 'unfortunetli': 8541, 'slowli': 7289, 'ugliest': 8425, 'antebellum': 301, 'sharpli': 7010, 'bea': 632, 'kate': 4225, 'spade': 7439, 'sabina': 6744, 'eileen': 2486, 'orangi': 5507, 'dimension': 2182, 'ocean': 5415, 'unse': 8589, 'beautifu': 653, 'sofla': 7368, 'sweati': 7867, 'sizingwis': 7195, 'bode': 854, 'grecian': 3435, 'fes': 2868, 'intoler': 4052, 'steami': 7582, 'backward': 541, 'heirloom': 3623, 'overrul': 5602, 'trimest': 8323, 'fruit': 3163, 'sc': 6838, 'bout': 927, 'dioe': 2192, 'cowork': 1797, 'toothpast': 8228, 'insult': 4023, 'frock': 3156, 'milki': 4944, 'vice': 8738, 'versa': 8715, 'belief': 692, 'embrod': 2536, 'trial': 8312, 'target': 7968, 'quibb': 6275, 'versal': 8716, 'syllish': 7911, 'mila': 4932, 'stirrup': 7613, 'bound': 924, 'somethig': 7388, 'broen': 1002, 'extens': 2736, 'resolut': 6546, 'inevit': 3964, 'ell': 2514, 'adjac': 100, 'overh': 5589, 'colo': 1539, 'drappi': 2342, 'crack': 1805, 'wea': 8872, 'oceansid': 5416, 'attest': 473, 'bumpi': 1061, 'taught': 7977, 'latch': 4356, 'sleeper': 7239, 'trampi': 8275, 'nubbl': 5364, 'cave': 1249, 'milk': 4943, 'agai': 135, 'handbag': 3524, 'chain': 1279, 'ecru': 2458, 'eggshel': 2477, 'snigger': 7339, 'thrown': 8138, 'supima': 7811, 'sympath': 7915, 'wean': 8874, 'folklor': 3056, 'catchc': 1236, 'merchandis': 4880, 'astoria': 448, 'shoeless': 7073, 'jiggl': 4172, 'hassel': 3563, 'dobbi': 2277, 'util': 8660, 'precis': 6075, 'log': 4557, 'hall': 3511, 'uneasi': 8519, 'murki': 5130, 'litt': 4532, 'and': 266, 'zippi': 9229, 'session': 6967, 'joke': 4187, 'neighborhood': 5230, 'pict': 5863, 'nhl': 5271, 'flawlessli': 2970, 'waistcoat': 8810, 'pinki': 5894, 'client': 1467, 'gre': 3425, 'ba': 527, 'imwa': 3915, 'chanel': 1291, 'imput': 3914, 'embrac': 2534, 'greenvil': 3443, 'bounti': 926, 'embrodieri': 2537, 'ousid': 5549, 'suburban': 7749, 'bling': 807, 'demograph': 2077, 'cou': 1764, 'labl': 4306, 'lowest': 4632, 'flax': 2971, 'unnecessarili': 8569, 'rustl': 6742, 'user': 8654, 'sha': 6984, 'scottish': 6864, 'tartan': 7969, 'joe': 4182, 'welli': 8911, 'rain': 6309, 'flipflop': 2987, 'provenc': 6194, 'sunset': 7797, 'internet': 4042, 'magnolia': 4697, 'tracey': 8265, 'tw': 8389, 'awakward': 513, 'hop': 3733, 'cinderella': 1411, 'explan': 2725, 'remak': 6492, 'ceas': 1253, 'intrac': 4053, 'via': 8734, 'ladder': 4316, 'et': 2638, 'stitchin': 7616, 'incident': 3931, 'slightlyyyy': 7262, 'wether': 8924, 'diminish': 2183, 'llonger': 4543, 'windi': 9011, 'tunnel': 8372, 'alittl': 192, 'anni': 284, 'overa': 5576, 'cme': 1502, 'savannah': 6828, 'diva': 2262, 'gush': 3488, 'lengh': 4431, 'kindof': 4260, 'sunshin': 7798, 'minmiz': 4959, 'rail': 6307, 'mamaw': 4723, 'kiddo': 4249, 'basebal': 606, 'elosi': 2520, 'vulner': 8792, 'tla': 8195, 'bedskirt': 667, 'yuck': 9210, 'merg': 4884, 'versio': 8720, 'earn': 2431, 'cash': 1221, 'quaiiti': 6261, 'warp': 8841, 'befo': 674, 'cosi': 1750, 'accomad': 53, 'bop': 896, 'shir': 7056, 'invert': 4067, 'slam': 7228, 'dunk': 2405, 'prefe': 6080, 'librarian': 4457, 'thyre': 8148, 'bui': 1047, 'toil': 8212, 'prom': 6170, 'luna': 4654, 'tencil': 8024, 'ama': 233, 'mull': 5120, 'xxp': 9159, 'ladybug': 4319, 'dragonfli': 2332, 'swept': 7881, 'balk': 564, 'champion': 1288, 'system': 7920, 'ocassion': 5407, 'war': 8831, 'influx': 3972, 'abso': 26, 'endur': 2569, 'vinta': 8753, 'pallet': 5662, 'oclor': 5419, 'pai': 5642, 'stich': 7596, 'sema': 6940, 'barr': 602, 'studio': 7705, 'brag': 948, 'socal': 7359, 'pudg': 6209, 'pixi': 5909, 'en': 2555, 'birkinstock': 766, 'breakfast': 964, 'celadon': 1258, 'tattoo': 7976, 'ant': 300, 'bootl': 895, 'inexcus': 3965, 'lark': 4346, 'ruffli': 6721, 'cook': 1717, 'oblong': 5398, 'minimum': 4957, 'doili': 2286, 'odett': 5428, 'compress': 1629, 'puffer': 6214, 'unsung': 8602, 'hero': 3641, 'salesgirl': 6781, 'sunless': 7793, 'tanner': 7962, 'toasti': 8202, 'anyday': 322, 'roc': 6657, 'har': 3547, 'luscious': 4661, 'undersid': 8495, 'slid': 7252, 'coldest': 1525, 'err': 2618, 'paler': 5658, 'hourgass': 3761, 'unbeat': 8453, 'tale': 7947, 'tir': 8186, 'yumi': 9213, 'kim': 4253, 'redish': 6418, 'creamish': 1824, 'necessa': 5206, 'ooh': 5471, 'asia': 425, 'februari': 2846, 'amsterdam': 257, 'clin': 1470, 'asthet': 447, 'pix': 5908, 'snowflak': 7342, 'attrac': 478, 'hindsight': 3670, 'tit': 8190, 'lthink': 4639, 'ebough': 2451, 'detial': 2136, 'lofti': 4556, 'fleetwood': 2976, 'stratospher': 7656, 'ir': 4081, 'snowflsk': 7343, 'liiiiiittl': 4482, 'gui': 3478, 'patent': 5722, 'supersexi': 7808, 'homespun': 3714, 'apprehens': 355, 'shoot': 7076, 'yesteryear': 9187, 'hangar': 3535, 'moot': 5066, 'godsend': 3351, 'drama': 2334, 'gulp': 3483, 'mon': 5040, 'googl': 3375, 'athropologi': 462, 'warehous': 8834, 'discreet': 2223, 'boohoo': 885, 'fatter': 2823, 'timefram': 8174, 'heav': 3606, 'sleeev': 7235, 'replenish': 6523, 'wildfir': 9000, 'prohibit': 6167, 'fasion': 2813, 'accomplish': 57, 'classroom': 1446, 'flora': 3002, 'nikrooz': 5293, 'airplan': 170, 'lef': 4413, 'inher': 3980, 'xsma': 9149, 'automat': 494, 'begun': 680, 'bedeck': 665, 'nerdi': 5241, 'pintuck': 5898, 'rendit': 6506, 'disclaim': 2215, 'sof': 7364, 'deposit': 2096, 'linti': 4517, 'particl': 5701, 'bam': 575, 'gasp': 3241, 'hahahaha': 3504, 'retailerday': 6566, 'pilli': 5882, 'mosli': 5077, 'lambswool': 4331, 'declin': 2020, 'parallel': 5686, 'cartwheel': 1217, 'fatal': 2818, 'unrealist': 8583, 'technicolor': 7999, 'bec': 656, 'guid': 3479, 'masterpiec': 4783, 'sissi': 7179, 'spacek': 7437, 'intricaci': 4056, 'celebr': 1259, 'expensiv': 2719, 'flake': 2941, 'breathtakingli': 972, 'chelsea': 1338, 'pliabl': 5956, 'goto': 3387, 'sweathsirt': 7866, 'engin': 2572, 'aztec': 525, 'takeov': 7946, 'elder': 2500, 'fanat': 2794, 'mih': 4930, 'gradual': 3400, 'slimmest': 7268, 'alread': 217, 'shortli': 7091, 'korkeas': 4298, 'peruvian': 5820, 'opal': 5484, 'sham': 6993, 'loosley': 4595, 'sauci': 6825, 'shel': 7034, 'oft': 5442, 'overexpos': 5586, 'swea': 7859, 'bodytyp': 860, 'airy': 172, 'walker': 8819, 'havent': 3572, 'toposit': 8235, 'armh': 395, 'elita': 2513, 'glimmer': 3325, 'inquiri': 3993, 'areturn': 387, 'legwear': 4424, 'tralli': 8274, 'specifi': 7460, 'eager': 2424, 'knitwear': 4282, 'mayn': 4820, 'leak': 4396, 'action': 78, 'misunderstood': 5001, 'numbingli': 5372, 'flashback': 2952, 'ben': 703, 'payer': 5737, 'sartori': 6809, 'defi': 2042, 'wring': 9125, 'pamper': 5667, 'aga': 134, 'bangl': 585, 'yogi': 9197, 'itti': 4122, 'nick': 5278, 'avert': 507, 'oo': 5470, 'studi': 7704, 'overdress': 5584, 'rat': 6331, 'mirabella': 4974, 'wansup': 8829, 'minneapoli': 4961, 'pea': 5743, 'frail': 3117, 'yogini': 9198, 'gymnast': 3492, 'chandeli': 1290, 'carrier': 1207, 'postag': 6038, 'unadjust': 8441, 'athough': 460, 'avant': 501, 'gard': 3231, 'tanvi': 7963, 'kedia': 4228, 'mitten': 5004, 'ooo': 5475, 'wich': 8981, 'microfib': 4907, 'thinnish': 8100, 'rectangl': 6407, 'faulti': 2827, 'jam': 4139, 'loog': 4574, 'coverd': 1788, 'highl': 3658, 'shearer': 7016, 'tra': 8264, 'lacey': 4311, 'snd': 7336, 'clasic': 1438, 'bubblegum': 1037, 'hippier': 3678, 'menopaus': 4872, 'baggag': 550, 'overboard': 5580, 'assur': 443, 'emphasi': 2549, 'bismal': 769, 'fondli': 3059, 'acquaint': 72, 'checklist': 1323, 'bodili': 857, 'quintessenti': 6282, 'unsuit': 8601, 'bainbridg': 560, 'miid': 4931, 'satisfactorili': 6820, 'flock': 2996, 'undistinguish': 8513, 'snack': 7327, 'lovee': 4619, 'relationship': 6473, 'geometri': 3278, 'carniv': 1199, 'workhors': 9083, 'suri': 7828, 'alpaca': 214, 'polyamid': 5993, 'merino': 4885, 'hutch': 3825, 'tjhi': 8192, 'hopeless': 3736, 'probl': 6150, 'craze': 1819, 'headlight': 3585, 'tx': 8408, 'fist': 2925, 'vouch': 8785, 'attentio': 472, 'slime': 7264, 'camera': 1144, 'shotti': 7095, 'cheesecloth': 1334, 'qua': 6257, 'pokey': 5982, 'baubl': 624, 'anorex': 293, 'unhealthi': 8544, 'pli': 5955, 'iffi': 3860, 'veral': 8706, 'toothpick': 8229, 'guazi': 3474, 'nutcrack': 5377, 'colorado': 1542, 'column': 1555, 'amput': 256, 'barbi': 592, 'vex': 8730, 'ahhh': 154, 'former': 3090, 'violet': 8758, 'sadden': 6756, 'descri': 2107, 'biokleen': 761, 'perman': 5811, 'flux': 3040, 'luggag': 4648, 'bandaid': 580, 'vision': 8762, 'fromm': 3157, 'hr': 3776, 'md': 4827, 'wrinkley': 9128, 'curren': 1915, 'fiit': 2892, 'avg': 508, 'orderd': 5512, 'reali': 6355, 'eyelash': 2750, 'bitterli': 776, 'dreari': 2354, 'sf': 6982, 'ohio': 5445, 'cardigen': 1188, 'onesi': 5462, 'paquerett': 5682, 'measli': 4836, 'snuck': 7347, 'symptom': 7917, 'swamp': 7853, 'worsen': 9096, 'cuncun': 1900, 'blight': 804, 'wreck': 9117, 'otw': 5546, 'eu': 2645, 'oder': 5427, 'althet': 226, 'cr': 1803, 'complic': 1620, 'mutton': 5149, 'lamb': 4330, 'grabl': 3394, 'cheesecak': 1333, 'grave': 3419, 'fundrais': 3186, 'cont': 1683, 'mobil': 5012, 'mashin': 4774, 'wrangl': 9111, 'abject': 17, 'terror': 8043, 'contort': 1693, 'sup': 7799, 'rethink': 6577, 'trie': 8319, 'chorizo': 1386, 'smedium': 7309, 'fallaci': 2782, 'cherish': 1341, 'endlessli': 2565, 'gar': 3229, 'vinc': 8749, 'waiver': 8815, 'cooki': 1718, 'cutter': 1941, 'mr': 5104, 'nephew': 5240, 'declar': 2019, 'mullet': 5121, 'fingertip': 2909, 'specialist': 7458, 'thang': 8057, 'uncomfot': 8464, 'vocod': 8770, 'fadng': 2768, 'especia': 2628, 'paus': 5733, 'lenox': 4438, 'geek': 3259, 'sepia': 6955, 'fatti': 2824, 'cheezi': 1336, 'allevi': 196, 'sacramento': 6751, 'downplay': 2319, 'wen': 8914, 'unconnect': 8467, 'crafti': 1807, 'district': 2258, 'dispos': 2237, 'lone': 4564, 'dissent': 2244, 'alllll': 199, 'sorta': 7415, 'stumpifi': 7713, 'presum': 6104, 'reall': 6360, 'aft': 127, 'symphoni': 7916, 'equip': 2610, 'pallett': 5663, 'sensati': 6947, 'blank': 790, 'greal': 3427, 'crisscross': 1856, 'flood': 2997, 'mattress': 4806, 'spici': 7476, 'mishap': 4981, 'cusp': 1925, 'rider': 6626, 'tule': 8362, 'insirpr': 4000, 'disapoint': 2204, 'marvil': 4771, 'pricier': 6127, 'inlay': 3986, 'remad': 6489, 'musual': 5146, 'washington': 8852, 'jerusalem': 4161, 'dug': 2399, 'mediev': 4846, 'tortur': 8244, 'devic': 2143, 'liposuct': 4519, 'assymetr': 444, 'brutal': 1027, 'thruout': 8140, 'neveri': 5254, 'recipi': 6388, 'connecticut': 1662, 'iin': 3865, 'evergreen': 2659, 'mongolian': 5045, 'operat': 5491, 'aria': 390, 'sole': 7376, 'ratti': 6336, 'yup': 9216, 'milkmaid': 4945, 'alexandria': 187, 'woodstock': 9068, 'drawcord': 2346, 'georg': 3279, 'venson': 8701, 'vousta': 8786, 'deer': 2033, 'nouveau': 5350, 'eastern': 2446, 'greater': 3430, 'etro': 2644, 'thousand': 8118, 'nordic': 5329, 'notabl': 5340, 'magazin': 4689, 'lithuanian': 4529, 'impressionist': 3908, 'stiletto': 7607, 'disappoin': 2206, 'beardedladi': 642, 'andrew': 269, 'toughen': 8254, 'bradshaw': 947, 'walz': 8825, 'john': 4185, 'mayer': 4819, 'strenuou': 7669, 'unfix': 8530, 'hirt': 3681, 'optim': 5501, 'alley': 197, 'desperat': 2120, 'guilti': 3482, 'mottl': 5089, 'parker': 5695, 'toro': 8240, 'exceess': 2688, 'affair': 118, 'throb': 8129, 'swath': 7856, 'cartoon': 1214, 'annual': 290, 'switzerland': 7901, 'plasticki': 5933, 'lineba': 4505, 'differnt': 2168, 'lent': 4439, 'supposedli': 7818, 'conflict': 1655, 'orign': 5528, 'circu': 1416, 'furnitur': 3196, 'schooler': 6857, 'overflow': 5588, 'quantiti': 6269, 'gingham': 3303, 'composit': 1627, 'abhor': 15, 'popback': 6018, 'pleather': 5951, 'chase': 1310, 'wite': 9038, 'enthusiast': 2591, 'sprung': 7517, 'outerwear': 5557, 'unexpectedli': 8524, 'eveyon': 2671, 'axtra': 523, 'frivol': 3152, 'unassum': 8444, 'absurdli': 34, 'fron': 3158, 'ruc': 6716, 'nonpetit': 5320, 'unhem': 8547, 'woah': 9052, 'redicul': 6417, 'supermodel': 7807, 'raunch': 6337, 'unabl': 8439, 'wond': 9059, 'pie': 5867, 'paranoid': 5687, 'foo': 3061, 'loca': 4550, 'acacia': 40, 'dazzl': 1989, 'cutaway': 1929, 'unveil': 8614, 'accordingli': 60, 'charmeus': 1306, 'presumpt': 6105, 'intuit': 4062, 'awat': 516, 'shirtsleev': 7061, 'olsen': 5455, 'absenc': 25, 'buxom': 1105, 'whiplash': 8959, 'chin': 1365, 'regulr': 6461, 'appr': 353, 'sizi': 7194, 'berkeley': 713, 'broaden': 998, 'reader': 6350, 'sway': 7857, 'martini': 4769, 'foam': 3044, 'pushup': 6247, 'harm': 3557, 'thesi': 8082, 'waistless': 8811, 'colorwis': 1549, 'marilyn': 4753, 'mus': 5132, 'harmoni': 3558, 'postmark': 6042, 'sw': 7849, 'nec': 5203, 'distinguish': 2252, 'photoshop': 5850, 'breastlin': 968, 'herringbon': 3642, 'monica': 5046, 'sn': 7326, 'amidst': 246, 'beati': 644, 'sexy': 6980, 'tapestri': 7967, 'melodi': 4863, 'risquã': 6646, 'rosett': 6690, 'julep': 4199, 'default': 2035, 'grosgrain': 3460, 'distinctli': 2251, 'lesser': 4444, 'affix': 120, 'clutch': 1501, 'alik': 190, 'hype': 3835, 'cavern': 1251, 'fleshi': 2978, 'gorjuss': 3383, 'yoself': 9202, 'inadequ': 3918, 'vol': 8776, 'rent': 6509, 'barrett': 604, 'headband': 3584, 'lip': 4518, 'freakishli': 3126, 'slinder': 7269, 'avergag': 504, 'memor': 4868, 'boudoir': 918, 'dit': 2260, 'riffl': 6631, 'superfici': 7804, 'sprang': 7506, 'lass': 4352, 'opref': 5498, 'aottern': 333, 'fish': 2922, 'palla': 5661, 'cinnamon': 1412, 'sparingli': 7447, 'channel': 1293, 'midris': 4918, 'swlim': 7902, 'emobroideri': 2547, 'junior': 4208, 'cashier': 1222, 'rural': 6734, 'macram': 4680, 'drapi': 2341, 'kri': 4300, 'hoxton': 3774, 'pounc': 6056, 'enrout': 2584, 'until': 8607, 'sunblock': 7785, 'enourm': 2583, 'mateir': 4789, 'sticht': 7597, 'dealbreak': 2000, 'oot': 5480, 'nijar': 5291, 'kaftan': 4219, 'xtr': 9154, 'polyst': 5996, 'amazon': 238, 'seller': 6937, 'whale': 8930, 'stoe': 7620, 'flush': 3036, 'joan': 4178, 'tediou': 8001, 'gapless': 3227, 'manual': 4740, 'abou': 22, 'shaper': 7004, 'junk': 4209, 'agent': 138, 'carter': 1210, 'davi': 1983, 'crockett': 1863, 'fathom': 2821, 'woolen': 9071, 'prego': 6091, 'swin': 7888, 'preorder': 6093, 'cohes': 1518, 'prop': 6181, 'enchant': 2558, 'swirl': 7893, 'spun': 7518, 'tequila': 8033, 'ginger': 3302, 'srink': 7532, 'snuggest': 7350, 'geni': 3271, 'disgrac': 2226, 'lust': 4663, 'imperson': 3898, 'circumferenti': 1420, 'strechabl': 7664, 'cloer': 1480, 'harsh': 3561, 'breton': 977, 'marri': 4762, 'honesti': 3719, 'picot': 5861, 'awe': 518, 'ar': 379, 'mesmer': 4890, 'repertoir': 6521, 'surf': 7825, 'boatneck': 852, 'yacht': 9167, 'shortcak': 7084, 'dizzi': 2271, 'ash': 421, 'incid': 3930, 'ftinch': 3171, 'rackerback': 6298, 'jodphur': 4181, 'growth': 3466, 'resent': 6536, 'athro': 461, 'interwoven': 4048, 'etern': 2640, 'candid': 1161, 'financi': 2903, 'bracket': 946, 'sheerl': 7032, 'bliss': 809, 'on': 5460, 'terrifi': 8041, 'in': 3916, 'runa': 6730, 'underskirt': 8496, 'unforc': 8535, 'sexifi': 6979, 'spoil': 7493, 'tidier': 8156, 'micro': 4906, 'glori': 3337, 'canna': 1164, 'cluster': 1500, 'feasibl': 2840, 'lea': 4392, 'wad': 8800, 'beigey': 687, 'mule': 5118, 'duck': 2394, 'dancer': 1962, 'impromptu': 3910, 'dk': 2272, 'midrift': 4917, 'janeausten': 4142, 'overshadow': 5604, 'ongo': 5463, 'activewear': 80, 'furbal': 3195, 'cigar': 1405, 'sweetheart': 7877, 'trailer': 8270, 'maxidress': 4815, 'sofist': 7367, 'mallard': 4721, 'departur': 2093, 'alexa': 186, 'chung': 1400, 'chuckl': 1399, 'miracl': 4975, 'casu': 1227, 'orient': 5525, 'host': 3753, 'summat': 7778, 'recievi': 6386, 'litttl': 4535, 'yanke': 9170, 'pavin': 5734, 'buttyondown': 1104, 'hooray': 3732, 'tom': 8216, 'cellulit': 1264, 'tthe': 8350, 'polyurethan': 5997, 'alt': 222, 'baili': 557, 'synch': 7918, 'survey': 7837, 'legit': 4422, 'prettili': 6111, 'contrastin': 1702, 'uncomfi': 8462, 'eex': 2469, 'sholuld': 7074, 'hastl': 3565, 'slimli': 7265, 'bryden': 1028, 'repli': 6524, 'dangli': 1966, 'accentuatea': 43, 'rank': 6323, 'resort': 6549, 'needlessli': 5225, 'rotund': 6694, 'unalt': 8442, 'silh': 7140, 'outwear': 5570, 'delin': 2068, 'wrapov': 9113, 'seal': 6894, 'ziploc': 9227, 'freezer': 3133, 'anyou': 326, 'panama': 5669, 'fierc': 2884, 'cheapi': 1316, 'flufff': 3027, 'blogger': 817, 'crucial': 1876, 'fal': 2780, 'instantan': 4012, 'hometown': 3715, 'peopp': 5778, 'loungey': 4615, 'herbalist': 3638, 'hoepfulyl': 3693, 'orffic': 5520, 'hose': 3750, 'thiner': 8092, 'cooold': 1723, 'bee': 670, 'litl': 4531, 'veratil': 8707, 'occur': 5412, 'thrift': 8125, 'piti': 5907, 'tallish': 7953, 'dub': 2392, 'concur': 1643, 'unseam': 8590, 'lslightli': 4637, 'spaciou': 7438, 'underts': 8505, 'annnnd': 286, 'spider': 7477, 'sheerish': 7031, 'fp': 3111, 'htere': 3782, 'differenti': 2167, 'necessairli': 5207, 'similr': 7158, 'alc': 182, 'drkest': 2371, 'flatet': 2956, 'lung': 4657, 'havin': 3573, 'hawk': 3578, 'cop': 1728, 'mileston': 4940, 'bootcut': 892, 'hightow': 3664, 'hypen': 3836, 'sheeni': 7025, 'flea': 2972, 'teller': 8014, 'muggi': 5116, 'leng': 4430, 'palo': 5666, 'alto': 230, 'edessa': 2462, 'itsi': 4119, 'bitsi': 774, 'cehst': 1257, 'frump': 3164, 'bumpkin': 1062, 'newport': 5264, 'revi': 6599, 'ident': 3854, 'influenc': 3971, 'nape': 5170, 'rout': 6702, 'shatter': 7011, 'deem': 2029, 'tig': 8160, 'station': 7573, 'inflex': 3970, 'nolan': 5311, 'clair': 1432, 'underwood': 8510, 'flung': 3034, 'coloni': 1540, 'cratsmanship': 1816, 'apttenr': 375, 'prolong': 6169, 'pancho': 5670, 'stretchabl': 7674, 'bitter': 775, 'fiatter': 2878, 'shaver': 7013, 'accompani': 56, 'colw': 1556, 'tummmi': 8368, 'unflat': 8531, 'smal': 7300, 'brest': 976, 'sill': 7147, 'huit': 3798, 'eden': 2461, 'lagoon': 4323, 'silicon': 7142, 'poodl': 6007, 'estat': 2636, 'umbrella': 8434, 'parrot': 5696, 'substan': 7739, 'nevermind': 5255, 'perceiv': 5788, 'raindrop': 6312, 'knockout': 4287, 'homag': 3708, 'swell': 7879, 'conversationalist': 1711, 'cartoonish': 1215, 'neglige': 5228, 'planner': 5929, 'dubiou': 2393, 'rol': 6667, 'looker': 4576, 'jum': 4201, 'amd': 242, 'starburst': 7557, 'menti': 4876, 'retailerpligi': 6568, 'exud': 2745, 'stupid': 7718, 'slice': 7250, 'rsti': 6709, 'nitpick': 5301, 'shillouett': 7044, 'courderoy': 1780, 'wale': 8817, 'peac': 5744, 'sabl': 6745, 'toggl': 8211, 'loft': 4555, 'sumer': 7774, 'shee': 7021, 'ballerina': 566, 'badass': 545, 'cookout': 1719, 'ballooni': 570, 'westher': 8921, 'pregger': 6086, 'meta': 4895, 'inbetween': 3922, 'ornament': 5531, 'wonc': 9058, 'vey': 8731, 'roast': 6653, 'nativ': 5178, 'poker': 5981, 'peski': 5821, 'flyaway': 3041, 'mulit': 5119, 'brioch': 993, 'decreas': 2026, 'circumfer': 1419, 'lifelessli': 4462, 'inc': 3924, 'fauv': 2829, 'larkhil': 4347, 'horrid': 3743, 'neckband': 5212, 'scruffi': 6882, 'plainli': 5925, 'altogeth': 231, 'whomev': 8972, 'unstitch': 8597, 'noon': 5326, 'sb': 6837, 'dansko': 1967, 'uplift': 8631, 'degrad': 2052, 'amost': 251, 'wellmad': 8912, 'alrea': 216, 'occa': 5408, 'fanic': 2797, 'basketweav': 613, 'fractal': 3114, 'hipbon': 3674, 'gr': 3391, 'preval': 6114, 'peplu': 5781, 'dahlia': 1949, 'xxxxxxxx': 9166, 'slig': 7254, 'compon': 1625, 'buth': 1088, 'iether': 3859, 'timey': 8176, 'worm': 9091, 'ho': 3690, 'preggar': 6085, 'spec': 7456, 'complimen': 1622, 'sho': 7068, 'catelog': 1241, 'itha': 4113, 'writer': 9132, 'retailerp': 6567, 'uncuf': 8469, 'choir': 1375, 'cotteni': 1760, 'pumpkin': 6223, 'mmmmm': 5009, 'isol': 4103, 'selvag': 6939, 'taupey': 7979, 'stubbi': 7699, 'heatheri': 3604, 'remaind': 6491, 'identifi': 3855, 'anth': 302, 'postnat': 6043, 'occass': 5411, 'pettt': 5836, 'sleevless': 7244, 'upstair': 8641, 'courag': 1779, 'absolutley': 29, 'bcup': 629, 'fallback': 2783, 'pane': 5671, 'incr': 3942, 'allerg': 194, 'anomali': 291, 'ssxp': 7533, 'unopen': 8572, 'medlum': 4852, 'thise': 8105, 'siyu': 7189, 'puctur': 6207, 'importatn': 3903, 'matier': 4800, 'comfortbal': 1577, 'ilfelt': 3868, 'wake': 8816, 'anhtro': 277, 'elastain': 2494, 'hill': 3668, 'definitel': 2050, 'foundat': 3105, 'swoop': 7905, 'treatment': 8301, 'retailerpologist': 6575, 'blaclk': 784, 'snuggi': 7351, 'sadl': 6760, 'dec': 2006, 'smudg': 7323, 'polkadot': 5990, 'imit': 3880, 'disap': 2203, 'detest': 2135, 'nay': 5188, 'clincher': 1471, 'topish': 8232, 'fringi': 3150, 'seven': 6970, 'dummi': 2402, 'housecoat': 3765, 'charter': 1308, 'remnant': 6499, 'denium': 2087, 'ghi': 3290, 'probabley': 6149, 'defini': 2048, 'flew': 2979, 'blind': 805, 'fr': 3112, 'poorl': 6015, 'pelat': 5769, 'scrunchi': 6885, 'vendor': 8699, 'yey': 9189, 'fireengin': 2915, 'woohoo': 9069, 'heartedli': 3598, 'lilk': 4493, 'tidelin': 8155, 'wrn': 9134, 'nightdress': 5284, 'shorelin': 7082, 'profess': 6162, 'whig': 8950, 'pta': 6202, 'exclaim': 2696, 'um': 8433, 'gnarli': 3345, 'slovenli': 7287, 'radiat': 6300, 'reissu': 6468, 'hage': 3501, 'morher': 5071, 'favourit': 2835, 'neoni': 5238, 'cab': 1112, 'curb': 1907, 'nicley': 5279, 'shore': 7080, 'rework': 6607, 'troll': 8329, 'overhead': 5591, 'supersoft': 7809, 'orphan': 5533, 'lab': 4304, 'butcher': 1087, 'showcas': 7103, 'vinyl': 8757, 'rainproof': 6314, 'adj': 99, 'assort': 440, 'saundra': 6826, 'capelet': 1173, 'careless': 1193, 'minuscul': 4972, 'houndstooth': 3759, 'checkboard': 1321, 'jar': 4146, 'spoon': 7500, 'bolero': 869, 'succeed': 7751, 'ballgown': 568, 'stratchi': 7653, 'knuc': 4293, 'iop': 4077, 'ned': 5218, 'sofi': 7366, 'nexk': 5268, 'szie': 7922, 'nad': 5159, 'ahg': 152, 'hur': 3818, 'palelik': 5657, 'asflatt': 420, 'pacif': 5630, 'northwest': 5338, 'openli': 5488, 'muddl': 5114, 'opitom': 5493, 'dree': 2356, 'imhav': 3878, 'confect': 1649, 'regenc': 6448, 'eighti': 2485, 'finer': 2906, 'dud': 2395, 'bearabl': 641, 'mummi': 5127, 'acid': 69, 'tangibl': 7957, 'mainstay': 4705, 'aprã': 372, 'otth': 5544, 'betw': 725, 'funnili': 3192, 'exit': 2708, 'disrob': 2240, 'pluse': 5965, 'botih': 908, 'differen': 2166, 'wheelchair': 8938, 'temporarili': 8019, 'dã': 2422, 'colletã': 1538, 'loafer': 4547, 'slightl': 7260, 'ff': 2874, 'crutch': 1884, 'cirqu': 1422, 'chao': 1294, 'du': 2390, 'quirk': 6284, 'reel': 6426, 'boundari': 925, 'incarn': 3927, 'commiss': 1587, 'brochur': 1001, 'strop': 7695, 'costumey': 1757, 'consol': 1672, 'prize': 6143, 'interfer': 4037, 'econom': 2457, 'bsck': 1030, 'boyishli': 938, 'pal': 5651, 'materila': 4795, 'strecthi': 7666, 'brr': 1020, 'exepct': 2703, 'huh': 3796, 'mushroom': 5139, 'shallow': 6992, 'knowledg': 4290, 'port': 6027, 'playground': 5941, 'straightforward': 7641, 'coop': 1724, 'diff': 2163, 'bricki': 979, 'fellow': 2857, 'ttri': 8352, 'firmli': 2918, 'perfor': 5801, 'sprint': 7515, 'saccharin': 6747, 'forwar': 3100, 'newer': 5261, 'dash': 1979, 'forarm': 3069, 'fau': 2825, 'upscal': 8637, 'slend': 7245, 'nearest': 5196, 'fixabl': 2931, 'scrambl': 6867, 'manu': 4739, 'introduc': 4059, 'andddddd': 267, 'tommi': 8219, 'splendid': 7486, 'donna': 2303, 'morgan': 5070, 'haut': 3570, 'needlenos': 5224, 'crimp': 1844, 'plier': 5958, 'unhook': 8548, 'clamp': 1433, 'loopi': 4591, 'marguerit': 4749, 'carissima': 1197, 'satisfactori': 6819, 'divid': 2265, 'underdon': 8481, 'devote': 2145, 'isl': 4099, 'midwestern': 4926, 'seciton': 6911, 'narrowli': 5176, 'righ': 6634, 'burdensom': 1071, 'midnight': 4915, 'argument': 389, 'exp': 2712, 'shank': 6997, 'hollywood': 3707, 'hal': 3508, 'calib': 1130, 'whisk': 8962, 'nov': 5351, 'upturn': 8645, 'fluoresc': 3035, 'pnw': 5969, 'outdat': 5552, 'pratic': 6072, 'weirdest': 8906, 'healthi': 3589, 'hangi': 3537, 'angora': 276, 'monkey': 5049, 'uncl': 8459, 'reti': 6578, 'jare': 4147, 'subway': 7750, 'lowcut': 4630, 'airli': 168, 'overhang': 5590, 'thh': 8083, 'beign': 688, 'hsape': 3777, 'houseboat': 3764, 'nirs': 5299, 'nicel': 5274, 'rebound': 6371, 'unbelt': 8455, 'legnth': 4423, 'overcast': 5581, 'puddl': 6208, 'wildberri': 8998, 'funer': 3187, 'blizzard': 811, 'roper': 6686, 'beg': 676, 'fin': 2901, 'girth': 3309, 'unapp': 8443, 'tap': 7964, 'lou': 4607, 'dow': 2314, 'margin': 4748, 'pregnan': 6088, 'xlarg': 9146, 'bett': 722, 'biliou': 751, 'pickup': 5859, 'tiger': 8161, 'pretyy': 6112, 'steve': 7593, 'hink': 3671, 'myuch': 5156, 'deliber': 2062, 'clarifi': 1435, 'superman': 7806, 'prep': 6094, 'sillhoett': 7148, 'trek': 8303, 'villain': 8748, 'pri': 6120, 'ast': 445, 'forrest': 3095, 'flipp': 2988, 'ausaria': 489, 'dissuad': 2248, 'mutlipl': 5148, 'baltimor': 574, 'waaaaaaaay': 8795, 'fraction': 3115, 'millimet': 4947, 'magnet': 4693, 'oct': 5421, 'network': 5250, 'harken': 3556, 'thoat': 8107, 'comfortabl': 1576, 'yello': 9179, 'sunflow': 7789, 'sophistica': 7409, 'appropriar': 361, 'browner': 1016, 'tricep': 8315, 'blunder': 841, 'captur': 1179, 'comeback': 1566, 'simplifi': 7164, 'prett': 6107, 'male': 4718, 'michael': 4903, 'kor': 4296, 'complaintbi': 1610, 'scotti': 6863, 'sta': 7535, 'brood': 1010, 'doc': 2278, 'martin': 4768, 'feeli': 2852, 'ol': 5450, 'tickl': 8153, 'leeway': 4412, 'pippa': 5901, 'formless': 3093, 'intimid': 4051, 'jingl': 4174, 'barney': 599, 'fantasi': 2798, 'ne': 5193, 'meghan': 4857, 'trainor': 8273, 'song': 7396, 'sarong': 6808, 'miniskirt': 4958, 'resew': 6538, 'bran': 954, 'huuuug': 3827, 'beautifi': 651, 'seatbelt': 6907, 'childlik': 1358, 'tangl': 7958, 'lasership': 4351, 'fedex': 2847, 'usp': 8655, 'cram': 1811, 'unprotect': 8580, 'soapbox': 7357, 'resili': 6544, 'reign': 6465, 'officewear': 5437, 'skinton': 7218, 'appal': 341, 'enthral': 2589, 'sparklecolor': 7450, 'accordian': 59, 'king': 4261, 'andheavi': 268, 'materiel': 4793, 'comfo': 1571, 'whelm': 8940, 'weightier': 8903, 'missoni': 4994, 'huuug': 3826, 'bedspread': 668, 'trire': 8327, 'lvo': 4667, 'fifteen': 2886, 'orangutan': 5509, 'shortish': 7090, 'jaw': 4150, 'mabli': 4677, 'bitti': 777, 'stride': 7681, 'watermelon': 8861, 'kneelength': 4277, 'sayin': 6836, 'garnet': 3238, 'scrumptiou': 6883, 'upto': 8643, 'pinker': 5893, 'satinlik': 6817, 'larkin': 4348, 'hedg': 3614, 'barley': 597, 'adorn': 110, 'catchi': 1238, 'hol': 3698, 'eucalan': 2646, 'unavoid': 8449, 'glimps': 3327, 'viewabl': 8744, 'disrupt': 2241, 'pedal': 5756, 'pusher': 6246, 'inexplic': 3967, 'grand': 3405, 'chagrin': 1278, 'hire': 3680, 'evok': 2674, 'absoluti': 28, 'recomend': 6396, 'hurdl': 3819, 'topic': 8231, 'rearrang': 6367, 'maiden': 4699, 'packagei': 5635, 'duper': 2406, 'fairer': 2774, 'array': 407, 'sentiment': 6952, 'ni': 5272, 'troublesom': 8333, 'giv': 3310, 'yuk': 9212, 'tor': 8237, 'eleph': 2507, 'villag': 8747, 'justif': 4212, 'chiquita': 1369, 'prr': 6198, 'aiz': 173, 'mona': 5041, 'grandpa': 3410, 'thakoon': 8056, 'mum': 5126, 'balmi': 572, 'coverin': 1789, 'dissappoint': 2243, 'coth': 1758, 'stonw': 7626, 'domino': 2298, 'phoenix': 5843, 'surplic': 7830, 'epit': 2603, 'actualyl': 83, 'tyla': 8412, 'map': 4742, 'morel': 5068, 'ahold': 157, 'aaaaaaamaz': 1, 'purch': 6232, 'dump': 2403, 'pinafor': 5887, 'buldg': 1050, 'wynwood': 9144, 'unmatch': 8564, 'excurs': 2700, 'sailor': 6775, 'kennedi': 4240, 'orangish': 5508, 'uuuuggghhh': 8664, 'underbust': 8480, 'differemt': 2165, 'respit': 6553, 'hallelujah': 3512, 'wid': 8983, 'nonexist': 5317, 'recom': 6395, 'notebook': 5344, 'lititl': 4530, 'overjoy': 5592, 'swisuit': 7899, 'rusch': 6735, 'exclud': 2698, 'obes': 5393, 'jelli': 4159, 'thre': 8120, 'availalb': 500, 'htin': 3785, 'baptism': 588, 'matador': 4785, 'vow': 8787, 'femin': 2862, 'bleacher': 797, 'italian': 4108, 'impati': 3892, 'wight': 8992, 'toll': 8215, 'wnat': 9050, 'regulat': 6460, 'sift': 7130, 'flar': 2949, 'failur': 2771, 'ham': 3519, 'nab': 5158, 'priceless': 6123, 'flute': 3037, 'coobi': 1716, 'piqu': 5902, 'ikat': 3866, 'fort': 3096, 'knox': 4292, 'gauntlet': 3249, 'labor': 4307, 'lawn': 4375, 'speciou': 7461, 'allot': 201, 'everywh': 2669, 'obsxess': 5403, 'whcich': 8935, 'workedc': 9081, 'granni': 3413, 'marni': 4759, 'mui': 5117, 'prada': 6065, 'digit': 2175, 'floresc': 3007, 'cartionni': 1211, 'buttom': 1099, 'altar': 223, 'hail': 3505, 'syke': 7909, 'subject': 7731, 'pilazzo': 5874, 'histori': 3684, 'gett': 3286, 'dismay': 2234, 'hurray': 3820, 'newspap': 5267, 'acco': 52, 'nich': 5277, 'compa': 1593, 'relief': 6483, 'recurv': 6411, 'allud': 204, 'wither': 9040, 'crossfit': 1868, 'abdomin': 13, 'cardboard': 1184, 'ink': 3983, 'torus': 8245, 'burch': 1069, 'playa': 5939, 'nocal': 5306, 'monik': 5047, 'suspici': 7842, 'hobbit': 3692, 'neve': 5252, 'veer': 8690, 'graciou': 3396, 'compfi': 1606, 'colletag': 1537, 'knobbi': 4284, 'goo': 3366, 'abercrombi': 14, 'newsi': 5266, 'panic': 5673, 'caress': 1194, 'stadium': 7539, 'shou': 7096, 'interim': 4038, 'voom': 8784, 'summar': 7776, 'creamsicl': 1825, 'withhold': 9041, 'squarish': 7522, 'squarpl': 7523, 'delaney': 2057, 'orlean': 5530, 'ier': 3858, 'nigh': 5282, 'delain': 2056, 'rugged': 6723, 'easyili': 2447, 'flatt': 2958, 'cleani': 1453, 'maillot': 4702, 'bue': 1043, 'inwa': 4072, 'lsit': 4636, 'modl': 5029, 'ute': 8659, 'brught': 1021, 'onin': 5464, 'somuch': 7394, 'laec': 4322, 'templ': 8018, 'cheshir': 1343, 'chafe': 1277, 'fought': 3103, 'chariti': 1301, 'rath': 6333, 'correspond': 1748, 'howeverl': 3772, 'hene': 3634, 'futurist': 3208, 'oatmealish': 5391, 'trapezey': 8291, 'renatk': 6504, 'patt': 5728, 'deminish': 2076, 'nutmeg': 5378, 'amt': 258, 'seper': 6954, 'unprofession': 8578, 'peacoat': 5747, 'orangeish': 5505, 'vpl': 8788, 'taco': 7931, 'measument': 4837, 'baggish': 554, 'bonett': 875, 'excitedli': 2695, 'while': 8952, 'oooh': 5477, 'aaah': 6, 'hurriedli': 3822, 'beliv': 694, 'veltevti': 8696, 'carton': 1212, 'comfim': 1570, 'smack': 7297, 'dab': 1947, 'nonuniform': 5324, 'pacifica': 5631, 'comparat': 1598, 'leana': 4398, 'farthest': 2809, 'surplu': 7831, 'unsuccess': 8600, 'wan': 8827, 'cue': 1894, 'snowstorm': 7345, 'foldabl': 3053, 'cotta': 1759, 'aro': 401, 'bombshel': 873, 'availab': 499, 'fallish': 2785, 'briefli': 986, 'birkenstock': 765, 'beckon': 661, 'strikingli': 7684, 'terracotta': 8037, 'stetson': 7592, 'aunt': 488, 'everleigh': 2661, 'eri': 2616, 'ali': 188, 'lululemon': 4650, 'bla': 781, 'victim': 8739, 'sweatshirti': 7870, 'washout': 8853, 'eg': 2474, 'largo': 4344, 'buttah': 1093, 'devot': 2144, 'didm': 2157, 'barrel': 603, 'delicaci': 2064, 'androgyn': 270, 'ick': 3847, 'melodist': 4864, 'sunros': 7796, 'allusion': 207, 'yepee': 9184, 'submerg': 7734, 'northeastern': 5336, 'bottam': 911, 'tbale': 7983, 'elngth': 2516, 'almsot': 210, 'distraught': 2255, 'fatiqu': 2822, 'biweekli': 778, 'casua': 1228, 'fisherman': 2924, 'what': 8931, 'barbecu': 591, 'purpley': 6239, 'earnest': 2432, 'inter': 4031, 'monogram': 5051, 'amadi': 234, 'crossfront': 1869, 'tailer': 7941, 'subsequ': 7737, 'ladyish': 4320, 'runch': 6731, 'roof': 6678, 'marian': 4751, 'vein': 8693, 'ace': 66, 'dolor': 2295, 'enlarg': 2578, 'tu': 8354, 'hugh': 3795, 'tic': 8150, 'embed': 2530, 'bamboo': 576, 'underneat': 8490, 'panki': 5674, 'extravag': 2743, 'xxi': 9157, 'toast': 8201, 'pho': 5842, 'defe': 2036, 'matchi': 4787, 'momish': 5037, 'soup': 7423, 'ican': 3844, 'rehers': 6464, 'beautifil': 652, 'answ': 298, 'cardio': 1190, 'fiddli': 2881, 'throught': 8134, 'theoret': 8071, 'cya': 1944, 'ridg': 6627, 'shorebird': 7081, 'shlumpi': 7066, 'ke': 4226, 'haystack': 3580, 'diagnol': 2147, 'grea': 3426, 'smoke': 7317, 'marroon': 4764, 'edgey': 2464, 'lai': 4324, 'marin': 4754, 'likea': 4487, 'dtime': 2389, 'registri': 6451, 'reeeealli': 6423, 'grrrrr': 3468, 'exa': 2678, 'leggier': 4419, 'easilli': 2443, 'spillag': 7480, 'darbi': 1970, 'thum': 8143, 'destruct': 2124, 'thirst': 8102, 'tiokeep': 8184, 'carolin': 1201, 'cooper': 1725, 'attack': 468, 'merlot': 4886, 'benea': 708, 'sisz': 7182, 'loeli': 4554, 'likd': 4485, 'versi': 8719, 'iusual': 4123, 'otherws': 5540, 'inev': 3963, 'necessit': 5210, 'grabber': 3393, 'turend': 8374, 'thanskgiv': 8060, 'blou': 825, 'refgular': 6432, 'btu': 1033, 'strectchi': 7665, 'ucan': 8420, 'adjsut': 101, 'tk': 8193, 'quadruplet': 6260, 'spongi': 7498, 'spurt': 7520, 'patio': 5726, 'guffaw': 3477, 'implor': 3900, 'retailerpolog': 6574, 'oompaloompa': 5473, 'ghost': 3292, 'purchasi': 6235, 'zooland': 9232, 'derelict': 2101, 'campaign': 1152, 'repellar': 6520, 'liber': 4455, 'unbalanc': 8451, 'stitc': 7614, 'behav': 681, 'yellowi': 9181, 'hist': 3682, 'asymetr': 453, 'arrow': 410, 'vribant': 8789, 'waht': 8803, 'scree': 6874, 'stri': 7678, 'whack': 8928, 'allway': 208, 'latest': 4359, 'formula': 3094, 'consum': 1682, 'strech': 7663, 'qualifi': 6265, 'dice': 2154, 'undnerneath': 8514, 'pur': 6229, 'resound': 6550, 'looooov': 4585, 'nantucket': 5166, 'instea': 4014, 'chalk': 1281, 'jcrew': 4152, 'saver': 6830, 'sink': 7176, 'picro': 5862, 'stabil': 7536, 'washcloth': 8849, 'snappi': 7333, 'colorless': 1546, 'discolor': 2217, 'africa': 126, 'poni': 6003, 'goodi': 3370, 'binder': 758, 'boggl': 862, 'anafa': 261, 'uniqlo': 8555, 'airism': 167, 'acquir': 73, 'unproport': 8579, 'willa': 9003, 'flub': 3023, 'cadi': 1119, 'yippe': 9194, 'religi': 6485, 'hiplin': 3676, 'unbreath': 8456, 'drug': 2380, 'stre': 7660, 'vers': 8714, 'gawdi': 3254, 'gabardia': 3214, 'lacausa': 4308, 'baroqu': 601, 'flavor': 2966, 'cervix': 1275, 'cartoonishli': 1216, 'wench': 8915, 'unforgett': 8536, 'snu': 7346, 'quasi': 6271, 'seamlessli': 6897, 'greedi': 3437, 'ken': 4239, 'artwork': 417, 'pillow': 5883, 'freshen': 3137, 'wuzzi': 9142, 'hugger': 3794, 'photographi': 5848, 'foggi': 3049, 'ware': 8833, 'wiri': 9029, 'saffron': 6765, 'soucotach': 7418, 'handwork': 3532, 'london': 4563, 'goldish': 3361, 'housewif': 3767, 'xxxxx': 9165, 'loveli': 4622, 'plusher': 5967, 'trap': 8289, 'washa': 8847, 'hag': 3500, 'anlobn': 281, 'plainer': 5924, 'musti': 5145, 'doenst': 2282, 'greyish': 3448, 'lovey': 4626, 'crowd': 1874, 'morocco': 5073, 'kitti': 4268, 'rehem': 6463, 'fabl': 2756, 'sweaterknit': 7864, 'wax': 8866, 'poetic': 5974, 'salesclerk': 6780, 'poetri': 5975, 'fluevog': 3025, 'granddaught': 3406, 'propos': 6187, 'faryl': 2810, 'cane': 1163, 'ithi': 4114, 'howe': 3770, 'scenario': 6850, 'beac': 633, 'puerto': 6211, 'rico': 6622, 'mcpherson': 4826, 'waitband': 8814, 'energi': 2570, 'bookmark': 887, 'straightish': 7642, 'laidback': 4326, 'sacr': 6750, 'coastal': 1508, 'testi': 8047, 'twee': 8392, 'cell': 1260, 'whittl': 8968, 'overexposur': 5587, 'thei': 8067, 'peg': 5764, 'nifti': 5281, 'hipe': 3675, 'wualiti': 9141, 'my': 5151, 'brooklyn': 1011, 'central': 1268, 'densest': 2088, 'cun': 1899, 'someway': 7391, 'lilka': 4494, 'pyjama': 6254, 'inwonderland': 4075, 'upload': 8632, 'dominantli': 2297, 'hairi': 3507, 'strictli': 7680, 'pup': 6227, 'lovingli': 4628, 'demosil': 2081, 'kil': 4250, 'ergo': 2615, 'harsher': 3562, 'complex': 1617, 'choosi': 1381, 'anthlet': 305, 'beuti': 728, 'tekstur': 8012, 'elswher': 2523, 'elliot': 2515, 'cecilia': 1255, 'prado': 6066, 'floraknit': 3003, 'ate': 456, 'linguini': 4512, 'hel': 3624, 'fabir': 2755, 'sleveless': 7248, 'sub': 7729, 'fauna': 2828, 'ireland': 4082, 'gianorm': 3294, 'itt': 4121, 'bike': 748, 'feign': 2853, 'athletic': 459, 'modelesqu': 5022, 'willowi': 9005, 'minus': 4971, 'bendi': 707, 'soooooooo': 7405, 'doen': 2281, 'mephisto': 4879, 'tthi': 8351, 'classiest': 1444, 'monotoni': 5052, 'deconstruct': 2024, 'hangup': 3538, 'ev': 2649, 'christmastim': 1391, 'utilitarian': 8661, 'chief': 1353, 'wih': 8993, 'minuet': 4970, 'eccentr': 2453, 'mega': 4856, 'boxer': 931, 'volit': 8777, 'fetch': 2871, 'filthi': 2900, 'dishevel': 2231, 'moomoo': 5062, 'pinup': 5899, 'tod': 8204, 'santuari': 6804, 'ahe': 149, 'clack': 1430, 'bmeant': 846, 'ljsut': 4538, 'calssic': 1134, 'overwear': 5616, 'scandel': 6842, 'shoul': 7097, 'garbag': 3230, 'anrtho': 296, 'swishier': 7897, 'chintzi': 1368, 'picur': 5866, 'slouchier': 7285, 'asham': 422, 'backup': 540, 'cutr': 1939, 'rescu': 6532, 'outsiz': 5566, 'gonga': 3365, 'reveiv': 6594, 'imlov': 3881, 'retailerplog': 6569, 'greig': 3444, 'stetchi': 7591, 'xtra': 9155, 'asylum': 452, 'gloomi': 3336, 'middi': 4910, 'completli': 1616, 'oppress': 5497, 'ethnic': 2642, 'lug': 4647, 'antrhopologi': 314, 'especailli': 2626, 'fortuni': 3099, 'dramaticli': 2336, 'naomi': 5167, 'taza': 7982, 'construc': 1679, 'format': 3089, 'noce': 5307, 'childsiz': 1359, 'colwyn': 1557, 'conundrum': 1707, 'depress': 2097, 'hoiday': 3695, 'plesantli': 5953, 'taffita': 7935, 'foil': 3050, 'withstood': 9047, 'whyyyyyyyyyyi': 8977, 'freedom': 3129, 'liatri': 4453, 'dial': 2149, 'apocolyps': 339, 'immin': 3887, 'feat': 2842, 'freshman': 3139, 'highschool': 3662, 'rachel': 6294, 'maternit': 4797, 'surprisngli': 7834, 'tightish': 8167, 'deff': 2041, 'insta': 4006, 'beautiful': 654, 'layov': 4381, 'gunmet': 3486, 'beacheress': 635, 'jodhpur': 4180, 'miser': 4980, 'shld': 7065, 'concentr': 1635, 'slump': 7292, 'focal': 3046, 'glint': 3328, 'leaflet': 4395, 'minorli': 4965, 'kitschi': 4266, 'tsp': 8348, 'condition': 1646, 'haul': 3568, 'wren': 9118, 'pressur': 6103, 'redi': 6416, 'substandard': 7742, 'maintena': 4709, 'sheed': 7022, 'sternum': 7589, 'immacul': 3882, 'marigold': 4752, 'abut': 38, 'intrins': 4058, 'tout': 8256, 'loc': 4549, 'singer': 7173, 'perform': 5802, 'reflex': 6436, 'suppr': 7819, 'topnotch': 8234, 'hor': 3737, 'overbeari': 5579, 'wimpi': 9007, 'biit': 747, 'shuffl': 7116, 'cozili': 1802, 'chamoi': 1285, 'shammi': 6995, 'blousier': 829, 'transpa': 8286, 'reef': 6424, 'soap': 7356, 'tub': 8355, 'cellular': 1263, 'burger': 1073, 'injuri': 3982, 'lenth': 4440, 'sleepi': 7240, 'bejewel': 690, 'rona': 6677, 'wayyyyy': 8871, 'hundo': 3812, 'desk': 2118, 'counterbal': 1773, 'roman': 6671, 'cosplay': 1752, 'charisma': 1300, 'hoochi': 3727, 'mamma': 4724, 'dryclean': 2385, 'obi': 5394, 'weed': 8893, 'yield': 9192, 'invari': 4064, 'combi': 1562, 'flamboy': 2942, 'angela': 273, 'tv': 8388, 'uncur': 8471, 'airier': 166, 'cring': 1847, 'ru': 6712, 'lampshad': 4332, 'india': 3949, 'hight': 3663, 'lessen': 4443, 'rob': 6654, 'snail': 7329, 'hp': 3775, 'slipperi': 7274, 'tryi': 8346, 'lackadais': 4314, 'boxin': 934, 'cardig': 1186, 'jule': 4198, 'nyt': 5388, 'comfor': 1572, 'tutu': 8386, 'reto': 6581, 'inadvert': 3919, 'typica': 8417, 'raggi': 6303, 'raci': 6295, 'resourc': 6551, 'fuscia': 3202, 'purpleish': 6238, 'peoni': 5776, 'boyshort': 940, 'demand': 2072, 'flori': 3008, 'rig': 6633, 'curi': 1909, 'uiu': 8428, 'beautifullli': 655, 'indiscret': 3954, 'averi': 505, 'sampler': 6792, 'deligth': 2067, 'hallmark': 3513, 'cosmet': 1751, 'qual': 6262, 'corp': 1744, 'tbu': 7985, 'hite': 3686, 'tot': 8248, 'acet': 67, 'sheerest': 7030, 'scrappi': 6869, 'seaso': 6903, 'bench': 704, 'shingl': 7050, 'guilt': 3481, 'instor': 4017, 'railroad': 6308, 'nomin': 5312, 'besuti': 719, 'preshrunk': 6101, 'evoc': 2673, 'recheck': 6384, 'dawn': 1984, 'procrastin': 6157, 'illustr': 3872, 'blunt': 842, 'bulkli': 1055, 'jaclket': 4134, 'slighli': 7256, 'svelt': 7848, 'vividli': 8768, 'pine': 5889, 'dwarf': 2416, 'sticker': 7599, 'beefier': 673, 'seafoam': 6892, 'jsutic': 4191, 'percect': 5787, 'lvoe': 4668, 'yfit': 9190, 'styllsit': 7727, 'insit': 4002, 'lstretch': 4638, 'shal': 6990, 'poooofffi': 6013, 'frmae': 3153, 'ext': 2733, 'airflow': 164, 'bunni': 1068, 'sillier': 7150, 'drumstick': 2382, 'ordinar': 5514, 'calm': 1133, 'visitor': 8764, 'ansi': 297, 'tobacco': 8203, 'bhldn': 733, 'recept': 6382, 'angelina': 274, 'prepregn': 6097, 'ov': 5572, 'vanja': 8681, 'calia': 1129, 'wht': 8975, 'rancher': 6319, 'sour': 7424, 'stylewis': 7723, 'gracious': 3397, 'enclos': 2559, 'plico': 5957, 'gargantuan': 3233, 'rubberi': 6715, 'voic': 8772, 'vix': 8769, 'reticket': 6579, 'lll': 4542, 'nike': 5292, 'radiant': 6299, 'slumpi': 7293, 'nearbi': 5195, 'react': 6347, 'loro': 4599, 'piana': 5854, 'nat': 5177, 'graham': 3402, 'spencer': 7469, 'pouffier': 6054, 'under': 8478, 'humili': 3806, 'tween': 8395, 'layi': 4379, 'sitter': 7185, 'unto': 8608, 'housedress': 3766, 'checkout': 1324, 'pkg': 5914, 'lobster': 4548, 'mth': 5108, 'vi': 8733, 'delish': 2069, 'theigh': 8068, 'corni': 1742, 'proud': 6191, 'reship': 6541, 'smidgen': 7313, 'acquisit': 74, 'gameday': 3223, 'ambiti': 241, 'attic': 474, 'unattach': 8445, 'pannier': 5675, 'casualti': 1230, 'expedit': 2716, 'corer': 1737, 'askedh': 429, 'nont': 5323, 'horn': 3740, 'mola': 5032, 'vanilla': 8678, 'goofi': 3374, 'disadvantag': 2201, 'exteem': 2734, 'dual': 2391, 'cla': 1429, 'hone': 3717, 'aquaflora': 378, 'itri': 4118, 'keeo': 4232, 'deress': 2102, 'commet': 1586, 'lifelong': 4463, 'impresssionist': 3909, 'suspicion': 7843, 'contest': 1691, 'murkier': 5131, 'smokey': 7318, 'ceris': 1271, 'sustain': 7844, 'ghana': 3289, 'pilcto': 5879, 'puckeri': 6206, 'horrif': 3744, 'hump': 3809, 'monro': 5053, 'rage': 6302, 'modcloth': 5018, 'amber': 239, 'fillerup': 2896, 'clark': 1436, 'mono': 5050, 'kini': 4262, 'inferior': 3968, 'doom': 2306, 'gate': 3242, 'startl': 7565, 'riverdeck': 6647, 'splashi': 7485, 'calvin': 1138, 'klein': 4270, 'egg': 2475, 'swimmingli': 7885, 'comp': 1592, 'uch': 8421, 'materil': 4794, 'ocol': 5420, 'itlook': 4116, 'farmhand': 2804, 'zombi': 9230, 'deco': 2021, 'jimmi': 4173, 'pessimist': 5823, 'tuc': 8357, 'christen': 1389, 'appetit': 346, 'toenail': 8208, 'pierc': 5869, 'spa': 7434, 'garter': 3239, 'mourn': 5095, 'evalu': 2651, 'gram': 3404, 'readili': 6352, 'choppi': 1383, 'repurpos': 6529, 'accumul': 63, 'zara': 9218, 'copi': 1729, 'sierra': 7129, 'batti': 621, 'fupa': 3193, 'billowli': 755, 'deail': 1998, 'kuddo': 4301, 'puella': 6210, 'gasolin': 3240, 'aubergin': 483, 'dementi': 2074, 'bagger': 551, 'hare': 3555, 'sto': 7618, 'recommemd': 6398, 'sloth': 7282, 'wretch': 9121, 'passabl': 5711, 'incent': 3928, 'hap': 3540, 'fiend': 2883, 'ml': 5008, 'dall': 1956, 'seychel': 6981, 'vinegar': 8751, 'fuse': 3203, 'airlin': 169, 'jess': 4162, 'moistur': 5031, 'condens': 1644, 'gel': 3263, 'tabbi': 7925, 'shoddi': 7070, 'akward': 177, 'wowza': 9110, 'rhineston': 6610, 'orderin': 5513, 'rep': 6513, 'beauiti': 648, 'markdown': 4756, 'crystal': 1886, 'thinkng': 8096, 'mediu': 4849, 'rineston': 6638, 'onwear': 5469, 'citru': 1426, 'prong': 6178, 'simplest': 7161, 'nela': 5235, 'caccoon': 1116, 'lrg': 4635, 'meander': 4832, 'mortar': 5074, 'eyelit': 2752, 'sizw': 7196, 'bonfir': 877, 'sec': 6910, 'tournament': 8255, 'frumpier': 3166, 'whey': 8947, 'absorb': 31, 'goodby': 3368, 'mischiev': 4979, 'teaser': 7996, 'tact': 7932, 'fluffier': 3029, 'wall': 8820, 'returrn': 6589, 'perso': 5815, 'pastri': 5718, 'escap': 2623, 'film': 2897, 'noir': 5309, 'witch': 9037, 'leapt': 4401, 'warmest': 8838, 'repack': 6514, 'contra': 1696, 'damask': 1959, 'throwaway': 8136, 'armho': 396, 'birk': 764, 'shotgun': 7094, 'carrot': 1208, 'teardrop': 7994, 'cheapest': 1315, 'exhaust': 2705, 'marathon': 4746, 'guidanc': 3480, 'portrait': 6030, 'mou': 5090, 'sickli': 7122, 'apprx': 366, 'mankind': 4734, 'gunni': 3487, 'sax': 6834, 'ecaus': 2452, 'miley': 4941, 'ciru': 1423, 'huey': 3791, 'bip': 762, 'bailley': 558, 'minni': 4963, 'wonderul': 9061, 'narrowi': 5175, 'bypass': 1109, 'lighweight': 4480, 'rein': 6466, 'bloop': 821, 'squirrel': 7529, 'soar': 7358, 'curat': 1905, 'grill': 3450, 'immediatley': 3885, 'sweeter': 7875, 'offici': 5438, 'spi': 7474, 'senit': 6945, 'approprialti': 360, 'crumpli': 1880, 'headwat': 3586, 'orsay': 5534, 'colorsblock': 1547, 'theatr': 8064, 'massag': 4779, 'tendd': 8026, 'midw': 4922, 'hum': 3801, 'curvac': 1919, 'neccissarili': 5204, 'givinng': 3313, 'dnd': 2275, 'tennesse': 8028, 'immatur': 3883, 'coincid': 1520, 'fai': 2769, 'flattter': 2964, 'racetrack': 6293, 'anticp': 311, 'blotch': 823, 'craftsman': 1809, 'austin': 490, 'nerv': 5242, 'canadian': 1157, 'headach': 3583, 'lure': 4658, 'invalu': 4063, 'reviev': 6600, 'actuallli': 82, 'hopefulluy': 3735, 'torquois': 8242, 'cuti': 1936, 'anchor': 265, 'btoher': 1032, 'ewr': 2675, 'biggish': 745, 'thopugh': 8109, 'kleep': 4269, 'especial': 2629, 'sear': 6899, 'whine': 8957, 'swiftli': 7882, 'geranium': 3283, 'flail': 2939, 'cellophan': 1262, 'filigre': 2893, 'moon': 5063, 'bridg': 984, 'wick': 8982, 'boodi': 884, 'kee': 4229, 'priorit': 6138, 'coutour': 1783, 'wrardrob': 9115, 'biti': 773, 'embroider': 2541, 'relentless': 6479, 'phd': 5839, 'orgini': 5524, 'palc': 5654, 'appropir': 357, 'drese': 2357, 'neitral': 5234, 'oversight': 5606, 'pigment': 5872, 'casula': 1231, 'gorilla': 3382, 'petiit': 5828, 'crunchi': 1881, 'moonscap': 5064, 'uncompl': 8466, 'dose': 2309, 'halterneck': 3518, 'abck': 11, 'engulf': 2575, 'whereof': 8943, 'pouff': 6052, 'storm': 7634, 'stin': 7610, 'neverth': 5256, 'industri': 3961, 'all': 193, 'wisker': 9034, 'buttercup': 1095, 'mif': 4927, 'glitch': 3330, 'idid': 3856, 'cameo': 1143, 'brooch': 1009, 'currant': 1914, 'brigh': 987, 'pleaser': 5948, 'tomboy': 8218, 'earrin': 2433, 'cough': 1766, 'flexor': 2982, 'thsi': 8141, 'nudist': 5367, 'typi': 8415, 'wetsuit': 8925, 'farrah': 2805, 'fawcett': 2837, 'pech': 5755, 'bolder': 868, 'masquerad': 4777, 'comjfort': 1583, 'eit': 2488, 'notat': 5341, 'snatc': 7334, 'fewer': 2873, 'mismark': 4985, 'hyperhidrosi': 3837, 'fluiditi': 3032, 'av': 496, 'schoolmarm': 6858, 'shoulda': 7098, 'imp': 3890, 'femm': 2865, 'mannikin': 4737, 'lariat': 4345, 'showpiec': 7107, 'blew': 803, 'predominantli': 6078, 'canton': 1168, 'nari': 5172, 'enoug': 2581, 'fuschia': 3201, 'linger': 4510, 'thinn': 8097, 'turqois': 8378, 'cub': 1889, 'tech': 7997, 'lite': 4525, 'smurf': 7324, 'adirondack': 98, 'ehhh': 2481, 'nline': 5304, 'rebview': 6373, 'entic': 2592, 'sllm': 7277, 'freebird': 3128, 'cecelia': 1254, 'pocketsi': 5973, 'greatz': 3433, 'indul': 3959, 'cu': 1888, 'upward': 8646, 'judgment': 4195, 'classifi': 1445, 'boyleg': 939, 'plagu': 5921, 'yank': 9169, 'cubana': 1890, 'ciara': 1404, 'adieu': 97, 'unco': 8461, 'wtih': 9140, 'loden': 4553, 'missouri': 4995, 'thro': 8127, 'tanktop': 7961, 'throughou': 8132, 'backend': 533, 'regal': 6444, 'sigourney': 7138, 'weaver': 8883, 'harrison': 3560, 'ford': 3071, 'icecream': 3846, 'weston': 8922, 'jeweleri': 4168, 'fulfil': 3177, 'generali': 3269, 'nansen': 5165, 'void': 8773, 'plethora': 5954, 'cincher': 1409, 'tackl': 7930, 'bronzi': 1008, 'ddind': 1994, 'beter': 721, 'lcome': 4389, 'sihrt': 7139, 'milan': 4933, 'rega': 6442, 'manella': 4728, 'centimet': 1267, 'gumbi': 3484, 'ashevil': 423, 'feb': 2845, 'terrycloth': 8044, 'merchant': 4881, 'subset': 7738, 'goof': 3373, 'farrier': 2806, 'crossword': 1871, 'downtown': 2324, 'contempo': 1687, 'lightw': 4475, 'elat': 2498, 'heartbreak': 3595, 'crwal': 1885, 'pot': 6046, 'comfrtabl': 1581, 'speaker': 7455, 'homeless': 3711, 'abus': 37, 'affluent': 121, 'heartfelt': 3599, 'inclus': 3934, 'guard': 3473, 'untan': 8604, 'acknowledg': 71, 'storag': 7630, 'beaufulli': 647, 'cheep': 1328, 'definelti': 2045, 'canyon': 1170, 'poki': 5983, 'nester': 5246, 'prickl': 6129, 'knuckl': 4294, 'prev': 6113, 'carra': 1204, 'charent': 1298, 'embroidari': 2540, 'gender': 3266, 'agust': 146, 'deduc': 2027, 'beaut': 649, 'woop': 9074, 'refrain': 6437, 'sail': 6772, 'lbsm': 4386, 'nbut': 5190, 'rahter': 6305, 'groov': 3459, 'forh': 3086, 'mainstream': 4706, 'neda': 5219, 'meantim': 4834, 'ping': 5891, 'keel': 4230, 'riddl': 6624, 'unik': 8552, 'hammi': 3520, 'insubstanti': 4020, 'nred': 5359, 'ascet': 419, 'incompar': 3935, 'digi': 2174, 'fusibl': 3204, 'interfac': 4036, 'incomplet': 3936, 'shearli': 7018, 'lovelyt': 4623, 'enthusiasm': 2590, 'brazilian': 960, 'allison': 198, 'highland': 3659, 'employ': 2551, 'possi': 6035, 'tyical': 8411, 'spokan': 7495, 'meredith': 4883, 'amoret': 249, 'gemlin': 3265, 'furth': 3199, 'manicur': 4732, 'peson': 5822, 'hess': 3645, 'colorblind': 1543, 'dowton': 2326, 'anyw': 330, 'scatter': 6849, 'coin': 1519, 'fountain': 3106, 'commerci': 1585, 'myer': 5152, 'dissippoint': 2247, 'dissipoint': 2246, 'overt': 5610, 'mastectomi': 4781, 'drain': 2333, 'princessi': 6135, 'tranquil': 8278, 'ottoman': 5545, 'unruli': 8588, 'neaten': 5199, 'buto': 1090, 'weddingrehears': 8888, 'vega': 8691, 'elasticis': 2496, 'kahki': 4220, 'spree': 7510, 'tow': 8257, 'madewel': 4684, 'bustiest': 1084, 'betwixt': 726, 'conclus': 1641, 'crimplen': 1845, 'boooo': 888, 'timi': 8177, 'schedul': 6853, 'harper': 3559, 'spiffi': 7478, 'lilitz': 4492, 'yak': 9168, 'whaa': 8927, 'iwould': 4126, 'ehel': 2480, 'perhpa': 5805, 'frnt': 3154, 'nestl': 5247, 'keer': 4236, 'aster': 446, 'satisfact': 6818, 'hesitantli': 3644, 'owl': 5623, 'smush': 7325, 'weekday': 8895, 'cabo': 1115, 'fieri': 2885, 'convent': 1709, 'shapelessli': 7002, 'retailerplogi': 6570, 'crispi': 1853, 'sizeabl': 7193, 'dire': 2195, 'mental': 4875, 'beefi': 672, 'routin': 6703, 'marala': 4745, 'embarassingli': 2528, 'glimmeri': 3326, 'paradis': 5685, 'valuabl': 8676, 'wotb': 9101, 'magnifi': 4695, 'oval': 5573, 'receptionist': 6383, 'normali': 5333, 'glisten': 3329, 'ahh': 153, 'strestch': 7671, 'shapel': 7000, 'sid': 7123, 'gripper': 3453, 'blister': 810, 'perc': 5786, 'gateway': 3243, 'cappier': 1174, 'eberjey': 2450, 'hwr': 3832, 'sprinkl': 7514, 'fig': 2889, 'mosaic': 5076, 'marti': 4766, 'inni': 3989, 'outgo': 5560, 'chokey': 1379, 'knicker': 4279, 'teeshirt': 8008, 'frank': 3122, 'fullish': 3182, 'propens': 6182, 'ted': 8000, 'ehr': 2483, 'pul': 6218, 'irritatingli': 4094, 'weer': 8898, 'wiast': 8979, 'whew': 8946, 'redund': 6421, 'pizzaz': 5911, 'retailerpo': 6572, 'bane': 584, 'burden': 1070, 'swollen': 7903, 'georgia': 3282, 'assembl': 433, 'rainbow': 6310, 'sooth': 7407, 'retreat': 6582, 'creater': 1828, 'mitif': 5003, 'demarc': 2073, 'rooftop': 6679, 'sallow': 6787, 'mound': 5093, 'thorwback': 8113, 'xxxx': 9164, 'centuri': 1269, 'tut': 8385, 'hamstr': 3522, 'accuraci': 65, 'hifh': 3654, 'mashup': 4775, 'conditioni': 1647, 'perch': 5792, 'felin': 2855, 'goi': 3354, 'forgettin': 3080, 'peasi': 5753, 'tmi': 8198, 'afterthought': 130, 'regu': 6454, 'overtim': 5612, 'safari': 6762, 'galleria': 3219, 'vair': 8671, 'additio': 90, 'pig': 5871, 'pictu': 5864, 'colter': 1553, 'objection': 5396, 'bohemain': 863, 'meek': 4854, 'potbelli': 6048, 'skosh': 7224, 'tonal': 8222, 'peiopl': 5766, 'forgivin': 3083, 'tushi': 8384, 'skini': 7213, 'skimp': 7210, 'definet': 2046, 'harbing': 3548, 'jessica': 4164, 'rabbit': 6288, 'valentino': 8673, 'apliqu': 338, 'mansion': 4738, 'rhode': 6611, 'monet': 5043, 'aaaah': 4, 'draft': 2330, 'kindli': 4259, 'foami': 3045, 'untextur': 8605, 'sleeker': 7237, 'waterfal': 8860, 'tiini': 8169, 'craziest': 1821, 'htat': 3779, 'interv': 4046, 'poc': 5971, 'pouffi': 6053, 'renam': 6503, 'gazillion': 3256, 'rash': 6329, 'were': 8918, 'steadli': 7578, 'tooth': 8227, 'comber': 1561, 'standalon': 7549, 'sligh': 7255, 'itll': 4115, 'goood': 3377, 'latetli': 4360, 'pieti': 5870, 'concensu': 1634, 'ingnor': 3977, 'itso': 4120, 'scandi': 6843, 'fleeci': 2975, 'homerun': 3713, 'breakthabl': 965, 'sought': 7420, 'longlin': 4570, 'creppi': 1839, 'sabrina': 6746, 'ftt': 3172, 'tread': 8298, 'wiht': 8994, 'clarif': 1434, 'corpor': 1745, 'teeter': 8009, 'begrudgingli': 679, 'youthful': 9207, 'overstitch': 5608, 'ribb': 6615, 'dickey': 2155, 'earl': 2428, 'offen': 5433, 'romier': 6674, 'sizz': 7197, 'hev': 3646, 'essentiel': 2635, 'antwerp': 317, 'glassi': 3322, 'wok': 9054, 'suddent': 7760, 'boosh': 889, 'aim': 162, 'exorbit': 2710, 'dol': 2287, 'spor': 7501, 'plant': 5930, 'navig': 5187, 'loui': 4609, 'vuitton': 8790, 'homebas': 3710, 'scate': 6848, 'riff': 6630, 'madelin': 4683, 'splendor': 7488, 'wreak': 9116, 'bottomless': 915, 'furthermor': 3200, 'passersbi': 5712, 'warren': 8843, 'ang': 271, 'ty': 8409, 'recogniz': 6393, 'bcasu': 628, 'anothr': 295, 'cahrm': 1124, 'proabli': 6145, 'hydrogen': 3834, 'peroxid': 5813, 'unsolv': 8596, 'elect': 2501, 'furrow': 3198, 'slovak': 7286, 'oddest': 5424, 'discus': 2225, 'singli': 7175, 'leblon': 4408, 'loooooov': 4584, 'atyp': 481, 'decolltag': 2023, 'irk': 4086, 'lizard': 4537, 'frye': 3168, 'connector': 1663, 'annoyingli': 289, 'undefin': 8476, 'disappointedli': 2208, 'pacquerett': 5636, 'anwen': 318, 'butit': 1089, 'riiiiiiiiiip': 6637, 'chestier': 1346, 'suport': 7812, 'exmapl': 2709, 'bluishgreen': 840, 'hae': 3499, 'limn': 4500, 'organist': 5522, 'embroiderey': 2542, 'companion': 1596, 'slone': 7278, 'roug': 6696, 'pret': 6106, 'sweetest': 7876, 'avers': 506, 'blute': 845, 'ilov': 3873, 'lovin': 4627, 'rap': 6325, 'odrder': 5430, 'swaeter': 7850, 'royalti': 6706, 'dilig': 2178, 'pristin': 6141, 'concho': 1640, 'rasberri': 6328, 'alr': 215, 'familiar': 2790, 'gogo': 3353, 'whihc': 8951, 'havn': 3574, 'abruptli': 24, 'numero': 5374, 'uno': 8571, 'middleton': 4912, 'anita': 279, 'dongr': 2302, 'cation': 1242, 'cinchabl': 1408, 'orlando': 5529, 'horticultur': 3749, 'core': 1736, 'cuten': 1931, 'strangli': 7649, 'unexcit': 8522, 'inlet': 3987, 'secondhand': 6913, 'temptat': 8021, 'melang': 4859, 'nonconsequenti': 5314, 'motiff': 5084, 'mistakenli': 4999, 'honeybe': 3722, 'opac': 5483, 'mist': 4996, 'canter': 1167, 'rava': 6338, 'linkag': 4515, 'characterist': 1296, 'flabbergast': 2936, 'salespeopl': 6783, 'yest': 9185, 'ocher': 5417, 'detsil': 2138, 'recomnend': 6401, 'wamp': 8826, 'chlorin': 1371, 'salt': 6790, 'pradollano': 6067, 'blur': 843, 'updo': 8626, 'sortof': 7416, 'warrent': 8844, 'nuetral': 5369, 'scour': 6865, 'arr': 405, 'crusti': 1883, 'jackson': 4133, 'thera': 8074, 'bronzey': 1007, 'duplic': 2407, 'unfasten': 8526, 'cau': 1243, 'afteral': 128, 'suffoc': 7764, 'swingy': 7892, 'groin': 3456, 'quir': 6283, 'seea': 6922, 'hermosa': 3640, 'zuma': 9234, 'padd': 5638, 'pathet': 5723, 'meduim': 4853, 'bate': 616, 'descid': 2106, 'instagr': 4007, 'silv': 7153, 'volumn': 8781, 'unstretch': 8598, 'kindest': 4258, 'homemad': 3712, 'lovel': 4621, 'chelan': 1337, 'temper': 8016, 'tkhe': 8194, 'cmpliment': 1503, 'volu': 8778, 'grippi': 3454, 'bruis': 1022, 'rebought': 6370, 'testament': 8046, 'troubadour': 8331, 'pirc': 5904, 'nexl': 5269, 'ine': 3962, 'pcture': 5739, 'pantless': 5678, 'relent': 6478, 'jaggedli': 4138, 'haphazardli': 3541, 'travers': 8296, 'doo': 2305, 'spendi': 7471, 'menswar': 4873, 'maayyyyyb': 4676, 'poly': 5992, 'walnut': 8823, 'creek': 1833, 'storeroom': 7632, 'yolk': 9200, 'insuffici': 4021, 'twinkl': 8401, 'coplaint': 1730, 'contract': 1697, 'pantyhos': 5679, 'induc': 3958, 'crosswrap': 1872, 'peephol': 5761, 'chu': 1394, 'daker': 1953, 'popul': 6024, 'camoflaug': 1149, 'blare': 792, 'platinum': 5937}\n"
     ]
    },
    {
     "name": "stdout",
     "output_type": "stream",
     "text": [
      "(22641, 9236)\n",
      "<class 'scipy.sparse.csr.csr_matrix'>\n",
      "[[0 0 0 ... 0 0 0]\n",
      " [0 0 0 ... 0 0 0]\n",
      " [0 0 0 ... 0 0 0]\n",
      " ...\n",
      " [0 0 0 ... 0 0 0]\n",
      " [0 0 0 ... 0 0 0]\n",
      " [0 0 0 ... 0 0 0]]\n"
     ]
    }
   ],
   "source": [
    "from sklearn.feature_extraction.text import CountVectorizer\n",
    "\n",
    "# create the transform\n",
    "vectorizer = CountVectorizer()\n",
    "# tokenize and build vocab\n",
    "vectorizer.fit(dataset['Review Text'])\n",
    "# summarize\n",
    "print(vectorizer.vocabulary_)\n",
    "# encode document\n",
    "vector = vectorizer.transform(dataset['Review Text'])\n",
    "# summarize encoded vector\n",
    "print(vector.shape)\n",
    "print(type(vector))\n",
    "print(vector.toarray())"
   ]
  },
  {
   "cell_type": "code",
   "execution_count": 26,
   "metadata": {},
   "outputs": [],
   "source": [
    "\n",
    "\n",
    "from sklearn.feature_extraction.text import TfidfVectorizer\n",
    "v = TfidfVectorizer(max_features=4000, min_df=2, max_df=0.9)\n",
    "x = v.fit_transform(dataset['Review Text'])"
   ]
  },
  {
   "cell_type": "code",
   "execution_count": 27,
   "metadata": {},
   "outputs": [
    {
     "data": {
      "text/plain": [
       "<22641x4000 sparse matrix of type '<class 'numpy.float64'>'\n",
       "\twith 562753 stored elements in Compressed Sparse Row format>"
      ]
     },
     "execution_count": 27,
     "metadata": {},
     "output_type": "execute_result"
    }
   ],
   "source": [
    "x"
   ]
  },
  {
   "cell_type": "code",
   "execution_count": 28,
   "metadata": {},
   "outputs": [
    {
     "data": {
      "text/plain": [
       "array([[0.        , 0.        , 0.        , ..., 0.        , 0.        ,\n",
       "        0.        ],\n",
       "       [0.        , 0.        , 0.        , ..., 0.        , 0.        ,\n",
       "        0.        ],\n",
       "       [0.        , 0.        , 0.        , ..., 0.13180433, 0.        ,\n",
       "        0.        ],\n",
       "       ...,\n",
       "       [0.        , 0.        , 0.        , ..., 0.        , 0.        ,\n",
       "        0.        ],\n",
       "       [0.        , 0.        , 0.        , ..., 0.        , 0.        ,\n",
       "        0.        ],\n",
       "       [0.        , 0.        , 0.        , ..., 0.        , 0.        ,\n",
       "        0.        ]])"
      ]
     },
     "execution_count": 28,
     "metadata": {},
     "output_type": "execute_result"
    }
   ],
   "source": [
    "vectorized = x.toarray()\n",
    "vectorized"
   ]
  },
  {
   "cell_type": "code",
   "execution_count": 29,
   "metadata": {},
   "outputs": [
    {
     "name": "stdout",
     "output_type": "stream",
     "text": [
      "{'absolut': 6, 'wonder': 3922, 'silki': 3057, 'sexi': 2979, 'comfort': 687, 'love': 1986, 'dress': 1038, 'sooo': 3177, 'pretti': 2591, 'happen': 1548, 'find': 1272, 'store': 3292, 'glad': 1457, 'bc': 254, 'never': 2242, 'would': 3945, 'order': 2337, 'onlin': 2318, 'petit': 2462, 'bought': 387, 'length': 1912, 'hit': 1614, 'littl': 1954, 'knee': 1842, 'definit': 906, 'true': 3625, 'midi': 2100, 'someon': 3168, 'truli': 3627, 'high': 1602, 'hope': 1635, 'realli': 2712, 'want': 3820, 'work': 3929, 'initi': 1727, 'small': 3119, 'usual': 3756, 'size': 3078, 'found': 1367, 'outrag': 2353, 'fact': 1214, 'could': 770, 'zip': 3996, 'reorder': 2773, 'medium': 2074, 'ok': 2308, 'overal': 2360, 'top': 3572, 'half': 1534, 'fit': 1286, 'nice': 2247, 'bottom': 384, 'tight': 3539, 'layer': 1887, 'sever': 2975, 'somewhat': 3171, 'cheap': 572, 'net': 2240, 'imo': 1692, 'major': 2021, 'design': 929, 'flaw': 1304, 'sewn': 2978, 'directli': 965, 'zipper': 3997, 'jumpsuit': 1813, 'fun': 1401, 'flirti': 1315, 'fabul': 1212, 'everi': 1164, 'time': 3545, 'wear': 3845, 'get': 1443, 'noth': 2271, 'great': 1504, 'compliment': 705, 'shirt': 3016, 'flatter': 1302, 'due': 1053, 'adjust': 44, 'front': 1392, 'tie': 3535, 'perfect': 2451, 'leg': 1905, 'sleeveless': 3102, 'pair': 2386, 'well': 3866, 'cardigan': 518, 'traci': 3587, 'rees': 2735, 'one': 2317, 'foot': 1348, 'tall': 3437, 'brand': 405, 'packag': 2379, 'lot': 1981, 'skirt': 3090, 'long': 1965, 'full': 1398, 'overwhelm': 2375, 'frame': 1374, 'stranger': 3300, 'alter': 94, 'shorten': 3024, 'narrow': 2210, 'take': 3434, 'away': 204, 'embellish': 1109, 'garment': 1425, 'color': 672, 'idea': 1678, 'style': 3343, 'return': 2803, 'basket': 243, 'hte': 1653, 'last': 1873, 'see': 2950, 'look': 1972, 'like': 1934, 'person': 2458, 'pick': 2475, 'went': 3867, 'teh': 3468, 'pale': 2390, 'gorgeou': 1481, 'turn': 3642, 'tri': 3611, 'baggi': 222, 'bummer': 458, 'decid': 893, 'though': 3517, 'said': 2887, 'everyth': 1168, 'pant': 2395, 'kept': 1827, 'oop': 2322, 'carbon': 515, 'ton': 3567, 'stuff': 3334, 'alway': 98, 'use': 3754, 'charcoal': 565, 'shimmer': 3006, 'pencil': 2439, 'flare': 1296, 'etc': 1153, 'bit': 316, 'big': 303, 'sleev': 3101, 'go': 1469, 'also': 93, 'loo': 1971, 'xx': 3965, 'wil': 3896, 'later': 1876, 'sinc': 3069, 'light': 1928, 'alreadi': 91, 'sold': 3160, 'smallest': 3121, 'run': 2868, 'snug': 3144, 'bust': 471, 'feminin': 1261, 'retail': 2796, 'flair': 1293, 'lb': 1889, 'make': 2023, 'sure': 3389, 'typic': 3658, 'regular': 2751, 'le': 1891, 'busti': 472, 'cup': 835, 'smaller': 3120, 'perfectli': 2452, 'parti': 2406, 'tull': 3638, 'longer': 1966, 'fabric': 1211, 'underneath': 3687, 'esp': 1148, 'area': 154, 'sp': 3193, 'materi': 2055, 'feel': 1256, 'even': 1159, 'pull': 2642, 'caus': 541, 'rip': 2824, 'disappoint': 969, 'christma': 607, 'year': 3974, 'needle': 2231, 'say': 2912, 'back': 212, 'review': 2807, 'written': 3957, 'shopper': 3022, 'past': 2413, 'right': 2820, 'product': 2614, 'case': 529, 'doubt': 1012, 'beauti': 262, 'made': 2007, 'line': 1941, 'reminisc': 2769, 'old': 2310, 'qualiti': 2662, 'solid': 3162, 'periwinkl': 2456, 'match': 2053, 'outer': 2348, 'print': 2605, 'tt': 3633, 'form': 1360, 'fall': 1224, 'rid': 2816, 'black': 320, 'bother': 382, 'portion': 2554, 'stat': 3256, 'smoothli': 3132, 'around': 159, 'chest': 586, 'flowi': 1330, 'lower': 1989, 'strap': 3302, 'easili': 1074, 'came': 497, 'choic': 600, 'holiday': 1621, 'gather': 1428, 'graze': 1501, 'conserv': 727, 'enough': 1131, 'offic': 2303, 'relat': 2756, 'opinion': 2326, 'larger': 1869, 'perhap': 2454, 'waist': 3812, 'problem': 2610, 'terribl': 3483, 'delic': 909, 'type': 3657, 'got': 1484, 'stuck': 3328, 'took': 3570, 'badli': 220, 'tell': 3469, 'put': 2657, 'hour': 1646, 'glass': 1463, 'figur': 1269, 'straight': 3294, 'way': 3841, 'bodi': 353, 'shape': 2987, 'still': 3280, 'roomi': 2844, 'hip': 1611, 'sturdi': 3341, 'linen': 1943, 'happi': 1549, 'open': 2324, 'larg': 1868, 'ankl': 111, 'hem': 1588, 'pleat': 2519, 'fluffi': 1334, 'think': 3507, 'imagin': 1687, 'least': 1898, 'averag': 199, 'height': 1583, 'taller': 3438, 'may': 2064, 'good': 1479, 'chanc': 561, 'blous': 340, 'crazi': 798, 'photograph': 2469, 'model': 2148, 'white': 3883, 'crisp': 814, 'clean': 625, 'describ': 925, 'launder': 1881, 'drape': 1027, 'tuck': 3635, 'wrong': 3958, 'super': 3381, 'cozi': 791, 'coat': 657, 'cold': 665, 'dri': 1043, 'day': 874, 'jean': 1796, 'dressier': 1040, 'outfit': 2350, 'someth': 3169, 'differ': 950, 'new': 2244, 'eve': 1158, 'steam': 3264, 'xsp': 3963, 'tailor': 3433, 'simpl': 3063, 'fix': 1288, 'pregnant': 2582, 'bough': 386, 'grow': 1521, 'provid': 2634, 'flexibl': 1310, 'upset': 3748, 'price': 2597, 'thought': 3518, 'embroid': 1113, 'cri': 809, 'box': 391, 'ver': 3775, 'tad': 3430, 'tini': 3548, 'vibrant': 3790, 'uniqu': 3718, 'poofi': 2544, 'keep': 1823, 'forth': 1364, 'mainli': 2017, 'although': 96, 'except': 1180, 'wish': 3912, 'first': 1282, 'pullov': 2643, 'side': 3046, 'purchas': 2650, 'knew': 1844, 'next': 2246, 'imposs': 1699, 'second': 2945, 'slip': 3112, 'awkward': 207, 'sadli': 2881, 'exchang': 1182, 'cute': 849, 'dont': 1008, 'appear': 137, 'pictur': 2479, 'saw': 2911, 'need': 2229, 'wore': 3928, 'rock': 2833, 'wedg': 3853, 'vest': 3786, 'care': 519, 'button': 479, 'yet': 3979, 'occas': 2293, 'didnt': 947, 'im': 1685, 'atleast': 182, 'gap': 1421, 'much': 2186, 'wider': 3891, 'felt': 1258, 'fell': 1257, 'flat': 1299, 'med': 2073, 'better': 294, 'wait': 3815, 'sweater': 3403, 'ship': 3013, 'week': 3856, 'excit': 1183, 'arriv': 161, 'short': 3023, 'squat': 3234, 'wide': 3889, 'weight': 3860, 'move': 2178, 'three': 3521, 'inch': 1708, 'nicer': 2248, 'proport': 2629, 'tigh': 3538, 'expect': 1190, 'either': 1092, 'dark': 867, 'blue': 345, 'anyth': 128, 'thick': 3501, 'movement': 2180, 'end': 1122, 'mani': 2031, 'especi': 1150, 'hesit': 1594, 'buy': 482, 'sorri': 3183, 'comfi': 685, 'classic': 623, 'balanc': 226, 'quirki': 2671, 'hand': 1539, 'knit': 1845, 'practic': 2573, 'crop': 822, 'boxi': 392, 'part': 2405, 'other': 2344, 'mention': 2084, 'camisol': 501, 'show': 3031, 'warm': 3825, 'thin': 3505, 'jacket': 1789, 'trend': 3609, 'cuter': 850, 'given': 1456, 'stripe': 3320, 'brighter': 423, 'carri': 525, 'chubbi': 608, 'belli': 281, 'navi': 2216, 'blazer': 325, 'downsid': 1017, 'month': 2161, 'ago': 64, 'final': 1271, 'huge': 1661, 'issu': 1779, 'wool': 3926, 'el': 1093, 'quot': 2673, 'guess': 1524, 'call': 495, 'liter': 1952, 'itchi': 1783, 'china': 597, 'sale': 2889, 'worth': 3940, 'paid': 2382, 'neat': 2221, 'soft': 3155, 'ad': 37, 'bonu': 365, 'funki': 1404, 'tank': 3443, 'necklac': 2227, 'boot': 370, 'whim': 3879, 'span': 3197, 'season': 2940, 'mom': 2156, 'warmth': 3827, 'houston': 1649, 'winter': 3909, 'polish': 2534, 'snap': 3137, 'age': 63, 'appropri': 145, 'amaz': 99, 'skinni': 3086, 'gray': 1499, 'photo': 2468, 'accur': 28, 'stretch': 3312, 'casual': 532, 'grey': 1511, 'pilcro': 2484, 'stet': 3270, 'peplum': 2443, 'cut': 848, 'shoulder': 3029, 'necklin': 2228, 'worn': 3936, 'slack': 3094, 'heel': 1579, 'embroideri': 1114, 'reason': 2714, 'ordinari': 2338, 'across': 30, 'babi': 209, 'nurs': 2281, 'poncho': 2539, 'plaid': 2506, 'check': 576, 'sorbet': 3182, 'cream': 799, 'turtleneck': 3645, 'roll': 2839, 'spring': 3229, 'thermal': 3499, 'natur': 2213, 'sheer': 2999, 'prepar': 2584, 'consid': 728, 'might': 2107, 'walk': 3816, 'hous': 1648, 'over': 2359, 'pound': 2570, 'along': 88, 'mind': 2118, 'monitor': 2160, 'dot': 1010, 'today': 3559, 'local': 1959, 'bad': 219, 'ruch': 2860, 'altern': 95, 'plain': 2507, 'tee': 3462, 'gener': 1438, 'probabl': 2609, 'item': 1784, 'mine': 2119, 'seem': 2952, 'start': 3253, 'fade': 1217, 'recommend': 2725, 'pop': 2548, 'collar': 667, 'bib': 301, 'receiv': 2719, 'question': 2666, 'rather': 2694, 'ador': 49, 'transit': 3594, 'summer': 3369, 'wash': 3830, 'best': 291, 'blond': 336, 'brunett': 440, 'favorit': 1247, 'snag': 3134, 'unusu': 3734, 'asymmetr': 178, 'seam': 2936, 'posit': 2558, 'detail': 935, 'attach': 184, 'includ': 1709, 'actual': 36, 'creat': 802, 'visual': 3803, 'interest': 1753, 'add': 39, 'help': 1587, 'hide': 1600, 'cowl': 787, 'neck': 2226, 'done': 1007, 'two': 3655, 'mean': 2069, 'wardrob': 3822, 'armhol': 156, 'older': 2311, 'woman': 3921, 'picki': 2476, 'slight': 3106, 'hang': 1545, 'lightweight': 1932, 'opaqu': 2323, 'bra': 398, 'bare': 237, 'visibl': 3800, 'warmer': 3826, 'climat': 636, 'wind': 3901, 'extrem': 1204, 'sleep': 3099, 'okay': 2309, 'zero': 3993, 'support': 3387, 'without': 3917, 'seen': 2954, 'pas': 2412, 'howev': 1651, 'lazi': 1888, 'redeem': 2731, 'ladi': 1860, 'ruffl': 2862, 'lay': 1886, 'retun': 2802, 'plenti': 2520, 'clearanc': 628, 'floor': 1318, 'beef': 272, 'elast': 1094, 'waistband': 3813, 'conceal': 711, 'belt': 283, 'sit': 3073, 'bustlin': 474, 'tricki': 3615, 'sort': 3184, 'th': 3490, 'bralett': 403, 'bind': 311, 'night': 2252, 'tag': 3431, 'remov': 2771, 'simpli': 3064, 'stun': 3338, 'happier': 1550, 'keyhol': 1829, 'thread': 3520, 'left': 1903, 'behind': 277, 'flimsi': 1313, 'give': 1455, 'loung': 1983, 'recent': 2720, 'forev': 1354, 'list': 1949, 'torso': 3576, 'pattern': 2421, 'floral': 1322, 'septemb': 2965, 'school': 2921, 'backpack': 215, 'pill': 2486, 'rub': 2859, 'continu': 741, 'mail': 2014, 'smitten': 3128, 'sometim': 3170, 'xl': 3960, 'stretchi': 3313, 'lace': 1854, 'similar': 3061, 'almost': 86, 'gotten': 1485, 'extra': 1202, 'eye': 1206, 'post': 2560, 'wonki': 3923, 'miracul': 2130, 'patter': 2420, 'higher': 1603, 'must': 2199, 'unbutton': 3676, 'difficult': 951, 'unfortun': 3714, 'ala': 77, 'strang': 3299, 'stay': 3262, 'weird': 3863, 'breast': 409, 'stand': 3245, 'minut': 2128, 'sat': 2902, 'pocket': 2528, 'massiv': 2051, 'babydol': 210, 'appar': 134, 'measur': 2071, 'sweep': 3407, 'hung': 1667, 'straighter': 3296, 'craftsmanship': 795, 'ask': 169, 'ruin': 2864, 'swing': 3414, 'anyon': 127, 'endow': 1124, 'footbal': 1349, 'player': 2513, 'bigger': 304, 'cami': 500, 'ride': 2817, 'uncomfort': 3678, 'goe': 1473, 'easier': 1073, 'lack': 1858, 'unlik': 3721, 'anoth': 114, 'busi': 470, 'meet': 2075, 'wi': 3888, 'critic': 818, 'catch': 536, 'sharp': 2991, 'jewelri': 1800, 'travel': 3602, 'cape': 510, 'surpris': 3391, 'hanger': 1546, 'fan': 1229, 'cardi': 517, 'believ': 279, 'drawn': 1032, 'doll': 1002, 'immedi': 1689, 'swallow': 3397, 'whole': 3886, 'let': 1917, 'chart': 569, 'read': 2704, 'comment': 690, 'descript': 926, 'specif': 3207, 'weigh': 3859, 'chose': 605, 'broke': 431, 'piec': 2481, 'replac': 2778, 'stronger': 3323, 'annoy': 113, 'come': 683, 'luxuri': 2001, 'ob': 2287, 'everyday': 1166, 'drapey': 1029, 'arm': 155, 'overpr': 2373, 'normal': 2265, 'fine': 1273, 'total': 3578, 'sen': 2960, 'essenti': 1152, 'fanci': 1230, 'tshirt': 3632, 'bring': 425, 'alon': 87, 'origin': 2340, 'plan': 2508, 'hair': 1533, 'eleg': 1098, 'contemporari': 739, 'stylish': 3344, 'salesperson': 2891, 'rave': 2697, 'told': 3563, 'grab': 1488, 'rest': 2790, 'orang': 2334, 'reciev': 2721, 'cedar': 547, 'brown': 437, 'ive': 1787, 'bulki': 454, 'heavi': 1573, 'heavili': 1575, 'option': 2333, 'antro': 123, 'greenish': 1509, 'peek': 2433, 'touch': 3579, 'dislik': 982, 'concern': 713, 'hole': 1619, 'remind': 2768, 'develop': 942, 'water': 3837, 'prevent': 2594, 'slit': 3113, 'dim': 955, 'pronounc': 2625, 'looser': 1976, 'pin': 2487, 'weav': 3849, 'holli': 1622, 'deep': 897, 'oliv': 2312, 'section': 2948, 'surprisingli': 3392, 'room': 2843, 'eat': 1077, 'te': 3455, 'neutral': 2241, 'spot': 3226, 'debat': 886, 'tighten': 3540, 'pinch': 2488, 'eptit': 1141, 'dd': 878, 'burnt': 468, 'velvet': 3772, 'tunic': 3641, 'instead': 1743, 'quit': 2672, 'curvi': 845, 'itali': 1780, 'book': 368, 'ticket': 3533, 'prettier': 2592, 'real': 2708, 'life': 1924, 'textur': 3489, 'modern': 2150, 'otherwis': 2345, 'caught': 540, 'possibl': 2559, 'far': 1233, 'prefer': 2580, 'versatil': 3781, 'fenc': 1262, 'asid': 168, 'serious': 2970, 'plea': 2515, 'enhanc': 1127, 'variou': 3769, 'state': 3257, 'moss': 2166, 'taup': 3452, 'green': 1508, 'tone': 3568, 'fantast': 1232, 'tent': 3478, 'daughter': 873, 'tablecloth': 3427, 'red': 2729, 'shapeless': 2988, 'easi': 1072, 'mostli': 2168, 'exactli': 1174, 'home': 1624, 'slightli': 3108, 'near': 2219, 'upper': 3745, 'loosen': 1975, 'throughout': 3524, 'pajama': 2388, 'wavi': 3840, 'lean': 1894, 'forward': 1366, 'world': 3935, 'place': 2503, 'despit': 932, 'scoop': 2923, 'construct': 734, 'refer': 2737, 'unflatt': 3710, 'silk': 3056, 'sky': 3092, 'teal': 3459, 'darker': 868, 'sassi': 2901, 'appeal': 136, 'snake': 3136, 'attitud': 189, 'gave': 1434, 'star': 3249, 'ivori': 1788, 'tend': 3475, 'contrast': 745, 'insid': 1735, 'cuff': 833, 'sooooo': 3179, 'numer': 2280, 'slightest': 3107, 'hot': 1642, 'humid': 1663, 'sticki': 3276, 'weather': 3848, 'poor': 2546, 'shell': 3002, 'faster': 1239, 'partial': 2407, 'plu': 2522, 'vent': 3774, 'save': 2910, 'ca': 486, 'disagre': 967, 'hh': 1596, 'broad': 427, 'stain': 3243, 'droopi': 1048, 'stiff': 3277, 'dear': 884, 'send': 2961, 'pre': 2576, 'cloth': 647, 'articl': 163, 'prior': 2606, 'nail': 2206, 'summari': 3368, 'funni': 1405, 'strapless': 3303, 'subtl': 3352, 'unexpect': 3706, 'dimens': 957, 'stress': 3311, 'current': 841, 'enjoy': 1128, 'accent': 13, 'closet': 645, 'round': 2855, 'wrinkl': 3953, 'bbq': 253, 'thing': 3506, 'note': 2270, 'previou': 2595, 'bargain': 238, 'accentu': 14, 'con': 710, 'certainli': 553, 'shorter': 3025, 'curvier': 846, 'girl': 1452, 'inaccur': 1704, 'exagger': 1175, 'clear': 627, 'misrepres': 2135, 'key': 1828, 'element': 1100, 'unless': 3720, 'kinda': 1839, 'odd': 2299, 'umph': 3668, 'soul': 3187, 'machin': 2004, 'cycl': 855, 'dryer': 1052, 'iron': 1772, 'shrink': 3038, 'ye': 3972, 'charm': 568, 'cover': 780, 'wow': 3949, 'fat': 1240, 'non': 2260, 'basic': 242, 'squar': 3232, 'appl': 138, 'tummi': 3640, 'pooch': 2541, 'poorli': 2547, 'liner': 1944, 'neg': 2232, 'point': 2529, 'boo': 366, 'pj': 2501, 'jammi': 1793, 'hard': 1552, 'close': 642, 'creation': 803, 'cotton': 767, 'execut': 1186, 'locat': 1960, 'collect': 669, 'mistak': 2138, 'forest': 1353, 'sued': 3360, 'finish': 1278, 'shrunk': 3041, 'mayb': 2065, 'thicker': 3502, 'decent': 891, 'silhouett': 3054, 'degre': 907, 'denim': 916, 'hug': 1660, 'revers': 2806, 'pink': 2490, 'scratchi': 2926, 'discount': 973, 'luck': 1991, 'ii': 1682, 'sensit': 2962, 'stylist': 3345, 'kind': 1838, 'built': 451, 'fabri': 1210, 'abl': 4, 'brought': 435, 'fo': 1339, 'adn': 48, 'winner': 3908, 'texa': 3487, 'cheer': 580, 'compar': 693, 'gal': 1415, 'impecc': 1694, 'mirror': 2131, 'artsi': 165, 'whimsic': 3881, 'cours': 778, 'pic': 2474, 'justic': 1816, 'intric': 1761, 'rich': 2813, 'tacki': 3429, 'shown': 3035, 'metal': 2092, 'stitch': 3284, 'prompt': 2622, 'modest': 2151, 'chang': 563, 'circl': 613, 'window': 3903, 'know': 1848, 'low': 1988, 'agre': 65, 'skin': 3085, 'brighten': 422, 'multipl': 2192, 'impact': 1693, 'limit': 1939, 'suit': 3363, 'australian': 194, 'fir': 1279, 'label': 1853, 'clearli': 629, 'gut': 1527, 'dinner': 962, 'base': 239, 'ran': 2685, 'six': 3076, 'cleavag': 630, 'clown': 649, 'costum': 766, 'instal': 1739, 'buckl': 446, 'fold': 1342, 'fake': 1223, 'leather': 1899, 'titl': 3556, 'worst': 3939, 'combin': 681, 'frankli': 1377, 'benefit': 286, 'solv': 3165, 'bo': 348, 'fiber': 1265, 'realiz': 2711, 'wld': 3919, 'obviou': 2291, 'swtr': 3420, 'anyway': 130, 'faux': 1243, 'fur': 1406, 'shrug': 3040, 'plum': 2523, 'tighter': 3541, 'apart': 132, 'weak': 3844, 'notic': 2272, 'readi': 2706, 'ugli': 3661, 'north': 2266, 'face': 1213, 'bright': 421, 'mild': 2109, 'maev': 2009, 'pleasantli': 2517, 'upon': 3744, 'coverag': 781, 'underarm': 3683, 'band': 233, 'romper': 2842, 'colour': 677, 'sweat': 3402, 'weekend': 3857, 'friend': 1386, 'angl': 109, 'breezi': 415, 'ballet': 229, 'thru': 3528, 'approx': 146, 'thank': 3492, 'pear': 2430, 'thinner': 3508, 'sweatshirt': 3406, 'ref': 2736, 'taper': 3446, 'sack': 2876, 'vivid': 3804, 'autumn': 197, 'mess': 2089, 'waistlin': 3814, 'curv': 843, 'poli': 2533, 'modesti': 2152, 'closur': 646, 'unravel': 3726, 'middl': 2099, 'mask': 2049, 'peachi': 2427, 'deeper': 898, 'portray': 2556, 'depend': 919, 'structur': 3326, 'ti': 3531, 'lost': 1980, 'flower': 1328, 'snugli': 3148, 'pay': 2422, 'conform': 721, 'cooler': 753, 'live': 1955, 'learn': 1897, 'lesson': 1916, 'risk': 2827, 'xxsp': 3968, 'slimmer': 3110, 'hourglass': 1647, 'heavier': 1574, 'worri': 3937, 'gone': 1478, 'rumpl': 2867, 'shame': 2986, 'qu': 2661, 'caftan': 488, 'bohemian': 358, 'chiffon': 591, 'raw': 2698, 'edg': 1082, 'trim': 3617, 'fresh': 1384, 'sz': 3423, 'unbear': 3673, 'washabl': 3831, 'complaint': 698, 'significantli': 3053, 'minim': 2121, 'torn': 3575, 'whether': 3877, 'ultim': 3664, 'effect': 1086, 'special': 3206, 'anticip': 120, 'dumpi': 1056, 'overpow': 2372, 'peopl': 2442, 'obvious': 2292, 'statement': 3258, 'greatest': 1505, 'suppos': 3388, 'third': 3511, 'split': 3219, 'swim': 3410, 'ish': 1776, 'transluc': 3596, 'formfit': 1363, 'cost': 765, 'quickli': 2669, 'femal': 1259, 'burlap': 465, 'allow': 85, 'ultra': 3665, 'scarf': 2917, 'tug': 3636, 'downward': 1020, 'fear': 1250, 'teacher': 3458, 'wearer': 3847, 'elegantli': 1099, 'throw': 3525, 'amount': 104, 'becam': 265, 'word': 3927, 'warn': 3828, 'peach': 2426, 'heed': 1578, 'correctli': 763, 'dye': 1063, 'shade': 2983, 'dressi': 1039, 'coupl': 776, 'yellow': 3975, 'equal': 1142, 'ranna': 2689, 'richli': 2815, 'hook': 1633, 'bodic': 354, 'dread': 1035, 'fulli': 1400, 'synthet': 3422, 'butt': 475, 'stick': 3274, 'chilli': 595, 'prob': 2608, 'blend': 329, 'smoki': 3130, 'odor': 2301, 'smell': 3125, 'disappear': 968, 'goddess': 1472, 'fragil': 1373, 'handl': 1542, 'famili': 1228, 'friendli': 1387, 'keeper': 1824, 'slim': 3109, 'profil': 2617, 'forgiv': 1357, 'pile': 2485, 'voila': 3805, 'sandal': 2897, 'flash': 1297, 'extraordinari': 1203, 'inseam': 1732, 'advertis': 52, 'event': 1161, 'paig': 2383, 'job': 1801, 'airi': 71, 'overli': 2369, 'thigh': 3504, 'athlet': 180, 'complexion': 703, 'self': 2957, 'addit': 41, 'display': 984, 'lighter': 1930, 'hyphen': 1674, 'chino': 598, 'vertic': 3785, 'elong': 1104, 'muffin': 2188, 'flow': 1327, 'rise': 2826, 'mother': 2170, 'edgi': 1083, 'fray': 1378, 'distress': 992, 'particular': 2408, 'muscular': 2196, 'calv': 496, 'anxiou': 124, 'blush': 347, 'mauv': 2061, 'capri': 511, 'bead': 258, 'biggest': 305, 'attribut': 191, 'dollar': 1003, 'moment': 2157, 'postpartum': 2563, 'lightli': 1931, 'bum': 457, 'twice': 3650, 'follow': 1344, 'instruct': 1745, 'gentl': 1440, 'tumbl': 3639, 'everywher': 1170, 'rib': 2810, 'hold': 1617, 'ahead': 68, 'pinstrip': 2493, 'drown': 1051, 'combo': 682, 'gold': 1474, 'sequin': 2967, 'scroll': 2930, 'substanti': 3350, 'pipe': 2495, 'xsmall': 3962, 'besid': 290, 'drop': 1049, 'fault': 1242, 'number': 2279, 'process': 2612, 'million': 2117, 'buck': 445, 'necessari': 2224, 'varieti': 3768, 'shoe': 3019, 'highli': 1605, 'troubl': 3622, 'breath': 411, 'weighti': 3861, 'bunch': 462, 'admit': 46, 'stock': 3285, 'realist': 2709, 'assum': 175, 'younger': 3986, 'gambl': 1419, 'rehears': 2753, 'incred': 1715, 'taken': 3435, 'vacat': 3760, 'mexico': 2094, 'head': 1562, 'regret': 2748, 'amp': 105, 'jersey': 1798, 'threw': 3522, 'tack': 3428, 'knock': 1846, 'per': 2445, 'version': 3782, 'minu': 2127, 'si': 3044, 'bulg': 452, 'rins': 2823, 'tire': 3553, 'soooooo': 3180, 'polka': 2535, 'softer': 3157, 'lint': 1947, 'pearl': 2431, 'curl': 840, 'leav': 1900, 'stone': 3288, 'hors': 1640, 'california': 494, 'east': 1075, 'flannel': 1294, 'maxi': 2063, 'juli': 1810, 'wed': 3852, 'ever': 1163, 'sloppi': 3114, 'miss': 2136, 'curiou': 839, 'matter': 2059, 'frustrat': 1395, 'lose': 1977, 'thrill': 3523, 'unfold': 3712, 'secondli': 2946, 'floppi': 1320, 'none': 2261, 'brilliant': 424, 'stapl': 3248, 'tradit': 3590, 'soften': 3156, 'bend': 284, 'trip': 3619, 'culott': 834, 'listen': 1950, 'heck': 1577, 'consider': 729, 'search': 2939, 'late': 1875, 'yesterday': 3978, 'stop': 3290, 'street': 3310, 'nyc': 2283, 'bell': 280, 'quick': 2668, 'resist': 2788, 'sell': 2958, 'plung': 2524, 'challeng': 557, 'exclus': 1184, 'tough': 3580, 'tendenc': 3476, 'lg': 1921, 'condit': 715, 'soon': 3175, 'crochet': 820, 'groom': 1517, 'puffi': 2641, 'vintag': 3796, 'fairli': 1222, 'nude': 2278, 'standout': 3247, 'skort': 3091, 'popular': 2553, 'cake': 490, 'exceed': 1178, 'outsid': 2354, 'awesom': 205, 'repeat': 2776, 'aspect': 170, 'sweet': 3408, 'slender': 3103, 'ampl': 106, 'mislead': 2133, 'wast': 3835, 'pack': 2378, 'string': 3318, 'anywher': 131, 'closer': 643, 'elbow': 1096, 'therefor': 3498, 'motif': 2171, 'indigo': 1720, 'nd': 2217, 'cool': 752, 'potenti': 2566, 'dart': 871, 'defin': 905, 'wing': 3907, 'cutout': 853, 'enorm': 1130, 'chic': 589, 'ea': 1064, 'chillier': 596, 'down': 1014, 'fyi': 1413, 'unfinish': 3708, 'inform': 1726, 'sew': 2976, 'tightli': 3542, 'px': 2659, 'avail': 198, 'door': 1009, 'sm': 3118, 'attir': 188, 'eventu': 1162, 'width': 3893, 'group': 1520, 'fleec': 1307, 'plush': 2525, 'smooth': 3131, 'steal': 3263, 'maintain': 2018, 'awhil': 206, 'victorian': 3792, 'billowi': 310, 'ether': 1154, 'somehow': 3167, 'reveal': 2805, 'hottest': 1645, 'mere': 2085, 'boucl': 385, 'set': 2973, 'chair': 556, 'bulk': 453, 'woven': 3948, 'rose': 2847, 'glitter': 1465, 'paint': 2385, 'finger': 1275, 'lik': 1933, 'charli': 567, 'matern': 2056, 'record': 2727, 'flatten': 1301, 'four': 1368, 'polyest': 2537, 'rayon': 2699, 'oh': 2306, 'wrap': 3950, 'blanket': 324, 'wine': 3905, 'pricey': 2598, 'environ': 1138, 'oddli': 2300, 'squeez': 3235, 'nautic': 2214, 'vibe': 3789, 'antho': 118, 'overlook': 2370, 'unimpress': 3717, 'clingi': 639, 'regard': 2744, 'romant': 2841, 'girli': 1454, 'updat': 3741, 'select': 2956, 'build': 450, 'boil': 360, 'skeptic': 3079, 'duster': 1059, 'sight': 3049, 'fashion': 1236, 'importantli': 1698, 'cleverli': 633, 'peekaboo': 2434, 'excel': 1179, 'trendi': 3610, 'accessori': 18, 'wari': 3824, 'slinki': 3111, 'attract': 190, 'creativ': 804, 'cutesi': 851, 'factor': 1215, 'highest': 1604, 'nonetheless': 2262, 'boxier': 393, 'unsur': 3731, 'mid': 2098, 'longest': 1967, 'awkwardli': 208, 'ribbon': 2811, 'slub': 3117, 'shot': 3028, 'flap': 1295, 'isnt': 1778, 'underst': 3692, 'minor': 2125, 'met': 2091, 'consciou': 725, 'struck': 3325, 'decis': 894, 'robe': 2831, 'lux': 2000, 'cage': 489, 'max': 2062, 'wiggl': 3895, 'entir': 1136, 'bag': 221, 'tore': 3574, 'complet': 702, 'lover': 1987, 'sag': 2884, 'vaniti': 3765, 'depict': 920, 'esqu': 1151, 'hemlin': 1589, 'booti': 372, 'sleek': 3098, 'watch': 3836, 'enter': 1134, 'promis': 2619, 'derbi': 922, 'husband': 1672, 'twin': 3652, 'gauz': 1432, 'formal': 1361, 'puf': 2638, 'uneven': 3704, 'eagerli': 1066, 'await': 202, 'mcguir': 2066, 'proof': 2626, 'man': 2028, 'classi': 622, 'sash': 2900, 'snatch': 3138, 'outstand': 2355, 'smile': 3127, 'mint': 2126, 'byron': 485, 'lar': 1867, 'dream': 1036, 'rare': 2690, 'french': 1382, 'mod': 2145, 'featur': 1253, 'droop': 1047, 'offer': 2302, 'somewher': 3172, 'lapel': 1866, 'fasten': 1238, 'opt': 2330, 'play': 2512, 'mustard': 2200, 'act': 32, 'aa': 0, 'xspetit': 3964, 'tomato': 3565, 'melon': 2078, 'salmon': 2893, 'constrict': 733, 'yoga': 3982, 'test': 3486, 'class': 621, 'held': 1585, 'luckili': 1993, 'site': 3074, 'lo': 1956, 'angel': 108, 'begin': 276, 'hoodi': 1632, 'seater': 2943, 'colder': 666, 'runner': 2869, 'backsid': 216, 'game': 1420, 'flutter': 1337, 'inde': 1716, 'inexpens': 1723, 'contain': 737, 'sad': 2880, 'van': 3764, 'tinier': 3549, 'strike': 3317, 'distinct': 989, 'shift': 3005, 'nowher': 2276, 'zoom': 3999, 'imag': 1686, 'god': 1471, 'earth': 1070, 'bore': 376, 'bump': 459, 'lump': 1994, 'highlight': 1606, 'immodest': 1691, 'jogger': 1803, 'ridicul': 2818, 'bandeau': 234, 'stage': 3242, 'midriff': 2102, 'experi': 1192, 'harder': 1553, 'damag': 861, 'unforgiv': 3713, 'stomach': 3287, 'appreci': 142, 'associ': 174, 'drive': 1046, 'often': 2305, 'air': 70, 'accessor': 17, 'soo': 3174, 'wors': 3938, 'properli': 2628, 'relax': 2758, 'worthi': 3941, 'splash': 3218, 'emboss': 1111, 'pad': 2380, 'firm': 1281, 'youth': 3987, 'young': 3985, 'nip': 2257, 'marl': 2042, 'excus': 1185, 'impress': 1701, 'favor': 1246, 'attent': 187, 'flater': 1300, 'volum': 3806, 'boy': 394, 'ot': 2342, 'regrett': 2749, 'teach': 3457, 'deal': 883, 'name': 2207, 'town': 3583, 'boyfriend': 395, 'mix': 2140, 'approach': 144, 'dramat': 1026, 'draperi': 1028, 'boho': 359, 'inner': 1729, 'haha': 1532, 'signific': 3052, 'tab': 3425, 'trunk': 3628, 'kid': 1833, 'thirti': 3512, 'forgotten': 1359, 'peasant': 2432, 'flounci': 1326, 'togeth': 3562, 'empir': 1118, 'aesthet': 55, 'bill': 308, 'drew': 1042, 'separ': 2964, 'rais': 2684, 'hidden': 1599, 'bow': 390, 'fuss': 1408, 'ge': 1435, 'intend': 1750, 'seriou': 2969, 'itch': 1782, 'toler': 3564, 'placement': 2504, 'custom': 847, 'wou': 3943, 'wayyy': 3842, 'wa': 3808, 'horizont': 1636, 'sent': 2963, 'preppi': 2585, 'hubbi': 1658, 'own': 2376, 'coral': 757, 'wise': 3911, 'midsect': 2103, 'onto': 2319, 'durabl': 1057, 'eyelet': 1207, 'peacock': 2428, 'tan': 3440, 'inappropri': 1706, 'tube': 3634, 'fe': 1249, 'push': 2656, 'opportun': 2327, 'earlier': 1069, 'meant': 2070, 'step': 3269, 'notch': 2269, 'slouchi': 3116, 'indoor': 1722, 'indic': 1719, 'accommod': 21, 'sister': 3072, 'bounci': 389, 'heart': 1566, 'mood': 2163, 'vari': 3766, 'matronli': 2057, 'gift': 1447, 'kudo': 1850, 'crave': 797, 'hd': 1561, 'pari': 2403, 'fail': 1218, 'admir': 45, 'iter': 1785, 'delight': 911, 'oatmeal': 2286, 'confus': 723, 'tho': 3513, 'struggl': 3327, 'choos': 602, 'refresh': 2740, 'doubl': 1011, 'avoid': 200, 'belong': 282, 'sock': 3152, 'neither': 2234, 'fab': 1209, 'shock': 3018, 'honestli': 1626, 'blousi': 342, 'cap': 509, 'plastic': 2510, 'fool': 1347, 'diamond': 946, 'honest': 1625, 'glove': 1467, 'confort': 722, 'correct': 762, 'ft': 1396, 'particularli': 2409, 'rocker': 2834, 'complementari': 701, 'adequ': 43, 'hint': 1610, 'exquisit': 1198, 'garner': 1426, 'wrinkli': 3954, 'corner': 760, 'mannequin': 2033, 'weirdli': 3864, 'messi': 2090, 'patch': 2415, 'rag': 2678, 'church': 611, 'function': 1402, 'giant': 1445, 'cuz': 854, 'darn': 870, 'placket': 2505, 'creami': 800, 'brownish': 438, 'burgundi': 464, 'butterfli': 477, 'goldenrod': 1476, 'turquois': 3643, 'li': 1922, 'cheaper': 574, 'earli': 1068, 'valentin': 3762, 'extend': 1199, 'tassel': 3449, 'sophist': 3181, 'timeless': 3546, 'ddd': 879, 'floati': 1317, 'cling': 638, 'intrigu': 1762, 'nearli': 2220, 'consist': 730, 'danc': 862, 'cartonni': 527, 'laugh': 1879, 'soooo': 3178, 'blk': 332, 'outdoor': 2347, 'toss': 3577, 'western': 3869, 'lucki': 1992, 'complement': 700, 'spend': 3211, 'standard': 3246, 'scare': 2916, 'yike': 3980, 'card': 516, 'gon': 1477, 'na': 2204, 'poppi': 2551, 'began': 275, 'collarbon': 668, 'disturb': 994, 'cargo': 521, 'workplac': 3934, 'hunt': 1668, 'bomber': 363, 'edit': 1085, 'surpass': 3390, 'trick': 3614, 'skim': 3083, 'sheen': 2998, 'smart': 3123, 'boost': 369, 'beach': 256, 'aqua': 152, 'view': 3794, 'bath': 247, 'shop': 3021, 'suitabl': 3364, 'pool': 2545, 'undon': 3702, 'lift': 1927, 'activ': 34, 'nightgown': 2253, 'categori': 539, 'exist': 1187, 'restock': 2792, 'five': 1287, 'bikini': 307, 'splurg': 3222, 'roomier': 2845, 'uncertain': 3677, 'calf': 492, 'nope': 2263, 'sigh': 3048, 'quest': 2665, 'racerback': 2676, 'reserv': 2787, 'free': 1379, 'effortless': 1088, 'concert': 714, 'braid': 400, 'braless': 402, 'workmanship': 3932, 'amazingli': 100, 'improv': 1702, 'futur': 1410, 'daytim': 875, 'chambray': 558, 'everyon': 1167, 'regain': 2743, 'crotch': 825, 'batch': 246, 'twill': 3651, 'tencel': 3474, 'swimsuit': 3412, 'showi': 3034, 'ice': 1676, 'dive': 996, 'spectacular': 3210, 'starter': 3254, 'cheek': 578, 'cashmer': 531, 'recogn': 2723, 'intent': 1752, 'judg': 1809, 'bodycon': 355, 'anti': 119, 'cutest': 852, 'glamor': 1461, 'uniform': 3716, 'lie': 1923, 'success': 3355, 'colleg': 670, 'email': 1107, 'web': 3850, 'getaway': 1444, 'halter': 1538, 'flip': 1314, 'flop': 1319, 'tenni': 3477, 'sporti': 3225, 'boob': 367, 'pucker': 2637, 'compani': 692, 'underwear': 3697, 'cross': 823, 'bod': 352, 'press': 2588, 'btw': 442, 'trouser': 3623, 'slide': 3105, 'creas': 801, 'stumbl': 3336, 'drag': 1024, 'da': 856, 'shin': 3009, 'justifi': 1817, 'pit': 2497, 'becom': 268, 'write': 3956, 'panel': 2394, 'term': 3481, 'gentli': 1441, 'grip': 1513, 'catalog': 534, 'rememb': 2767, 'volumin': 3807, 'flight': 1312, 'conveni': 748, 'shawl': 2992, 'heartbroken': 1568, 'backyard': 218, 'halfway': 1535, 'kill': 1834, 'mark': 2040, 'gape': 1422, 'indec': 1717, 'exposur': 1196, 'bulkier': 455, 'seldom': 2955, 'compel': 695, 'hefti': 1581, 'semi': 2959, 'softest': 3158, 'cocoon': 660, 'apt': 151, 'fuller': 1399, 'armpit': 158, 'rough': 2852, 'fancier': 1231, 'valu': 3763, 'shorti': 3027, 'exact': 1173, 'death': 885, 'choke': 601, 'saturday': 2908, 'denimi': 917, 'tast': 3450, 'pan': 2392, 'expens': 1191, 'heavenli': 1572, 'florida': 1324, 'heat': 1569, 'sand': 2896, 'ten': 3473, 'promo': 2620, 'emphas': 1117, 'ting': 3547, 'superior': 3383, 'expo': 1195, 'alin': 82, 'satur': 2907, 'refin': 2738, 'abil': 3, 'st': 3238, 'frumpi': 1394, 'wet': 3870, 'dainti': 859, 'brick': 416, 'imperfect': 1695, 'phenomen': 2466, 'crinolin': 813, 'falter': 1226, 'wrist': 3955, 'minnesota': 2124, 'acryl': 31, 'nylon': 2285, 'beig': 278, 'overlay': 2368, 'coffe': 662, 'dolman': 1004, 'cant': 507, 'speak': 3204, 'wearabl': 3846, 'breathabl': 412, 'pro': 2607, 'cloud': 648, 'discov': 975, 'sooner': 3176, 'understand': 3693, 'xxl': 3966, 'websit': 3851, 'pregnanc': 2581, 'dirti': 966, 'advis': 54, 'transform': 3593, 'import': 1697, 'nap': 2208, 'jacquard': 1791, 'yarn': 3970, 'viscos': 3799, 'squish': 3236, 'envelop': 1137, 'humong': 1664, 'money': 2159, 'diagon': 944, 'rear': 2713, 'desir': 930, 'endless': 1123, 'theme': 3495, 'trust': 3629, 'inspir': 1737, 'mockneck': 2144, 'pose': 2557, 'portland': 2555, 'horrifi': 1639, 'attend': 186, 'suddenli': 3359, 'increas': 1714, 'orangey': 2335, 'pl': 2502, 'pm': 2526, 'undecid': 3682, 'den': 915, 'request': 2784, 'mute': 2201, 'riski': 2828, 'laid': 1862, 'suggest': 3362, 'slate': 3097, 'fav': 1244, 'lbd': 1890, 'cinch': 612, 'convinc': 751, 'coast': 656, 'child': 592, 'unnatur': 3723, 'stiffer': 3278, 'bathrob': 248, 'midweight': 2105, 'bewar': 296, 'eh': 1090, 'workout': 3933, 'rang': 2688, 'requir': 2785, 'page': 2381, 'sparkl': 3201, 'emerald': 1115, 'dime': 956, 'sheath': 2995, 'hate': 1558, 'shirtdress': 3017, 'awar': 203, 'guy': 1528, 'within': 3916, 'menswear': 2083, 'answer': 115, 'copper': 755, 'charact': 564, 'eleven': 1102, 'reliabl': 2761, 'profession': 2615, 'shrinkag': 3039, 'camo': 502, 'criss': 815, 'unbeliev': 3674, 'octob': 2298, 'cowboy': 786, 'chesti': 587, 'ha': 1530, 'albeit': 79, 'settl': 2974, 'groceri': 1515, 'yeah': 3973, 'silli': 3058, 'situat': 3075, 'accept': 15, 'deduct': 896, 'tulip': 3637, 'beyond': 297, 'purpl': 2652, 'bloom': 338, 'slouch': 3115, 'aw': 201, 'absurd': 9, 'disproportion': 986, 'ditto': 995, 'graphic': 1496, 'boat': 350, 'suspect': 3396, 'report': 2780, 'summeri': 3370, 'corduroy': 759, 'butteri': 478, 'swingi': 3415, 'oppos': 2328, 'san': 2894, 'seamstress': 2938, 'anim': 110, 'cord': 758, 'examin': 1176, 'treat': 3604, 'gauzi': 1433, 'spent': 3212, 'mill': 2116, 'verdict': 3776, 'wh': 3871, 'speckl': 3209, 'wispi': 3914, 'nubbi': 2277, 'spare': 3200, 'slash': 3096, 'friday': 1385, 'raspberri': 2692, 'dusti': 1060, 'temp': 3470, 'instant': 1741, 'poof': 2543, 'penni': 2441, 'sneaker': 3140, 'secur': 2949, 'southeast': 3191, 'rust': 2872, 'disguis': 978, 'maker': 2024, 'morn': 2165, 'tempt': 3472, 'whatev': 3872, 'anymor': 126, 'ag': 62, 'expand': 1189, 'impli': 1696, 'silver': 3059, 'sparkli': 3202, 'purcha': 2649, 'snuggli': 3147, 'afraid': 59, 'chunki': 610, 'kick': 1831, 'multi': 2190, 'occasion': 2294, 'richer': 2814, 'gladli': 1459, 'brainer': 401, 'verg': 3778, 'lend': 1910, 'thu': 3529, 'shini': 3011, 'moulinett': 2176, 'yay': 3971, 'concept': 712, 'opposit': 2329, 'complain': 697, 'car': 513, 'main': 2016, 'daili': 858, 'fuzzi': 1412, 'furri': 1407, 'temperatur': 3471, 'luv': 1999, 'butter': 476, 'bone': 364, 'hood': 1631, 'cart': 526, 'york': 3984, 'htey': 1655, 'lengthi': 1914, 'gripe': 1514, 'background': 213, 'robin': 2832, 'men': 2081, 'fluid': 1335, 'dog': 1000, 'tabl': 3426, 'wherev': 3876, 'delici': 910, 'omg': 2315, 'drawback': 1031, 'distract': 991, 'em': 1106, 'unlin': 3722, 'prone': 2624, 'sweatercoat': 3404, 'northern': 2268, 'cocktail': 659, 'festiv': 1263, 'berri': 289, 'magic': 2011, 'manag': 2029, 'broader': 429, 'dissapoint': 987, 'translat': 3595, 'baggier': 223, 'coal': 654, 'khaki': 1830, 'novemb': 2274, 'train': 3591, 'role': 2838, 'serv': 2971, 'sundri': 3375, 'tax': 3453, 'strip': 3319, 'bland': 323, 'deliv': 912, 'terrif': 3484, 'heard': 1565, 'grace': 1489, 'kelli': 1825, 'def': 900, 'fast': 1237, 'gorgeous': 1482, 'shout': 3030, 'distribut': 993, 'center': 550, 'tonight': 3569, 'terri': 3482, 'fleck': 1306, 'strangest': 3301, 'covet': 784, 'instagram': 1738, 'squishi': 3237, 'wallet': 3817, 'fallen': 1225, 'puppi': 2647, 'divin': 997, 'ftin': 1397, 'princess': 2604, 'id': 1677, 'mango': 2030, 'cheeri': 581, 'stash': 3255, 'phone': 2467, 'tomorrow': 3566, 'infin': 1724, 'son': 3173, 'birthday': 315, 'ah': 66, 'tru': 3624, 'south': 3190, 'farm': 1235, 'purplish': 2653, 'deter': 936, 'variat': 3767, 'cabl': 487, 'gaug': 1431, 'reluct': 2762, 'perspect': 2459, 'sewer': 2977, 'crook': 821, 'curvey': 844, 'dddd': 880, 'widen': 3890, 'leaner': 1895, 'manner': 2034, 'comf': 684, 'undershirt': 3688, 'bronz': 433, 'deserv': 928, 'lyocel': 2003, 'drawstr': 1033, 'dip': 963, 'pointel': 2530, 'invest': 1764, 'jump': 1811, 'asset': 172, 'usa': 3752, 'sourc': 3189, 'sundress': 3374, 'criterion': 817, 'pleasant': 2516, 'balloon': 230, 'pastel': 2414, 'paisley': 2387, 'comput': 709, 'screen': 2928, 'widest': 3892, 'interestingli': 1754, 'spite': 3217, 'cuf': 832, 'crinkl': 811, 'unwear': 3736, 'experienc': 1193, 'pouf': 2568, 'misshapen': 2137, 'employe': 1119, 'repres': 2781, 'deepli': 899, 'switch': 3419, 'glitteri': 1466, 'quilt': 2670, 'spandex': 3198, 'shrank': 3037, 'dind': 959, 'jsut': 1807, 'superb': 3382, 'chartreus': 570, 'distort': 990, 'retain': 2799, 'pont': 2540, 'yoke': 3983, 'echo': 1078, 'cobalt': 658, 'market': 2041, 'remain': 2764, 'armi': 157, 'mellow': 2077, 'virtual': 3798, 'crepe': 807, 'bleed': 328, 'soak': 3149, 'drip': 1045, 'undergar': 3684, 'hei': 1582, 'dowdi': 1013, 'underwhelm': 3698, 'sport': 3224, 'colorfast': 675, 'panti': 2396, 'space': 3194, 'spill': 3214, 'jumper': 1812, 'streamlin': 3309, 'wire': 3910, 'flowey': 1329, 'su': 3346, 'confid': 717, 'mara': 2037, 'hoffman': 1616, 'puff': 2639, 'control': 747, 'shi': 3004, 'advic': 53, 'peev': 2437, 'ground': 1519, 'doesnt': 999, 'fa': 1208, 'mile': 2112, 'bodysuit': 356, 'frequent': 1383, 'breaker': 408, 'die': 948, 'errand': 1146, 'park': 2404, 'break': 407, 'lavend': 1883, 'bird': 312, 'desper': 931, 'fairi': 1221, 'sunlight': 3378, 'fortun': 1365, 'clerk': 631, 'mailbox': 2015, 'outlin': 2352, 'glanc': 1462, 'sun': 3372, 'kimono': 1836, 'whenev': 3874, 'epitom': 1140, 'toosh': 3571, 'fl': 1289, 'brush': 441, 'caveat': 546, 'contrari': 744, 'transpar': 3597, 'photoshoot': 2470, 'scallop': 2915, 'overlaid': 2366, 'abstract': 8, 'irish': 1770, 'fair': 1220, 'bet': 292, 'citi': 617, 'strappi': 3304, 'heal': 1563, 'flashi': 1298, 'garden': 1423, 'shimmi': 3008, 'killer': 1835, 'hub': 1657, 'apron': 150, 'scarv': 2918, 'borderlin': 375, 'fluke': 1336, 'paper': 2397, 'tissu': 3554, 'rotat': 2850, 'pump': 2644, 'potato': 2565, 'easter': 1076, 'remot': 2770, 'spirit': 3216, 'welcom': 3865, 'european': 1156, 'glow': 1468, 'hippi': 1612, 'cent': 549, 'up': 3739, 'betti': 295, 'tangerin': 3441, 'brother': 434, 'sh': 2981, 'rack': 2677, 'instantli': 1742, 'unnotic': 3725, 'resembl': 2786, 'represent': 2782, 'truer': 3626, 'everytim': 1169, 'blood': 337, 'teenag': 3464, 'wherea': 3875, 'remedi': 2766, 'contribut': 746, 'partum': 2411, 'certain': 552, 'obscen': 2290, 'sherpa': 3003, 'there': 3497, 'that': 3494, 'singl': 3070, 'brunch': 439, 'whimsi': 3880, 'constantli': 732, 'accord': 25, 'tier': 3536, 'bridal': 417, 'dre': 1034, 'ideal': 1679, 'pe': 2424, 'canva': 508, 'moveabl': 2179, 'detract': 940, 'win': 3900, 'connect': 724, 'blob': 334, 'showstopp': 3036, 'midst': 2104, 'springi': 3230, 'envis': 1139, 'retro': 2801, 'mari': 2038, 'inconsist': 1710, 'reinforc': 2754, 'tail': 3432, 'pointi': 2531, 'wishlist': 3913, 'coordin': 754, 'stevi': 3271, 'chemic': 583, 'starch': 3250, 'elsewher': 1105, 'strand': 3298, 'yep': 3977, 'poplin': 2549, 'coz': 790, 'nippl': 2258, 'urg': 3751, 'meh': 2076, 'pom': 2538, 'row': 2857, 'deceiv': 889, 'statur': 3261, 'out': 2346, 'embarrass': 1108, 'jackpot': 1790, 'tear': 3460, 'freeli': 1380, 'shrunken': 3042, 'disintegr': 981, 'cancer': 506, 'survivor': 3395, 'talk': 3436, 'count': 772, 'sunni': 3379, 'zig': 3994, 'zag': 3992, 'upsid': 3749, 'petticoat': 2465, 'symmetr': 3421, 'decor': 895, 'object': 2288, 'safe': 2882, 'largish': 1871, 'darl': 869, 'fring': 1390, 'spoke': 3223, 'dangl': 864, 'ear': 1067, 'spice': 3213, 'cheapli': 575, 'asap': 166, 'signatur': 3051, 'shower': 3033, 'comparison': 694, 'sailboat': 2888, 'wave': 3839, 'reg': 2742, 'wife': 3894, 'saggi': 2886, 'convert': 750, 'popsicl': 2552, 'chemis': 584, 'nighti': 2254, 'mini': 2120, 'shortest': 3026, 'lastli': 1874, 'coars': 655, 'meati': 2072, 'handkerchief': 1541, 'buyer': 483, 'fee': 1254, 'oil': 2307, 'punk': 2646, 'causal': 542, 'muumuu': 2202, 'appli': 139, 'proportion': 2630, 'rea': 2701, 'led': 1901, 'hospit': 1641, 'gown': 1486, 'shut': 3043, 'inconveni': 1711, 'eclect': 1079, 'strongli': 3324, 'clasp': 620, 'fill': 1270, 'mold': 2155, 'hi': 1597, 'contortionist': 742, 'hurt': 1671, 'poke': 2532, 'accident': 20, 'peep': 2436, 'tape': 3445, 'yo': 3981, 'impract': 1700, 'heather': 1570, 'loop': 1974, 'movi': 2181, 'petti': 2464, 'aka': 74, 'twist': 3654, 'turtl': 3644, 'knot': 1847, 'cupcak': 836, 'happili': 1551, 'whisker': 3882, 'neatli': 2223, 'land': 1864, 'mo': 2142, 'accid': 19, 'student': 3330, 'jut': 1818, 'confess': 716, 'present': 2586, 'hundr': 1666, 'blah': 322, 'crinkli': 812, 'understat': 3694, 'palett': 2391, 'donat': 1006, 'sunglass': 3377, 'freez': 1381, 'advantag': 51, 'info': 1725, 'clever': 632, 'milder': 2110, 'usabl': 3753, 'pare': 2402, 'juxtaposit': 1820, 'american': 102, 'accomod': 22, 'regist': 2747, 'fingernail': 1276, 'caramel': 514, 'racer': 2675, 'bu': 443, 'atlanta': 181, 'camel': 498, 'camp': 504, 'velveti': 3773, 'til': 3543, 'known': 1849, 'sateen': 2903, 'equival': 1143, 'meal': 2068, 'tweed': 3649, 'spanx': 3199, 'offset': 2304, 'xxxl': 3969, 'decemb': 890, 'satin': 2904, 'fuzz': 1411, 'sacrific': 2879, 'pure': 2651, 'seek': 2951, 'block': 335, 'snowi': 3143, 'snuggl': 3146, 'interview': 1760, 'lunch': 1996, 'wont': 3924, 'brow': 436, 'earthi': 1071, 'categor': 538, 'masculin': 2048, 'reluctantli': 2763, 'forewarn': 1355, 'ratio': 2695, 'region': 2746, 'largest': 1870, 'british': 426, 'kangaroo': 1821, 'pouch': 2567, 'becau': 267, 'seat': 2942, 'downfal': 1015, 'addict': 40, 'hawaii': 1560, 'atroci': 183, 'physiqu': 2473, 'social': 3151, 'curtain': 842, 'direct': 964, 'primari': 2602, 'restroom': 2794, 'jewel': 1799, 'folk': 1343, 'common': 691, 'muc': 2185, 'law': 1885, 'bridesmaid': 419, 'purpos': 2654, 'promin': 2618, 'beadwork': 259, 'rel': 2755, 'countless': 774, 'steep': 3267, 'stabl': 3239, 'evid': 1171, 'po': 2527, 'tea': 3456, 'west': 3868, 'floreat': 1323, 'akemi': 75, 'kin': 1837, 'reach': 2702, 'picnic': 2478, 'wrote': 3959, 'grid': 1512, 'till': 3544, 'copperi': 756, 'simultan': 3067, 'tip': 3552, 'lol': 1963, 'discourag': 974, 'will': 3899, 'trigger': 3616, 'grandma': 1493, 'ensembl': 1132, 'static': 3259, 'clung': 651, 'battl': 250, 'desert': 927, 'drab': 1023, 'dolan': 1001, 'shear': 2993, 'fox': 1370, 'bizarr': 318, 'mp': 2182, 'pet': 2460, 'seamless': 2937, 'capsul': 512, 'multitud': 2193, 'result': 2795, 'hike': 1607, 'restrict': 2793, 'wild': 3897, 'music': 2198, 'suck': 3356, 'laci': 1857, 'comfiest': 686, 'muscl': 2195, 'raglan': 2679, 'straighten': 3295, 'servic': 2972, 'horribl': 1637, 'sexier': 2980, 'mode': 2147, 'prettiest': 2593, 'lingeri': 1945, 'date': 872, 'bothersom': 383, 'chosen': 606, 'grown': 1522, 'mesh': 2087, 'gain': 1414, 'safeti': 2883, 'royal': 2858, 'grant': 1495, 'hardli': 1555, 'august': 193, 'art': 162, 'teeni': 3465, 'strain': 3297, 'deletta': 908, 'mislabel': 2132, 'incorpor': 1712, 'suppli': 3386, 'individu': 1721, 'random': 2686, 'ribcag': 2812, 'slept': 3104, 'matur': 2060, 'adult': 50, 'honeymoon': 1628, 'disast': 970, 'unevenli': 3705, 'europ': 1155, 'previous': 2596, 'overdon': 2363, 'bathroom': 249, 'nine': 2256, 'grayish': 1500, 'saleswoman': 2892, 'interior': 1756, 'sum': 3366, 'crossov': 824, 'indian': 1718, 'sacrif': 2878, 'sea': 2934, 'brocad': 430, 'hue': 1659, 'june': 1814, 'scheme': 2920, 'motion': 2172, 'float': 1316, 'upcom': 3740, 'heartbeat': 1567, 'intens': 1751, 'express': 1197, 'impuls': 1703, 'camouflag': 503, 'effortlessli': 1089, 'carefre': 520, 'hear': 1564, 'reunion': 2804, 'cancel': 505, 'dr': 1022, 'rouch': 2851, 'gill': 1449, 'rd': 2700, 'fight': 1268, 'hid': 1598, 'platform': 2511, 'loungewear': 1985, 'reli': 2760, 'eva': 1157, 'franco': 1376, 'technic': 3461, 'ill': 1683, 'coupon': 777, 'skew': 3080, 'loser': 1978, 'stil': 3279, 'ch': 554, 'niec': 2251, 'moto': 2173, 'teen': 3463, 'kicki': 1832, 'hav': 1559, 'satini': 2905, 'champagn': 560, 'ta': 3424, 'complimentari': 706, 'border': 374, 'girlfriend': 1453, 'understood': 3695, 'unrol': 3728, 'ugh': 3660, 'rate': 2693, 'forget': 1356, 'promot': 2621, 'multicolor': 2191, 'diet': 949, 'attempt': 185, 'retir': 2800, 'narrowest': 2211, 'flesh': 1309, 'mass': 2050, 'sunday': 3373, 'respect': 2789, 'moo': 2162, 'pxx': 2660, 'randomli': 2687, 'determin': 938, 'mock': 2143, 'elastic': 1095, 'mismatch': 2134, 'billow': 309, 'strong': 3322, 'sage': 2885, 'seafolli': 2935, 'matt': 2058, 'level': 1919, 'magnific': 2012, 'alaska': 78, 'reduc': 2734, 'ensur': 1133, 'golden': 1475, 'ball': 228, 'jade': 1792, 'taylor': 3454, 'neon': 2235, 'reddish': 2730, 'achiev': 29, 'satisfi': 2906, 'sanctuari': 2895, 'repel': 2777, 'limb': 1937, 'vee': 3770, 'latter': 1877, 'peel': 2435, 'organ': 2339, 'depth': 921, 'elev': 1101, 'protect': 2631, 'contour': 743, 'nobodi': 2259, 'dish': 980, 'shimmeri': 3007, 'beforehand': 273, 'washer': 3832, 'mainten': 2019, 'tropic': 3621, 'summ': 3367, 'inset': 1734, 'dig': 953, 'borrow': 378, 'focu': 1341, 'nervou': 2238, 'backord': 214, 'ignor': 1681, 'jeg': 1797, 'bent': 287, 'hunch': 1665, 'upright': 3746, 'simplic': 3065, 'rope': 2846, 'rusti': 2873, 'shake': 2984, 'decad': 888, 'longev': 1968, 'pinkish': 2492, 'whatsoev': 3873, 'joy': 1806, 'steel': 3266, 'share': 2990, 'cruis': 828, 'ac': 12, 'encount': 1120, 'lush': 1998, 'whoa': 3885, 'incorrectli': 1713, 'broken': 432, 'hoop': 1634, 'skip': 3089, 'beat': 261, 'colorway': 676, 'percent': 2447, 'excess': 1181, 'fourth': 1369, 'yr': 3988, 'mommi': 2158, 'score': 2924, 'illus': 1684, 'batw': 251, 'oth': 2343, 'content': 740, 'board': 349, 'bounc': 388, 'waaaaay': 3809, 'insan': 1731, 'constant': 731, 'cottoni': 768, 'tree': 3606, 'stray': 3307, 'sleepwear': 3100, 'miami': 2096, 'stopper': 3291, 'elimin': 1103, 'dimpl': 958, 'insist': 1736, 'demin': 914, 'greas': 1503, 'co': 653, 'effort': 1087, 'nut': 2282, 'percept': 2449, 'cheapen': 573, 'flab': 1290, 'sa': 2875, 'stunner': 3339, 'bride': 418, 'swish': 3416, 'triangl': 3613, 'swishi': 3417, 'bold': 361, 'sick': 3045, 'proper': 2627, 'trench': 3608, 'rigid': 2821, 'pain': 2384, 'tush': 3646, 'bac': 211, 'dy': 1062, 'smidg': 3126, 'prefect': 2579, 'gladiat': 1458, 'towel': 3582, 'lighten': 1929, 'beneath': 285, 'henc': 1590, 'hey': 1595, 'lemon': 1909, 'weightless': 3862, 'underlay': 3685, 'truth': 3631, 'confin': 718, 'tha': 3491, 'ia': 1675, 'crumpl': 829, 'shinier': 3012, 'shed': 2996, 'sofa': 3154, 'alot': 89, 'maroon': 2043, 'sl': 3093, 'patient': 2418, 'flowli': 1331, 'detach': 934, 'territori': 3485, 'stark': 3252, 'marshmallow': 2046, 'laser': 1872, 'dc': 877, 'lineback': 1942, 'protrud': 2632, 'bracelet': 399, 'danger': 863, 'fussi': 1409, 'feedback': 1255, 'januari': 1794, 'twirl': 3653, 'road': 2829, 'invis': 1765, 'prais': 2575, 'northeast': 2267, 'la': 1851, 'smock': 3129, 'bed': 270, 'repair': 2775, 'hotel': 1643, 'tr': 3585, 'undo': 3701, 'thi': 3500, 'blow': 343, 'fli': 1311, 'swap': 3399, 'shine': 3010, 'lengthen': 1913, 'tint': 3551, 'clog': 641, 'soeur': 3153, 'mysteri': 2203, 'downton': 1019, 'regualr': 2750, 'colro': 678, 'dressmak': 1041, 'textil': 3488, 'treasur': 3603, 'gigant': 1448, 'bubbl': 444, 'boyish': 396, 'burnout': 467, 'duti': 1061, 'approxim': 147, 'modifi': 2153, 'circul': 615, 'clip': 640, 'hideou': 1601, 'corset': 764, 'unti': 3732, 'anyhow': 125, 'untuck': 3733, 'everybodi': 1165, 'budget': 448, 'depart': 918, 'gaucho': 1429, 'magenta': 2010, 'bias': 300, 'underton': 3696, 'nowaday': 2275, 'problemat': 2611, 'bless': 330, 'underslip': 3691, 'derrier': 923, 'lilac': 1936, 'heaven': 1571, 'coh': 664, 'kneecap': 1843, 'sapphir': 2899, 'budg': 447, 'cal': 491, 'deterg': 937, 'bleach': 326, 'defect': 903, 'cautiou': 544, 'laundri': 1882, 'zone': 3998, 'splotchi': 3221, 'caribbean': 522, 'nicest': 2249, 'handi': 1540, 'exterior': 1201, 'levi': 1920, 'de': 881, 'afterward': 61, 'intact': 1748, 'heft': 1580, 'er': 1144, 'checker': 577, 'patten': 2419, 'defeat': 902, 'coverup': 783, 'grommet': 1516, 'bluish': 346, 'versu': 3784, 'limp': 1940, 'juvenil': 1819, 'poufi': 2569, 'irrit': 1775, 'throwback': 3526, 'sti': 3272, 'partli': 2410, 'artist': 164, 'chill': 594, 'obnoxi': 2289, 'cherri': 585, 'cranberri': 796, 'crush': 830, 'stroll': 3321, 'dad': 857, 'rocket': 2835, 'citizen': 618, 'holi': 1620, 'draw': 1030, 'lumpi': 1995, 'toward': 3581, 'affect': 57, 'admittedli': 47, 'public': 2636, 'gym': 1529, 'stoke': 3286, 'anniversari': 112, 'stack': 3240, 'wee': 3855, 'lanki': 1865, 'meadow': 2067, 'rue': 2861, 'thanksgiv': 3493, 'counter': 773, 'shall': 2985, 'regularli': 2752, 'buttonhol': 481, 'brass': 406, 'ecstat': 1081, 'bustier': 473, 'preciou': 2577, 'thr': 3519, 'redhead': 2732, 'explain': 1194, 'spin': 3215, 'substanc': 3348, 'video': 3793, 'boston': 380, 'topper': 3573, 'snugger': 3145, 'frill': 1388, 'powder': 2571, 'ceremoni': 551, 'glide': 1464, 'modal': 2146, 'classier': 624, 'useless': 3755, 'breez': 414, 'percentag': 2448, 'withstand': 3918, 'lengthwis': 1915, 'bordeaux': 373, 'stood': 3289, 'account': 27, 'flounc': 1325, 'deliveri': 913, 'climb': 637, 'unattract': 3671, 'tremend': 3607, 'rippl': 2825, 'regardless': 2745, 'majorli': 2022, 'drink': 1044, 'sweatpant': 3405, 'gravit': 1498, 'navel': 2215, 'perf': 2450, 'dull': 1054, 'espadril': 1149, 'bunchi': 463, 'watercolor': 3838, 'wasnt': 3834, 'fiddl': 1266, 'creme': 806, 'windowpan': 3904, 'spaghetti': 3196, 'xxsmall': 3967, 'eight': 1091, 'southern': 3192, 'readjust': 2707, 'align': 80, 'basi': 241, 'crimson': 810, 'grandmoth': 1494, 'hello': 1586, 'cleaner': 626, 'weekli': 3858, 'rounder': 2856, 'moder': 2149, 'speck': 3208, 'race': 2674, 'track': 3588, 'hat': 1557, 'mohair': 2154, 'contact': 736, 'roller': 2840, 'couch': 769, 'lifestyl': 1926, 'surviv': 3394, 'forgot': 1358, 'manufactur': 2035, 'splotch': 3220, 'geniu': 1439, 'lenght': 1911, 'par': 2398, 'pizzazz': 2500, 'audrey': 192, 'hepburn': 1592, 'ju': 1808, 'toddler': 3560, 'chevron': 588, 'mistaken': 2139, 'overnight': 2371, 'address': 42, 'dalla': 860, 'promptli': 2623, 'transfer': 3592, 'abt': 10, 'integr': 1749, 'assumpt': 176, 'abund': 11, 'gear': 1436, 'instinct': 1744, 'alright': 92, 'plane': 2509, 'francisco': 1375, 'england': 1126, 'feather': 1252, 'poster': 2561, 'graduat': 1492, 'shabbi': 2982, 'lipstick': 1948, 'preserv': 2587, 'pu': 2635, 'lattic': 1878, 'gem': 1437, 'imho': 1688, 'releas': 2759, 'wasit': 3833, 'hti': 1656, 'afternoon': 60, 'cat': 533, 'dingi': 961, 'letter': 1918, 'sucker': 3357, 'downsiz': 1018, 'insert': 1733, 'becasu': 266, 'streak': 3308, 'receipt': 2718, 'laughabl': 1880, 'stink': 3283, 'silveri': 3060, 'jazz': 1795, 'crown': 827, 'load': 1957, 'honey': 1627, 'member': 2079, 'convers': 749, 'irl': 1771, 'invit': 1766, 'roughli': 2854, 'mossi': 2167, 'militari': 2114, 'scream': 2927, 'rosi': 2849, 'neira': 2233, 'puzzl': 2658, 'grew': 1510, 'fave': 1245, 'ove': 2358, 'crew': 808, 'anytim': 129, 'claim': 619, 'punch': 2645, 'trapez': 3600, 'thoroughli': 3515, 'peit': 2438, 'caution': 543, 'ginorm': 1451, 'reccomend': 2717, 'yummi': 3991, 'chop': 603, 'quarter': 2663, 'seemingli': 2953, 'dead': 882, 'sandl': 2898, 'runway': 2870, 'stare': 3251, 'al': 76, 'leaf': 1893, 'closest': 644, 'peak': 2429, 'midwest': 2106, 'tick': 3532, 'tentlik': 3480, 'irresist': 1774, 'underwir': 3699, 'charg': 566, 'wouldnt': 3946, 'prove': 2633, 'sausag': 2909, 'stuf': 3333, 'straw': 3306, 'xma': 3961, 'biggi': 306, 'decept': 892, 'arrang': 160, 'encourag': 1121, 'hotter': 1644, 'patchwork': 2416, 'squash': 3233, 'luncheon': 1997, 'authent': 195, 'immens': 1690, 'halloween': 1537, 'sheet': 3000, 'loyal': 1990, 'skinnier': 3087, 'appliquã': 141, 'reflect': 2739, 'grate': 1497, 'necessarili': 2225, 'comic': 689, 'sparrow': 3203, 'fluff': 1333, 'softli': 3159, 'outward': 2356, 'wo': 3920, 'bermuda': 288, 'wineri': 3906, 'tegan': 3467, 'among': 103, 'lola': 1964, 'ness': 2239, 'uber': 3659, 'lycra': 2002, 'bat': 245, 'unnecessari': 3724, 'breastfeed': 410, 'factori': 1216, 'mountain': 2177, 'dust': 1058, 'handwash': 1544, 'reconsid': 2726, 'pirat': 2496, 'skimpi': 3084, 'summertim': 3371, 'versitil': 3783, 'snow': 3142, 'purs': 2655, 'ahv': 69, 'ass': 171, 'slant': 3095, 'scissor': 2922, 'geometr': 1442, 'gaudi': 1430, 'fluctuat': 1332, 'exampl': 1177, 'unstructur': 3730, 'un': 3669, 'smash': 3124, 'forearm': 1352, 'countri': 775, 'club': 650, 'steamer': 3265, 'sturdier': 3342, 'colorblock': 674, 'wit': 3915, 'flutteri': 1338, 'strateg': 3305, 'refund': 2741, 'predict': 2578, 'compromis': 708, 'scale': 2914, 'museum': 2197, 'sound': 3188, 'feast': 1251, 'food': 1346, 'blousey': 341, 'appliqu': 140, 'swiss': 3418, 'firstli': 1283, 'bosom': 379, 'difficulti': 952, 'doabl': 998, 'stumpi': 3337, 'natori': 2212, 'hipster': 1613, 'thong': 3514, 'toe': 3561, 'script': 2929, 'marrakech': 2044, 'midlin': 2101, 'blade': 321, 'thumb': 3530, 'overbear': 2361, 'born': 377, 'ring': 2822, 'henley': 1591, 'staff': 3241, 'flag': 1292, 'unflatteringli': 3711, 'dreami': 1037, 'mater': 2054, 'burst': 469, 'trash': 3601, 'mumu': 2194, 'unzip': 3738, 'springtim': 3231, 'hardest': 1554, 'abdomen': 2, 'hassl': 1556, 'emerson': 1116, 'scrub': 2931, 'worthwhil': 3942, 'flatteringli': 1303, 'swam': 3398, 'cure': 837, 'undi': 3700, 'hunter': 1669, 'raini': 2683, 'code': 661, 'di': 943, 'shelf': 3001, 'involv': 1767, 'worker': 3931, 'muddi': 2187, 'wrestl': 3951, 'faint': 1219, 'underli': 3686, 'repurchas': 2783, 'mi': 2095, 'somebodi': 3166, 'childish': 593, 'nye': 2284, 'carpet': 524, 'burn': 466, 'stalk': 3244, 'evenli': 1160, 'news': 2245, 'realiti': 2710, 'downhil': 1016, 'blown': 344, 'rougher': 2853, 'seattl': 2944, 'outing': 2351, 'disgust': 979, 'kn': 1841, 'destroy': 933, 'sip': 3071, 'critiqu': 819, 'greatli': 1506, 'access': 16, 'kitten': 1840, 'compens': 696, 'lime': 1938, 'nightmar': 2255, 'airport': 73, 'afford': 58, 'neath': 2222, 'rode': 2836, 'rule': 2865, 'mama': 2027, 'chocol': 599, 'wedgi': 3854, 'lookout': 1973, 'edgier': 1084, 'ombrã': 2314, 'palazzo': 2389, 'premium': 2583, 'bia': 299, 'teensi': 3466, 'suitcas': 3365, 'sting': 3282, 'unhappi': 3715, 'guarante': 1523, 'garish': 1424, 'goal': 1470, 'mixtur': 2141, 'quibbl': 2667, 'power': 2572, 'apricot': 148, 'antrho': 122, 'ski': 3081, 'couldnt': 771, 'buttondown': 480, 'sotr': 3185, 'balck': 227, 'ahd': 67, 'skier': 3082, 'dilemma': 954, 'error': 1147, 'interf': 1755, 'swimwear': 3413, 'produc': 2613, 'memori': 2080, 'primarili': 2603, 'bicep': 302, 'visit': 3802, 'trusti': 3630, 'woodland': 3925, 'bite': 317, 'footwear': 1350, 'ord': 2336, 'click': 634, 'overlap': 2367, 'frilli': 1389, 'discomfort': 972, 'solut': 3164, 'prima': 2601, 'tuxedo': 3648, 'blossom': 339, 'suffici': 3361, 'beachi': 257, 'substant': 3349, 'leeri': 1902, 'lacework': 1855, 'loud': 1982, 'recal': 2716, 'petiti': 2463, 'patienc': 2417, 'gala': 1416, 'thickish': 3503, 'verdugo': 3777, 'grade': 1490, 'craft': 793, 'toy': 3584, 'simplist': 3066, 'april': 149, 'makeup': 2025, 'bled': 327, 'derriã': 924, 'remark': 2765, 'ladylik': 1861, 'swimmer': 3411, 'shipment': 3014, 'longtim': 1970, 'app': 133, 'novelti': 2273, 'intern': 1757, 'shapewear': 2989, 'neopren': 2236, 'confirm': 719, 'sung': 3376, 'scratch': 2925, 'ruler': 2866, 'asymmetri': 179, 'stud': 3329, 'rariti': 2691, 'statu': 3260, 'rec': 2715, 'vacil': 3761, 'souer': 3186, 'nevertheless': 2243, 'siz': 3077, 'frontal': 1393, 'overweight': 2374, 'kentucki': 1826, 'warrant': 3829, 'irregular': 1773, 'pendant': 2440, 'leap': 1896, 'faltter': 1227, 'leggin': 1907, 'pa': 2377, 'outweigh': 2357, 'workabl': 3930, 'serif': 2968, 'coveral': 782, 'wallpap': 3818, 'chameleon': 559, 'parachut': 2399, 'br': 397, 'uncuff': 3680, 'stretchier': 3314, 'cow': 785, 'tame': 3439, 'iridesc': 1769, 'guest': 1525, 'loke': 1962, 'sudden': 3358, 'theori': 3496, 'lil': 1935, 'madli': 2008, 'maid': 2013, 'honor': 1630, 'galleri': 1417, 'lit': 1951, 'stilt': 3281, 'fond': 1345, 'ab': 1, 'ombr': 2313, 'scene': 2919, 'wildest': 3898, 'cuddli': 831, 'glam': 1460, 'smallish': 3122, 'leggi': 1906, 'chore': 604, 'giddi': 1446, 'leftov': 1904, 'seasonless': 2941, 'mat': 2052, 'htem': 1654, 'solo': 3163, 'dare': 866, 'coutur': 779, 'unwieldi': 3737, 'tankini': 3444, 'norm': 2264, 'pilco': 2483, 'catalogu': 535, 'optic': 2331, 'mad': 2006, 'debut': 887, 'marvel': 2047, 'dara': 865, 'vegan': 3771, 'breathtak': 413, 'queen': 2664, 'maiz': 2020, 'subtleti': 3353, 'devast': 941, 'bday': 255, 'fare': 1234, 'unwant': 3735, 'trade': 3589, 'rustic': 2874, 'unfit': 3709, 'substitut': 3351, 'period': 2455, 'whoop': 3887, 'pineappl': 2489, 'diamet': 945, 'thou': 3516, 'tiniest': 3550, 'undress': 3703, 'bug': 449, 'sacklik': 2877, 'bot': 381, 'upsiz': 3750, 'buyi': 484, 'holder': 1618, 'marriag': 2045, 'wander': 3819, 'bar': 236, 'bog': 357, 'sign': 3050, 'island': 1777, 'spray': 3227, 'hover': 1650, 'reaction': 2703, 'subtli': 3354, 'raincoat': 2682, 'fifti': 1267, 'comfot': 688, 'perki': 2457, 'beca': 264, 'duller': 1055, 'lavendar': 1884, 'stori': 3293, 'waffl': 3811, 'striation': 3315, 'petal': 2461, 'bi': 298, 'apparel': 135, 'recommen': 2724, 'bloat': 333, 'uh': 3662, 'cowlneck': 788, 'opera': 2325, 'brief': 420, 'chicago': 590, 'instanc': 1740, 'mar': 2036, 'bear': 260, 'transport': 3598, 'mexican': 2093, 'wound': 3947, 'hmmm': 1615, 'complect': 699, 'pleasur': 2518, 'abnorm': 5, 'retailerpolgi': 2797, 'secret': 2947, 'pd': 2423, 'ada': 38, 'distanc': 988, 'catcher': 537, 'oomph': 2321, 'reward': 2808, 'manipul': 2032, 'mend': 2082, 'shearl': 2994, 'link': 1946, 'mildli': 2111, 'und': 3681, 'rug': 2863, 'whic': 3878, 'roder': 2837, 'snip': 3141, 'unreason': 3727, 'whitish': 3884, 'motorcycl': 2174, 'heavyweight': 1576, 'antiqu': 121, 'mileag': 2113, 'optimist': 2332, 'becuas': 269, 'contempl': 738, 'consequ': 726, 'unavail': 3672, 'pilat': 2482, 'va': 3759, 'defiantli': 904, 'flawless': 1305, 'mall': 2026, 'lounger': 1984, 'tenti': 3479, 'waaay': 3810, 'surround': 3393, 'forc': 1351, 'handmad': 1543, 'similarli': 3062, 'com': 680, 'creep': 805, 'int': 1747, 'cali': 493, 'hurri': 1670, 'dozen': 1021, 'hack': 1531, 'uk': 3663, 'scrunch': 2932, 'moth': 2169, 'fi': 1264, 'human': 1662, 'woul': 3944, 'longish': 1969, 'rush': 2871, 'ex': 1172, 'assist': 173, 'popov': 2550, 'cognac': 663, 'yucki': 3990, 'steer': 3268, 'sideway': 3047, 'embodi': 1110, 'loss': 1979, 'restaur': 2791, 'cascad': 528, 'bullet': 456, 'bank': 235, 'flabbi': 1291, 'sin': 3068, 'stuffi': 3335, 'spread': 3228, 'bailey': 224, 'birth': 314, 'subdu': 3347, 'cornflow': 761, 'prairi': 2574, 'mu': 2184, 'electr': 1097, 'upgrad': 3742, 'suppl': 3385, 'thinnest': 3509, 'zigzag': 3995, 'uncommon': 3679, 'ochr': 2297, 'verifi': 3779, 'professor': 2616, 'parcel': 2401, 'roar': 2830, 'fire': 1280, 'hanki': 1547, 'bl': 319, 'rifl': 2819, 'physic': 2472, 'gosh': 1483, 'internship': 1759, 'engag': 1125, 'branch': 404, 'utterli': 3758, 'dine': 960, 'lead': 1892, 'cheeki': 579, 'pepto': 2444, 'curio': 838, 'domin': 1005, 'anatomi': 107, 'sequenc': 2966, 'tripl': 3620, 'galor': 1418, 'minimalist': 2122, 'honolulu': 1629, 'bay': 252, 'prici': 2599, 'postur': 2564, 'needl': 2230, 'se': 2933, 'bun': 461, 'leisur': 1908, 'drove': 1050, 'lifeless': 1925, 'discrep': 977, 'univers': 3719, 'kate': 1822, 'spade': 3195, 'ocean': 2296, 'beautifu': 263, 'grecian': 1507, 'backward': 217, 'heirloom': 1584, 'trimest': 3618, 'sc': 2913, 'cowork': 789, 'insult': 1746, 'frock': 1391, 'vice': 3791, 'versa': 3780, 'trial': 3612, 'target': 3448, 'extens': 1200, 'overh': 2365, 'colo': 671, 'crack': 792, 'wea': 3843, 'bumpi': 460, 'cave': 545, 'milk': 2115, 'chain': 555, 'ecru': 1080, 'thrown': 3527, 'supima': 3384, 'util': 3757, 'log': 1961, 'hall': 1536, 'litt': 1953, 'joke': 1805, 'pinki': 2491, 'client': 635, 'gre': 1502, 'chanel': 562, 'embrac': 1112, 'bling': 331, 'joe': 1802, 'rain': 2681, 'internet': 1758, 'via': 3788, 'ladder': 1859, 'windi': 3902, 'alittl': 83, 'sunshin': 3380, 'rail': 2680, 'basebal': 240, 'tla': 3557, 'yuck': 3989, 'cash': 530, 'shir': 3015, 'invert': 1763, 'war': 3821, 'stich': 3273, 'studio': 3332, 'socal': 3150, 'tattoo': 3451, 'ant': 116, 'minimum': 2123, 'compress': 707, 'puffer': 2640, 'salesgirl': 2890, 'toasti': 3558, 'undersid': 3689, 'err': 1145, 'ooh': 2320, 'asia': 167, 'pix': 2499, 'hindsight': 1609, 'tit': 3555, 'detial': 939, 'fleetwood': 1308, 'ir': 1768, 'apprehens': 143, 'shoot': 3020, 'drama': 1025, 'googl': 1480, 'warehous': 3823, 'discreet': 976, 'replenish': 2779, 'accomplish': 24, 'flora': 1321, 'airplan': 72, 'automat': 196, 'pintuck': 2494, 'rendit': 2772, 'bam': 232, 'lambswool': 1863, 'guid': 1526, 'celebr': 548, 'pliabl': 2521, 'mih': 2108, 'gradual': 1491, 'swea': 3401, 'inquiri': 1730, 'eager': 1065, 'action': 33, 'wring': 3952, 'itti': 1786, 'nick': 2250, 'studi': 3331, 'overdress': 2364, 'pea': 2425, 'thinnish': 3510, 'rectangl': 2728, 'tra': 3586, 'lacey': 1856, 'snd': 3139, 'overboard': 2362, 'assur': 177, 'relationship': 2757, 'alpaca': 90, 'merino': 2086, 'tx': 3656, 'fist': 1285, 'camera': 499, 'cheesecloth': 582, 'colorado': 673, 'column': 679, 'former': 1362, 'violet': 3797, 'vision': 3801, 'complic': 704, 'mr': 2183, 'nephew': 2237, 'fingertip': 1277, 'fatti': 1241, 'crafti': 794, 'dispos': 985, 'presum': 2589, 'crisscross': 816, 'pricier': 2600, 'recipi': 2722, 'sole': 3161, 'ratti': 2696, 'john': 1804, 'alley': 84, 'mottl': 2175, 'affair': 56, 'conflict': 720, 'circu': 614, 'gingham': 1450, 'chase': 571, 'enthusiast': 1135, 'outerwear': 2349, 'unexpectedli': 3707, 'redicul': 2733, 'unabl': 3670, 'pie': 2480, 'paranoid': 2400, 'dazzl': 876, 'accordingli': 26, 'broaden': 428, 'reader': 2705, 'sway': 3400, 'foam': 1340, 'marilyn': 2039, 'postmark': 2562, 'photoshop': 2471, 'herringbon': 1593, 'tapestri': 3447, 'rosett': 2848, 'default': 901, 'grosgrain': 1518, 'clutch': 652, 'alik': 81, 'hype': 1673, 'inadequ': 1705, 'fish': 1284, 'macram': 2005, 'hoxton': 1652, 'junk': 1815, 'ar': 153, 'mesmer': 2088, 'boatneck': 351, 'on': 2316, 'underskirt': 3690, 'micro': 2097, 'activewear': 35, 'sweetheart': 3409, 'chuckl': 609, 'miracl': 2129, 'baili': 225, 'bee': 271, 'piti': 2498, 'bootcut': 371, 'muggi': 2189, 'ident': 1680, 'nape': 2209, 'accompani': 23, 'silicon': 3055, 'poodl': 2542, 'umbrella': 3667, 'perceiv': 2446, 'amd': 101, 'exud': 1205, 'stupid': 3340, 'shee': 2997, 'ballooni': 231, 'inbetween': 1707, 'vey': 3787, 'circumfer': 616, 'horrid': 1638, 'altogeth': 97, 'unstitch': 3729, 'uplift': 3743, 'basketweav': 244, 'gr': 1487, 'spec': 3205, 'anth': 117, 'occass': 2295, 'absolutley': 7, 'pane': 2393, 'hill': 1608, 'treatment': 3605, 'retailerpologist': 2798, 'smudg': 3133, 'polkadot': 2536, 'fr': 1371, 'um': 3666, 'favourit': 1248, 'lab': 1852, 'showcas': 3032, 'bolero': 362, 'nad': 2205, 'finer': 1274, 'loafer': 1958, 'playground': 2514, 'perfor': 2453, 'upscal': 3747, 'carissima': 523, 'exp': 1188, 'hollywood': 1623, 'unbelt': 3675, 'funer': 1403, 'beg': 274, 'bett': 293, 'pickup': 2477, 'tiger': 3537, 'fraction': 1372, 'prett': 2590, 'tickl': 3534, 'ne': 2218, 'tangl': 3442, 'skinton': 3088, 'stride': 3316, 'garnet': 1427, 'femin': 1260, 'italian': 1781, 'dismay': 983, 'ink': 1728, 'orlean': 2341, 'birkenstock': 313, 'enlarg': 1129, 'yellowi': 3976, 'consum': 735, 'pur': 2648, 'discolor': 971, 'trap': 3599, 'crowd': 826, 'snail': 3135, 'tutu': 3647, 'sticker': 3275, 'vinegar': 3795, 'rhineston': 2809, 'rep': 2774, 'moon': 2164}\n"
     ]
    }
   ],
   "source": [
    "print(v.vocabulary_)"
   ]
  },
  {
   "cell_type": "code",
   "execution_count": 31,
   "metadata": {},
   "outputs": [
    {
     "data": {
      "text/plain": [
       "array([1, 1, 0, ..., 0, 1, 1], dtype=int64)"
      ]
     },
     "execution_count": 31,
     "metadata": {},
     "output_type": "execute_result"
    }
   ],
   "source": [
    "#selecting the recommended column\n",
    "\n",
    "y = dataset.iloc[:, 6].values\n",
    "y"
   ]
  },
  {
   "cell_type": "code",
   "execution_count": 32,
   "metadata": {},
   "outputs": [],
   "source": [
    "\n",
    "# Splitting the dataset into \n",
    "# the Training set and Test set \n",
    "\n",
    "\n",
    "from sklearn.model_selection import train_test_split \n",
    "  \n",
    "# experiment with \"test_size\" \n",
    "# to get better results \n",
    "X_train, X_test, y_train, y_test = train_test_split(vectorized, y, test_size = 0.25,random_state=0) "
   ]
  },
  {
   "cell_type": "code",
   "execution_count": 33,
   "metadata": {},
   "outputs": [
    {
     "name": "stdout",
     "output_type": "stream",
     "text": [
      "<class 'numpy.ndarray'>\n"
     ]
    }
   ],
   "source": [
    "print (type(X_train))"
   ]
  },
  {
   "cell_type": "markdown",
   "metadata": {},
   "source": [
    "### Creating the models"
   ]
  },
  {
   "cell_type": "code",
   "execution_count": 41,
   "metadata": {},
   "outputs": [],
   "source": [
    "##KNN Model\n",
    "\n",
    "from sklearn.neighbors import KNeighborsClassifier\n",
    "\n",
    "\n",
    "classifier_knn = KNeighborsClassifier(n_neighbors=5)\n",
    "classifier_knn.fit(X_train, y_train)\n",
    "\n",
    "predictions_knn = classifier_knn.predict(X_test)"
   ]
  },
  {
   "cell_type": "code",
   "execution_count": 42,
   "metadata": {},
   "outputs": [
    {
     "name": "stdout",
     "output_type": "stream",
     "text": [
      "[[ 317  765]\n",
      " [ 143 4436]]\n"
     ]
    }
   ],
   "source": [
    "from sklearn.metrics import confusion_matrix\n",
    "\n",
    "print(confusion_matrix(y_test,predictions_knn))"
   ]
  },
  {
   "cell_type": "code",
   "execution_count": 43,
   "metadata": {},
   "outputs": [
    {
     "name": "stdout",
     "output_type": "stream",
     "text": [
      "0.8396043101925454\n"
     ]
    }
   ],
   "source": [
    "from sklearn.metrics import accuracy_score,classification_report\n",
    "\n",
    "print(accuracy_score(y_test, predictions_knn))"
   ]
  },
  {
   "cell_type": "code",
   "execution_count": 44,
   "metadata": {},
   "outputs": [],
   "source": [
    "knn5Acc = accuracy_score(y_test, predictions_knn) * 100"
   ]
  },
  {
   "cell_type": "code",
   "execution_count": 45,
   "metadata": {},
   "outputs": [
    {
     "name": "stdout",
     "output_type": "stream",
     "text": [
      "              precision    recall  f1-score   support\n",
      "\n",
      "           0       0.29      0.69      0.41       460\n",
      "           1       0.97      0.85      0.91      5201\n",
      "\n",
      "    accuracy                           0.84      5661\n",
      "   macro avg       0.63      0.77      0.66      5661\n",
      "weighted avg       0.91      0.84      0.87      5661\n",
      "\n"
     ]
    }
   ],
   "source": [
    "print(classification_report(predictions_knn,y_test))"
   ]
  },
  {
   "cell_type": "code",
   "execution_count": 71,
   "metadata": {},
   "outputs": [
    {
     "data": {
      "text/plain": [
       "KNeighborsClassifier(n_neighbors=3)"
      ]
     },
     "execution_count": 71,
     "metadata": {},
     "output_type": "execute_result"
    }
   ],
   "source": [
    "#KNN with 3\n",
    "\n",
    "knnmodel = KNeighborsClassifier(n_neighbors=3)\n",
    "\n",
    "knnmodel.fit(X_train, y_train)"
   ]
  },
  {
   "cell_type": "code",
   "execution_count": 72,
   "metadata": {},
   "outputs": [],
   "source": [
    "knn_predicted = knnmodel.predict(X_test)"
   ]
  },
  {
   "cell_type": "code",
   "execution_count": 73,
   "metadata": {},
   "outputs": [
    {
     "name": "stdout",
     "output_type": "stream",
     "text": [
      "[[ 357  725]\n",
      " [ 227 4352]]\n"
     ]
    }
   ],
   "source": [
    "print(confusion_matrix(y_test,knn_predicted))"
   ]
  },
  {
   "cell_type": "code",
   "execution_count": 74,
   "metadata": {
    "scrolled": true
   },
   "outputs": [
    {
     "name": "stdout",
     "output_type": "stream",
     "text": [
      "0.8318318318318318\n"
     ]
    }
   ],
   "source": [
    "print(accuracy_score(y_test, knn_predicted))"
   ]
  },
  {
   "cell_type": "code",
   "execution_count": 75,
   "metadata": {},
   "outputs": [],
   "source": [
    "knn3Acc = accuracy_score(y_test, knn_predicted) * 100"
   ]
  },
  {
   "cell_type": "code",
   "execution_count": 76,
   "metadata": {},
   "outputs": [
    {
     "name": "stdout",
     "output_type": "stream",
     "text": [
      "              precision    recall  f1-score   support\n",
      "\n",
      "           0       0.33      0.61      0.43       584\n",
      "           1       0.95      0.86      0.90      5077\n",
      "\n",
      "    accuracy                           0.83      5661\n",
      "   macro avg       0.64      0.73      0.66      5661\n",
      "weighted avg       0.89      0.83      0.85      5661\n",
      "\n"
     ]
    }
   ],
   "source": [
    "print(classification_report(knn_predicted,y_test))"
   ]
  },
  {
   "cell_type": "code",
   "execution_count": 46,
   "metadata": {},
   "outputs": [
    {
     "data": {
      "text/plain": [
       "GaussianNB()"
      ]
     },
     "execution_count": 46,
     "metadata": {},
     "output_type": "execute_result"
    }
   ],
   "source": [
    "#10.\tBuild Naïve Bayes model using the Train data\n",
    "\n",
    "model = GaussianNB()\n",
    "\n",
    "# fit the model with the training data\n",
    "model.fit(X_train,y_train)"
   ]
  },
  {
   "cell_type": "code",
   "execution_count": 47,
   "metadata": {},
   "outputs": [],
   "source": [
    "predict_train = model.predict(X_train)"
   ]
  },
  {
   "cell_type": "code",
   "execution_count": 48,
   "metadata": {},
   "outputs": [
    {
     "name": "stdout",
     "output_type": "stream",
     "text": [
      "Target on train data [0 0 0 ... 1 0 0]\n"
     ]
    }
   ],
   "source": [
    "print('Target on train data',predict_train) "
   ]
  },
  {
   "cell_type": "code",
   "execution_count": 49,
   "metadata": {},
   "outputs": [
    {
     "name": "stdout",
     "output_type": "stream",
     "text": [
      "accuracy_score on train dataset :  0.41189634864546526\n"
     ]
    }
   ],
   "source": [
    "accuracy_train = accuracy_score(y_train,predict_train)\n",
    "print('accuracy_score on train dataset : ', accuracy_train)"
   ]
  },
  {
   "cell_type": "code",
   "execution_count": 50,
   "metadata": {},
   "outputs": [
    {
     "name": "stdout",
     "output_type": "stream",
     "text": [
      "Target on test data [0 0 0 ... 0 0 0]\n"
     ]
    }
   ],
   "source": [
    "predict_test = model.predict(X_test)\n",
    "print('Target on test data',predict_test)"
   ]
  },
  {
   "cell_type": "code",
   "execution_count": 51,
   "metadata": {},
   "outputs": [
    {
     "name": "stdout",
     "output_type": "stream",
     "text": [
      "accuracy_score on test dataset :  0.3812047341459106\n"
     ]
    }
   ],
   "source": [
    "\n",
    "accuracy_test = accuracy_score(y_test,predict_test)\n",
    "print('accuracy_score on test dataset : ', accuracy_test)"
   ]
  },
  {
   "cell_type": "code",
   "execution_count": 52,
   "metadata": {},
   "outputs": [],
   "source": [
    "naivebAcc = accuracy_score(y_test,predict_test) * 100"
   ]
  },
  {
   "cell_type": "code",
   "execution_count": 53,
   "metadata": {},
   "outputs": [
    {
     "name": "stdout",
     "output_type": "stream",
     "text": [
      "              precision    recall  f1-score   support\n",
      "\n",
      "           0       0.81      0.21      0.33      4165\n",
      "           1       0.28      0.86      0.42      1496\n",
      "\n",
      "    accuracy                           0.38      5661\n",
      "   macro avg       0.54      0.53      0.38      5661\n",
      "weighted avg       0.67      0.38      0.36      5661\n",
      "\n"
     ]
    }
   ],
   "source": [
    "print(classification_report(predict_test,y_test))"
   ]
  },
  {
   "cell_type": "code",
   "execution_count": 54,
   "metadata": {},
   "outputs": [],
   "source": [
    "mat = confusion_matrix(predict_test, y_test)"
   ]
  },
  {
   "cell_type": "code",
   "execution_count": 55,
   "metadata": {},
   "outputs": [
    {
     "data": {
      "text/plain": [
       "array([[ 872, 3293],\n",
       "       [ 210, 1286]], dtype=int64)"
      ]
     },
     "execution_count": 55,
     "metadata": {},
     "output_type": "execute_result"
    }
   ],
   "source": [
    "mat"
   ]
  },
  {
   "cell_type": "code",
   "execution_count": 56,
   "metadata": {},
   "outputs": [],
   "source": [
    "#17.\tBuild SVM model using Train Data\n",
    "\n",
    "\n",
    "from sklearn import svm\n",
    "\n",
    "#Create a svm Classifier\n",
    "svmModel = svm.SVC(kernel='linear') # Linear Kernel"
   ]
  },
  {
   "cell_type": "code",
   "execution_count": 57,
   "metadata": {},
   "outputs": [
    {
     "data": {
      "text/plain": [
       "SVC(kernel='linear')"
      ]
     },
     "execution_count": 57,
     "metadata": {},
     "output_type": "execute_result"
    }
   ],
   "source": [
    "svmModel.fit(X_train, y_train)"
   ]
  },
  {
   "cell_type": "code",
   "execution_count": 58,
   "metadata": {},
   "outputs": [],
   "source": [
    "#Predict the response for test dataset\n",
    "svm_predicted = svmModel.predict(X_test)"
   ]
  },
  {
   "cell_type": "code",
   "execution_count": 59,
   "metadata": {},
   "outputs": [
    {
     "name": "stdout",
     "output_type": "stream",
     "text": [
      "[[ 616  466]\n",
      " [ 179 4400]]\n"
     ]
    }
   ],
   "source": [
    "print(confusion_matrix(y_test,svm_predicted))"
   ]
  },
  {
   "cell_type": "code",
   "execution_count": 60,
   "metadata": {},
   "outputs": [
    {
     "name": "stdout",
     "output_type": "stream",
     "text": [
      "Accuracy: 0.8860625331213566\n"
     ]
    }
   ],
   "source": [
    "print(\"Accuracy:\",accuracy_score(y_test, svm_predicted))"
   ]
  },
  {
   "cell_type": "code",
   "execution_count": 61,
   "metadata": {},
   "outputs": [],
   "source": [
    "svmAcc = accuracy_score(y_test, svm_predicted) * 100"
   ]
  },
  {
   "cell_type": "code",
   "execution_count": 62,
   "metadata": {},
   "outputs": [
    {
     "name": "stdout",
     "output_type": "stream",
     "text": [
      "              precision    recall  f1-score   support\n",
      "\n",
      "           0       0.81      0.21      0.33      4165\n",
      "           1       0.28      0.86      0.42      1496\n",
      "\n",
      "    accuracy                           0.38      5661\n",
      "   macro avg       0.54      0.53      0.38      5661\n",
      "weighted avg       0.67      0.38      0.36      5661\n",
      "\n"
     ]
    }
   ],
   "source": [
    "print(classification_report(predict_test,y_test))"
   ]
  },
  {
   "cell_type": "markdown",
   "metadata": {},
   "source": [
    "### analyse data using graphs"
   ]
  },
  {
   "cell_type": "code",
   "execution_count": 67,
   "metadata": {},
   "outputs": [
    {
     "name": "stdout",
     "output_type": "stream",
     "text": [
      "821\n",
      "1549\n"
     ]
    },
    {
     "data": {
      "image/png": "[encoded data removed]",
      "text/plain": [
       "<Figure size 432x288 with 1 Axes>"
      ]
     },
     "metadata": {},
     "output_type": "display_data"
    }
   ],
   "source": [
    "import matplotlib.pyplot as plt\n",
    "from matplotlib import style\n",
    "\n",
    "one = (dataset['Rating'] == 1).sum()\n",
    "two = (dataset['Rating'] == 2).sum()\n",
    "three = (dataset['Rating'] == 3).sum()\n",
    "four = (dataset['Rating'] == 4).sum()\n",
    "five = (dataset['Rating'] == 5).sum()\n",
    "print(one)\n",
    "print(two)\n",
    "\n",
    "p = [one, two, three, four, five]\n",
    "plt.pie(p, #giving array\n",
    "    labels = ['One', 'Two', 'Three', 'Four', 'Five'], #Correspndingly giving labels\n",
    "    colors = ['green', 'yellow', 'blue', 'red', 'purple'], # Corresponding colors\n",
    "    explode = (0.05, 0.05 , 0.05 ,0.05 , 0.05), #How much the gap should me there between the pies\n",
    "    startangle = 0) #what start angle should be given\n",
    "plt.axis('equal')\n",
    "plt.show()"
   ]
  },
  {
   "cell_type": "code",
   "execution_count": 68,
   "metadata": {},
   "outputs": [
    {
     "name": "stdout",
     "output_type": "stream",
     "text": [
      "4101\n",
      "18540\n"
     ]
    },
    {
     "data": {
      "image/png": "[encoded data removed]",
      "text/plain": [
       "<Figure size 432x288 with 1 Axes>"
      ]
     },
     "metadata": {},
     "output_type": "display_data"
    }
   ],
   "source": [
    "import matplotlib.pyplot as plt\n",
    "from matplotlib import style\n",
    "\n",
    "negative = (dataset['Recommended IND'] == 0).sum()\n",
    "#Summing up all the values of column gender with a\n",
    "#condition for male and similary for females\n",
    "\n",
    "positive = (dataset['Recommended IND'] == 1).sum()\n",
    "print(negative)\n",
    "print(positive)\n",
    "\n",
    "p = [negative, positive]\n",
    "plt.pie(p, #giving array\n",
    "    labels = ['negative', 'positive'], #Correspndingly giving labels\n",
    "    colors = ['red', 'purple'], # Corresponding colors\n",
    "    explode = (0.15, 0), #How much the gap should me there between the pies\n",
    "    startangle = 0) #what start angle should be given\n",
    "plt.axis('equal')\n",
    "plt.show()"
   ]
  },
  {
   "cell_type": "code",
   "execution_count": 69,
   "metadata": {
    "scrolled": true
   },
   "outputs": [
    {
     "data": {
      "image/png": "[encoded data removed]",
      "text/plain": [
       "<Figure size 432x288 with 1 Axes>"
      ]
     },
     "metadata": {},
     "output_type": "display_data"
    }
   ],
   "source": [
    "import matplotlib.pyplot as plt\n",
    "import pandas as pd\n",
    "#import numpy as np\n",
    "objects = ('Positive', 'Negative')\n",
    "y_pos = np.arange(len(objects))\n",
    "performance = [positive,negative]\n",
    "\n",
    "plt.bar(y_pos, performance, align='center', alpha=0.75, color=['green', 'red'])\n",
    "plt.xticks(y_pos, objects)\n",
    "plt.xlabel('Type')\n",
    "plt.ylabel('Number of Reviews')\n",
    "plt.title('Feedback Distribution')\n",
    "\n",
    "plt.show()"
   ]
  },
  {
   "cell_type": "code",
   "execution_count": 79,
   "metadata": {
    "scrolled": false
   },
   "outputs": [
    {
     "data": {
      "image/png": "[encoded data removed]",
      "text/plain": [
       "<Figure size 640x480 with 1 Axes>"
      ]
     },
     "metadata": {},
     "output_type": "display_data"
    }
   ],
   "source": [
    "import matplotlib.pyplot as plt; plt.rcdefaults()\n",
    "\n",
    "\n",
    "objects = ('KNN-5', 'KNN-3', 'Naive Bayes', 'SVM')\n",
    "y_pos = np.arange(len(objects))\n",
    "performance =[knn5Acc, knn3Acc, naivebAcc, svmAcc]\n",
    "\n",
    "plt.bar(y_pos, performance, align='center', alpha=0.5)\n",
    "plt.xticks(y_pos, objects)\n",
    "plt.xlabel('Model')\n",
    "plt.ylabel('Accuracy')\n",
    "plt.title('Model Accuracy')\n",
    "\n",
    "plt.show()"
   ]
  },
  {
   "cell_type": "markdown",
   "metadata": {},
   "source": [
    "###   20. Compare the model performance and select a best model and briefly discuss why this is the best model\n",
    "\n",
    "+ The accuracy 0.8396 was obtained for the K Nearest Neighbour Model, where n = 5. \n",
    "The precision for predicting if it is a positive comment is very high and is 0.97 and the recall too is of a high value of 0.86. But the precision for predicting if its a negative review low. Recall is 0.69.\n",
    "\n",
    "+ We get an accuracy of 0.8318 when using the KNN model with n= 3. It too has a high precision and recall when predicting if it is a positive comment or not. We see a low precision  and recall for predicting negative comments though.\n",
    "\n",
    "+ We get a very low accuracy of  0.3812 when using Gaussian Naive Bayes model.  We get a precision of 0.81 for predicting negative comments but a recall of 0.21. For positive comments we get precision of only 0.28 with a high recall of 0.86.\n",
    "\n",
    "+ The Support Vector Machine Classification gives a high accuracy of 0.88606 with a precision of 0.81 for predicting negative comments, with low false positive values, and a recall of 0.86 when predicting positive comments. But we have a few false negatives for negative review prediction as recall is 0.21.\n",
    "\n",
    "+ As Support Vector Machine Classification gives the highest accuracy, and gives good precision and recall values, we conclude that the best model is this.  \n"
   ]
  },
  {
   "cell_type": "markdown",
   "metadata": {},
   "source": [
    "### 21. How can you improve the performance of your models?\n",
    "\n",
    "+ Treat Misssing Values\n",
    "+ it is important to treat missing values and outlier values well. The presence of these leads to inaccurate predictions\n",
    "\n",
    "+ Feature Selection\n",
    "\n",
    "+ Multiple algorithms\n",
    "\n",
    "+ Cross validations\n",
    "\n",
    "+ Feature engineering\n",
    "\n",
    "\n",
    "#### To increase performance of naive bayes model, \n",
    "\n",
    "+ reduce the amount of data  that is given to train\n",
    "+ use the Fisher Method to increase the accuracy\n",
    "\n",
    "### To increase performance of KNN model\n",
    "+ do not give a too high k value or a too low k value\n",
    "+ test different k values and get the one with the best accuracy\n",
    "\n",
    "### To increase performance of SVM model\n",
    "+ change the kernel type and select the best kernel type\n",
    "+ reduce the size of test dataset and increase size of train dataset as svm needs a large dataset to get a high accurate model\n"
   ]
  },
  {
   "cell_type": "code",
   "execution_count": null,
   "metadata": {},
   "outputs": [],
   "source": []
  }
 ],
 "metadata": {
  "kernelspec": {
   "display_name": "Python 3",
   "language": "python",
   "name": "python3"
  },
  "language_info": {
   "codemirror_mode": {
    "name": "ipython",
    "version": 3
   },
   "file_extension": ".py",
   "mimetype": "text/x-python",
   "name": "python",
   "nbconvert_exporter": "python",
   "pygments_lexer": "ipython3",
   "version": "3.8.3"
  }
 },
 "nbformat": 4,
 "nbformat_minor": 4
}
